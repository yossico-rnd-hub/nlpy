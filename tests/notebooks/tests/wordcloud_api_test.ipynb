{
 "cells": [
  {
   "cell_type": "code",
   "execution_count": 3,
   "metadata": {},
   "outputs": [
    {
     "name": "stdout",
     "output_type": "stream",
     "text": [
      "{\n",
      "    \"thrun\": 1,\n",
      "    \"now the co - founder and ceo\": 1,\n",
      "    \"google\": 1,\n",
      "    \"the company\": 1,\n",
      "    \"-PRON- hand\": 1,\n",
      "    \"sebastian thrun\": 1,\n",
      "    \"startup udacity\": 1,\n",
      "    \"recode\": 1,\n",
      "    \"online high education\": 1,\n",
      "    \"few people\": 1,\n",
      "    \"very senior ceo\": 1,\n",
      "    \"major american \\n car company\": 1,\n",
      "    \"an interview\": 1,\n",
      "    \"self - drive car\": 1\n",
      "}\n"
     ]
    }
   ],
   "source": [
    "import requests\n",
    "import json\n",
    "\n",
    "file = '../../docs/text1'\n",
    "with open(file, 'r') as f:\n",
    "    text = f.read()\n",
    "    # available methods are: 'noun_chunks', 'entities', 'tokens', 'gensim'\n",
    "    data = {'text': text, 'method': 'noun_chunks'}\n",
    "    headers = {'Content-type': 'application/json', 'Accept': 'text/plain'}\n",
    "    url = 'http://localhost:5000/nlp/wordmap'\n",
    "    res = requests.post(url, data=json.dumps(data), headers=headers)\n",
    "    print(res.text)"
   ]
  }
 ],
 "metadata": {
  "kernelspec": {
   "display_name": "env",
   "language": "python",
   "name": "env"
  },
  "language_info": {
   "codemirror_mode": {
    "name": "ipython",
    "version": 3
   },
   "file_extension": ".py",
   "mimetype": "text/x-python",
   "name": "python",
   "nbconvert_exporter": "python",
   "pygments_lexer": "ipython3",
   "version": "3.5.2"
  },
  "latex_envs": {
   "LaTeX_envs_menu_present": true,
   "autoclose": false,
   "autocomplete": true,
   "bibliofile": "biblio.bib",
   "cite_by": "apalike",
   "current_citInitial": 1,
   "eqLabelWithNumbers": true,
   "eqNumInitial": 1,
   "hotkeys": {
    "equation": "Ctrl-E",
    "itemize": "Ctrl-I"
   },
   "labels_anchors": false,
   "latex_user_defs": false,
   "report_style_numbering": false,
   "user_envs_cfg": false
  }
 },
 "nbformat": 4,
 "nbformat_minor": 2
}
