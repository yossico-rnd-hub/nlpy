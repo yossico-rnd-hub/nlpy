{
 "cells": [
  {
   "cell_type": "markdown",
   "metadata": {},
   "source": [
    "# Topic modeling using Gensim LDA\n",
    "- TODO\n",
    "  - exclude entitiy words (e.g: DATES)\n",
    "  - exclude noisy words (e.g: suspect)\n",
    "  - TFIDF (exclude very common words)"
   ]
  },
  {
   "cell_type": "markdown",
   "metadata": {
    "heading_collapsed": true
   },
   "source": [
    "## Load LAPD newsgroups data\n",
    "prepare the dataset we’ll be working with.\n",
    "<br>(array of texts of news titles)\n"
   ]
  },
  {
   "cell_type": "code",
   "execution_count": 1,
   "metadata": {
    "hidden": true
   },
   "outputs": [
    {
     "name": "stdout",
     "output_type": "stream",
     "text": [
      "data: 13956 documens\n",
      "(top 5)\n",
      "Two Suspects Arrested in Home Invasion Robbery    NR17032ma \n",
      "Suspect Arrested for Chinatown Murders    NR17033ml \n",
      "Hit and Run Collision Leaves Pedestrian Dead    NR17033ne \n",
      "Fatal Stabbing of a 27-year-old Man   NR17035im \n",
      "Press Conference   NA17014ma\n"
     ]
    }
   ],
   "source": [
    "import os\n",
    "import csv\n",
    "\n",
    "data = []\n",
    "dirname = '../../../out'\n",
    "if os.path.exists(dirname):   \n",
    "    for filename in os.listdir(dirname):\n",
    "        filename = os.path.join(dirname, filename)\n",
    "        with open(filename, 'r') as csv_file:\n",
    "            reader = csv.reader(csv_file)\n",
    "            next(reader, None)\n",
    "            for row in reader:\n",
    "                data.append(row[0])\n",
    "\n",
    "# print first 5 titles\n",
    "NUM_DOCUMENTS = len(data)\n",
    "print('data:', NUM_DOCUMENTS, 'documens')\n",
    "print('(top 5)')\n",
    "print(' \\n'.join(data[:5]))"
   ]
  },
  {
   "cell_type": "markdown",
   "metadata": {
    "heading_collapsed": true
   },
   "source": [
    "## Preprocessing"
   ]
  },
  {
   "cell_type": "markdown",
   "metadata": {
    "hidden": true
   },
   "source": [
    "### Remove emails and newline characters using regex"
   ]
  },
  {
   "cell_type": "code",
   "execution_count": 2,
   "metadata": {
    "hidden": true
   },
   "outputs": [
    {
     "name": "stdout",
     "output_type": "stream",
     "text": [
      "(top 5)\n",
      "Two Suspects Arrested in Home Invasion Robbery NR17032ma \n",
      "Suspect Arrested for Chinatown Murders NR17033ml \n",
      "Hit and Run Collision Leaves Pedestrian Dead NR17033ne \n",
      "Fatal Stabbing of a 27-year-old Man NR17035im \n",
      "Press Conference NA17014ma\n"
     ]
    }
   ],
   "source": [
    "import re\n",
    "\n",
    "def regex_clean(data):\n",
    "    data_clean = data\n",
    "    \n",
    "    # Remove Emails\n",
    "    data_clean = [re.sub('\\S*@\\S*\\s?', 'EMAIL', sent) for sent in data_clean]\n",
    "\n",
    "    # Remove new line characters\n",
    "    data_clean = [re.sub('\\s+', ' ', sent) for sent in data_clean]\n",
    "\n",
    "    # Remove distracting single quotes\n",
    "    data_clean = [re.sub(\"\\'\", \"\", sent) for sent in data_clean]\n",
    "    \n",
    "    return data_clean\n",
    "\n",
    "data = regex_clean(data)\n",
    "print('(top 5)')\n",
    "print(' \\n'.join(data[:5]))"
   ]
  },
  {
   "cell_type": "markdown",
   "metadata": {
    "hidden": true
   },
   "source": [
    "### Tokenize, lowercase and clean-up text"
   ]
  },
  {
   "cell_type": "code",
   "execution_count": 3,
   "metadata": {
    "hidden": true
   },
   "outputs": [
    {
     "name": "stdout",
     "output_type": "stream",
     "text": [
      "['two', 'suspects', 'arrested', 'in', 'home', 'invasion', 'robbery', 'nr', 'ma']\n",
      "['suspect', 'arrested', 'for', 'chinatown', 'murders', 'nr', 'ml']\n",
      "['hit', 'and', 'run', 'collision', 'leaves', 'pedestrian', 'dead', 'nr', 'ne']\n",
      "['fatal', 'stabbing', 'of', 'year', 'old', 'man', 'nr', 'im']\n",
      "['press', 'conference', 'na', 'ma']\n"
     ]
    }
   ],
   "source": [
    "# tokenize each sentence into a list of words, removing punctuations and unnecessary characters altogether.\n",
    "# Gensim’s simple_preprocess() is great for this. Additionally set deacc=True to remove the punctuations.\n",
    "\n",
    "import gensim\n",
    "from gensim.utils import simple_preprocess\n",
    "\n",
    "def tokenize(data):\n",
    "    return [simple_preprocess(text, deacc=True) for text in data]\n",
    "\n",
    "data_words = tokenize(data)\n",
    "\n",
    "# print first 5 processed titles\n",
    "for tokens in data_words[:5]:\n",
    "    print(tokens)"
   ]
  },
  {
   "cell_type": "markdown",
   "metadata": {
    "hidden": true
   },
   "source": [
    "### Create Bigram and Trigram Models"
   ]
  },
  {
   "cell_type": "code",
   "execution_count": 4,
   "metadata": {
    "hidden": true
   },
   "outputs": [
    {
     "name": "stderr",
     "output_type": "stream",
     "text": [
      "/home/yossi/dev/py/nlpy/env/lib/python3.5/site-packages/gensim/models/phrases.py:598: UserWarning: For a faster implementation, use the gensim.models.phrases.Phraser class\n",
      "  warnings.warn(\"For a faster implementation, use the gensim.models.phrases.Phraser class\")\n"
     ]
    },
    {
     "name": "stdout",
     "output_type": "stream",
     "text": [
      "['press_conference', 'na', 'ma']\n"
     ]
    }
   ],
   "source": [
    "# Bigrams are two words frequently occurring together in the document. \n",
    "# Trigrams are 3 words frequently occurring.\n",
    "# Some examples in our example are: ‘front_bumper’, ‘oil_leak’, ‘maryland_college_park’ etc.\n",
    "\n",
    "# Build the bigram and trigram models\n",
    "bigram = gensim.models.Phrases(data_words, min_count=3, threshold=100) # higher threshold fewer phrases.\n",
    "trigram = gensim.models.Phrases(bigram[data_words], threshold=100)  \n",
    "\n",
    "# Faster way to get a sentence clubbed as a trigram/bigram\n",
    "bigram_mod = gensim.models.phrases.Phraser(bigram)\n",
    "trigram_mod = gensim.models.phrases.Phraser(trigram)\n",
    "\n",
    "# See trigram example\n",
    "print(trigram_mod[bigram_mod[data_words[4]]])"
   ]
  },
  {
   "cell_type": "markdown",
   "metadata": {
    "hidden": true
   },
   "source": [
    "### Remove Stopwords, Make Bigrams and Lemmatize"
   ]
  },
  {
   "cell_type": "code",
   "execution_count": 5,
   "metadata": {
    "hidden": true
   },
   "outputs": [
    {
     "name": "stdout",
     "output_type": "stream",
     "text": [
      "[['two', 'suspects', 'arrested', 'home_invasion', 'robbery', 'nr']]\n"
     ]
    }
   ],
   "source": [
    "# Define functions for stopwords, bigrams, trigrams and lemmatization\n",
    "\n",
    "# NLTK Stop words\n",
    "from nltk.corpus import stopwords\n",
    "stop_words = stopwords.words('english')\n",
    "stop_words.extend(['from', 'subject', 're', 'edu', 'use', 'on'])\n",
    "\n",
    "def remove_stopwords(data_words):\n",
    "    return [[word for word in words if word not in stop_words] for words in data_words]\n",
    "\n",
    "def make_bigrams(data_words):\n",
    "    return [bigram_mod[words] for words in data_words]\n",
    "\n",
    "def make_trigrams(data_words):\n",
    "    return [trigram_mod[bigram_mod[words]] for words in data_words]\n",
    "\n",
    "from nltk.stem import WordNetLemmatizer\n",
    "lemmatizer = WordNetLemmatizer()\n",
    "def pos_allowed(word):\n",
    "    return get_pos(word) in ['n', 'r', 'v', 'j']\n",
    "\n",
    "def lemmatize(data_words):\n",
    "    data_words_lemmatized = []\n",
    "    for words in data_words:\n",
    "        lemmatized = []\n",
    "        for word in words:\n",
    "#             pos = get_pos(word)\n",
    "            lemmatized.append(word)\n",
    "        data_words_lemmatized.append(lemmatized)\n",
    "    return data_words_lemmatized\n",
    "\n",
    "# call the functions above in order.\n",
    "def preprocess(data_words):\n",
    "                                      \n",
    "    # Remove Stop Words\n",
    "    data_words_nostops = remove_stopwords(data_words)\n",
    "\n",
    "    # Form Bigrams\n",
    "    data_words_trigrams = make_trigrams(data_words_nostops)\n",
    "\n",
    "    # Do lemmatization keeping only noun, adj, vb, adv\n",
    "    data_lemmatized = lemmatize(data_words_trigrams)\n",
    "    \n",
    "    return data_lemmatized\n",
    "\n",
    "data_lemmatized = preprocess(data_words)\n",
    "print(data_lemmatized[:1])"
   ]
  },
  {
   "cell_type": "markdown",
   "metadata": {
    "heading_collapsed": true
   },
   "source": [
    "## Create the Dictionary and Corpus needed for Topic Modeling"
   ]
  },
  {
   "cell_type": "code",
   "execution_count": 6,
   "metadata": {
    "hidden": true
   },
   "outputs": [
    {
     "name": "stdout",
     "output_type": "stream",
     "text": [
      "['california', 'state', 'university', 'northridge', 'study', 'results', 'na', 'ml']\n",
      "[(7, 1), (23, 1), (53, 1), (54, 1), (55, 1), (56, 1), (57, 1), (58, 1)]\n",
      "\n",
      "id2word[0]: arrested\n",
      "\n",
      "[[('arrested', 1), ('home_invasion', 1), ('nr', 1), ('robbery', 1), ('suspects', 1), ('two', 1)], [('arrested', 1), ('nr', 1), ('chinatown', 1), ('ml', 1), ('murders', 1), ('suspect', 1)], [('nr', 1), ('collision', 1), ('dead', 1), ('hit', 1), ('leaves', 1), ('ne', 1), ('pedestrian', 1), ('run', 1)], [('nr', 1), ('fatal', 1), ('im', 1), ('man', 1), ('old', 1), ('stabbing', 1), ('year', 1)], [('na', 1), ('press_conference', 1)]]\n"
     ]
    }
   ],
   "source": [
    "# The two main inputs to the LDA topic model are the dictionary(id2word) and the corpus.\n",
    "\n",
    "from gensim import corpora\n",
    "\n",
    "# Create Dictionary\n",
    "id2word = corpora.Dictionary(data_lemmatized)\n",
    "\n",
    "# Create Corpus\n",
    "data_words = data_lemmatized\n",
    "\n",
    "# Term Document Frequency\n",
    "bow_corpus = [id2word.doc2bow(words) for words in data_words]\n",
    "\n",
    "# View\n",
    "# Gensim creates a unique id for each word in the document. \n",
    "# The produced corpus shown below is a mapping of (word_id, word_frequency).\n",
    "# This is used as the input by the LDA model.\n",
    "doc_id = 10\n",
    "print(data_words[doc_id])\n",
    "print(bow_corpus[doc_id])\n",
    "\n",
    "# If you want to see what word a given id corresponds to, pass the id as a key to the dictionary.\n",
    "print()\n",
    "print('id2word[0]:', id2word[0])\n",
    "\n",
    "# Human readable format of corpus (term-frequency)\n",
    "print()\n",
    "print([[(id2word[id], freq) for id, freq in cp] for cp in bow_corpus[:5]])"
   ]
  },
  {
   "cell_type": "markdown",
   "metadata": {
    "heading_collapsed": true
   },
   "source": [
    "## Building the Topic Model"
   ]
  },
  {
   "cell_type": "code",
   "execution_count": 7,
   "metadata": {
    "hidden": true
   },
   "outputs": [],
   "source": [
    "# We have everything required to train the LDA model. \n",
    "# In addition to the corpus and dictionary, you need to provide the number of topics as well.\n",
    "# Apart from that, alpha and eta are hyperparameters that affect sparsity of the topics. \n",
    "# According to the Gensim docs, both defaults to 1.0/num_topics prior.\n",
    "# chunksize is the number of documents to be used in each training chunk. \n",
    "# update_every determines how often the model parameters should be updated \n",
    "# passes is the total number of training passes.\n",
    "\n",
    "# Build LDA model\n",
    "NUM_TOPICS = 20\n",
    "lda_model = gensim.models.LdaMulticore(corpus=bow_corpus,\n",
    "                                           id2word=id2word,\n",
    "                                           num_topics=NUM_TOPICS, \n",
    "                                           random_state=100,\n",
    "                                           #update_every=1,\n",
    "                                           chunksize=100,\n",
    "                                           passes=10,\n",
    "                                           #alpha='auto',\n",
    "                                           per_word_topics=True)"
   ]
  },
  {
   "cell_type": "markdown",
   "metadata": {
    "heading_collapsed": true
   },
   "source": [
    "## View the topics in LDA model"
   ]
  },
  {
   "cell_type": "code",
   "execution_count": 8,
   "metadata": {
    "hidden": true
   },
   "outputs": [
    {
     "name": "stdout",
     "output_type": "stream",
     "text": [
      "[(0,\n",
      "  '0.147*\"murder\" + 0.069*\"suspect\" + 0.069*\"detectives\" + 0.057*\"nr\" + '\n",
      "  '0.050*\"arrested\" + 0.049*\"arrest\" + 0.034*\"seek\" + 0.022*\"suspects\" + '\n",
      "  '0.020*\"captured\" + 0.019*\"case\"'),\n",
      " (1,\n",
      "  '0.169*\"officer\" + 0.140*\"shooting\" + 0.100*\"involved\" + 0.036*\"division\" + '\n",
      "  '0.034*\"nrf\" + 0.030*\"area\" + 0.024*\"nr\" + 0.022*\"officers\" + '\n",
      "  '0.014*\"suspect\" + 0.014*\"newton\"'),\n",
      " (2,\n",
      "  '0.033*\"children\" + 0.026*\"theft\" + 0.025*\"nr\" + 0.023*\"publics_help\" + '\n",
      "  '0.019*\"arrests\" + 0.018*\"two\" + 0.017*\"serial\" + 0.017*\"jr\" + 0.016*\"event\" '\n",
      "  '+ 0.016*\"needed\"'),\n",
      " (3,\n",
      "  '0.117*\"traffic\" + 0.090*\"collision\" + 0.075*\"fatal\" + 0.068*\"dies\" + '\n",
      "  '0.038*\"nr\" + 0.035*\"south\" + 0.025*\"station\" + 0.018*\"custody\" + '\n",
      "  '0.016*\"woman\" + 0.016*\"victim\"'),\n",
      " (4,\n",
      "  '0.086*\"chief\" + 0.065*\"na\" + 0.054*\"lapd\" + 0.037*\"community\" + '\n",
      "  '0.026*\"police\" + 0.021*\"school\" + 0.019*\"city\" + 0.018*\"bratton\" + '\n",
      "  '0.017*\"charlie_beck\" + 0.014*\"la\"'),\n",
      " (5,\n",
      "  '0.098*\"homicide\" + 0.065*\"investigation\" + 0.056*\"detectives\" + '\n",
      "  '0.052*\"area\" + 0.048*\"death\" + 0.034*\"investigate\" + '\n",
      "  '0.028*\"news_conference\" + 0.027*\"rampart\" + 0.025*\"results\" + 0.022*\"nr\"'),\n",
      " (6,\n",
      "  '0.115*\"hit\" + 0.114*\"run\" + 0.069*\"driver\" + 0.052*\"th\" + 0.050*\"nr\" + '\n",
      "  '0.037*\"pedestrian\" + 0.032*\"killed\" + 0.031*\"street\" + 0.030*\"annual\" + '\n",
      "  '0.017*\"struck\"'),\n",
      " (7,\n",
      "  '0.078*\"shooting\" + 0.077*\"one\" + 0.070*\"gang\" + 0.067*\"two\" + 0.039*\"dead\" '\n",
      "  '+ 0.034*\"leaves\" + 0.029*\"life\" + 0.025*\"injured\" + 0.025*\"related\" + '\n",
      "  '0.023*\"car\"'),\n",
      " (8,\n",
      "  '0.055*\"announce\" + 0.054*\"lapd\" + 0.027*\"fatally\" + 0.022*\"seeks\" + '\n",
      "  '0.022*\"locating\" + 0.021*\"announces\" + 0.020*\"near\" + 0.016*\"women\" + '\n",
      "  '0.016*\"teen\" + 0.016*\"driving\"'),\n",
      " (9,\n",
      "  '0.147*\"na\" + 0.111*\"lapd\" + 0.075*\"dui\" + 0.056*\"checkpoint\" + '\n",
      "  '0.043*\"sobriety\" + 0.041*\"targets_impaired_drivers\" + 0.039*\"checkpoints\" + '\n",
      "  '0.024*\"saturation_patrols\" + 0.024*\"crime\" + 0.021*\"day\"'),\n",
      " (10,\n",
      "  '0.086*\"reward\" + 0.060*\"offered\" + 0.051*\"na\" + 0.028*\"lapd\" + 0.017*\"new\" '\n",
      "  '+ 0.017*\"murder\" + 0.012*\"media\" + 0.012*\"training\" + 0.012*\"rh\" + '\n",
      "  '0.010*\"lapds\"'),\n",
      " (11,\n",
      "  '0.079*\"nr\" + 0.061*\"caught\" + 0.060*\"burglary\" + 0.026*\"camera\" + '\n",
      "  '0.024*\"video\" + 0.018*\"beck\" + 0.016*\"tape\" + 0.015*\"suspects\" + '\n",
      "  '0.015*\"residential\" + 0.014*\"robbers\"'),\n",
      " (12,\n",
      "  '0.173*\"year\" + 0.167*\"old\" + 0.109*\"nr\" + 0.108*\"missing\" + 0.052*\"woman\" + '\n",
      "  '0.050*\"man\" + 0.024*\"critical\" + 0.015*\"female\" + 0.013*\"male\" + '\n",
      "  '0.013*\"girl\"'),\n",
      " (13,\n",
      "  '0.118*\"police\" + 0.089*\"los\" + 0.088*\"angeles\" + 0.064*\"officers\" + '\n",
      "  '0.041*\"lapd\" + 0.028*\"department\" + 0.018*\"community\" + 0.013*\"nr\" + '\n",
      "  '0.010*\"ceremony\" + 0.010*\"commission\"'),\n",
      " (14,\n",
      "  '0.044*\"nr\" + 0.042*\"lapd\" + 0.038*\"ti\" + 0.026*\"na\" + 0.021*\"mission\" + '\n",
      "  '0.021*\"first\" + 0.020*\"stolen\" + 0.019*\"toy\" + 0.018*\"connection\" + '\n",
      "  '0.018*\"law_enforcement\"'),\n",
      " (15,\n",
      "  '0.169*\"man\" + 0.121*\"shot\" + 0.077*\"killed\" + 0.075*\"nr\" + 0.050*\"found\" + '\n",
      "  '0.034*\"death\" + 0.033*\"dead\" + 0.024*\"victim\" + 0.017*\"stabbed\" + '\n",
      "  '0.015*\"murdered\"'),\n",
      " (16,\n",
      "  '0.139*\"suspect\" + 0.093*\"nr\" + 0.079*\"robbery\" + 0.040*\"arrested\" + '\n",
      "  '0.039*\"sf\" + 0.039*\"sought\" + 0.037*\"suspects\" + 0.031*\"sexual_assault\" + '\n",
      "  '0.026*\"armed\" + 0.021*\"update\"'),\n",
      " (17,\n",
      "  '0.097*\"hollywood\" + 0.029*\"ends\" + 0.028*\"southwest\" + 0.027*\"baby\" + '\n",
      "  '0.027*\"gun\" + 0.026*\"stop\" + 0.026*\"violence\" + 0.026*\"identified\" + '\n",
      "  '0.024*\"freeway\" + 0.023*\"nr\"'),\n",
      " (18,\n",
      "  '0.097*\"nr\" + 0.044*\"pv\" + 0.042*\"child\" + 0.038*\"help\" + 0.029*\"arrested\" + '\n",
      "  '0.028*\"public\" + 0.026*\"person\" + 0.024*\"operation\" + 0.022*\"holiday\" + '\n",
      "  '0.015*\"identifying\"'),\n",
      " (19,\n",
      "  '0.073*\"na\" + 0.040*\"valley\" + 0.037*\"safety\" + 0.034*\"west\" + 0.033*\"lapd\" '\n",
      "  '+ 0.032*\"bureau\" + 0.030*\"enforcement\" + 0.025*\"central\" + 0.022*\"area\" + '\n",
      "  '0.022*\"traffic\"')]\n"
     ]
    }
   ],
   "source": [
    "# The above LDA model is built with N different topics where each topic is a combination of keywords \n",
    "# and each keyword contributes a certain weightage to the topic.\n",
    "\n",
    "# We can see the keywords for each topic and the weightage(importance) of each keyword using \n",
    "# lda_model.print_topics()\n",
    "\n",
    "# Print the Keyword in the topics\n",
    "from pprint import pprint\n",
    "pprint(lda_model.print_topics())\n",
    "# lda_model.print_topics()\n",
    "doc_lda = lda_model[bow_corpus]"
   ]
  },
  {
   "cell_type": "markdown",
   "metadata": {},
   "source": [
    "## Compute Model Perplexity and Coherence Score"
   ]
  },
  {
   "cell_type": "code",
   "execution_count": 9,
   "metadata": {},
   "outputs": [
    {
     "name": "stdout",
     "output_type": "stream",
     "text": [
      "\n",
      "Perplexity:  -6.898759253464402\n",
      "\n",
      "Coherence Score:  0.40491790517879284\n"
     ]
    }
   ],
   "source": [
    "# Model perplexity and topic coherence provide a convenient measure to judge how good a given topic model is. \n",
    "# In my experience, topic coherence score, in particular, has been more helpful.\n",
    "\n",
    "from gensim.models.coherencemodel import CoherenceModel\n",
    "\n",
    "# Compute Perplexity\n",
    "print('\\nPerplexity: ', lda_model.log_perplexity(bow_corpus))  # a measure of how good the model is. lower the better.\n",
    "\n",
    "# Compute Coherence Score\n",
    "# https://rare-technologies.com/what-is-topic-coherence/\n",
    "coherence_model_lda = CoherenceModel(model=lda_model, texts=data_lemmatized, dictionary=id2word, coherence='c_v')\n",
    "coherence_lda = coherence_model_lda.get_coherence()\n",
    "print('\\nCoherence Score: ', coherence_lda)"
   ]
  },
  {
   "cell_type": "markdown",
   "metadata": {},
   "source": [
    "## Visualize the topics-keywords"
   ]
  },
  {
   "cell_type": "code",
   "execution_count": 10,
   "metadata": {},
   "outputs": [
    {
     "name": "stderr",
     "output_type": "stream",
     "text": [
      "/home/yossi/dev/py/nlpy/env/lib/python3.5/site-packages/pyLDAvis/_prepare.py:257: FutureWarning: Sorting because non-concatenation axis is not aligned. A future version\n",
      "of pandas will change to not sort by default.\n",
      "\n",
      "To accept the future behavior, pass 'sort=False'.\n",
      "\n",
      "To retain the current behavior and silence the warning, pass 'sort=True'.\n",
      "\n",
      "  return pd.concat([default_term_info] + list(topic_dfs))\n"
     ]
    },
    {
     "data": {
      "text/html": [
       "\n",
       "<link rel=\"stylesheet\" type=\"text/css\" href=\"https://cdn.rawgit.com/bmabey/pyLDAvis/files/ldavis.v1.0.0.css\">\n",
       "\n",
       "\n",
       "<div id=\"ldavis_el55541397037005447523025344415\"></div>\n",
       "<script type=\"text/javascript\">\n",
       "\n",
       "var ldavis_el55541397037005447523025344415_data = {\"topic.order\": [13, 14, 16, 17, 10, 8, 6, 2, 7, 4, 5, 1, 20, 11, 19, 3, 12, 15, 9, 18], \"R\": 30, \"mdsDat\": {\"cluster\": [1, 1, 1, 1, 1, 1, 1, 1, 1, 1, 1, 1, 1, 1, 1, 1, 1, 1, 1, 1], \"topics\": [1, 2, 3, 4, 5, 6, 7, 8, 9, 10, 11, 12, 13, 14, 15, 16, 17, 18, 19, 20], \"x\": [0.16518710968344763, -0.16407295662524363, 0.16945212894505526, 0.13610950357134396, -0.23371059865473262, 0.08564928609774311, 0.05131278238537554, -0.005367247073557834, 0.043497778861356494, 0.03920508288195625, -0.20837261555121217, 0.15368731400353766, -0.22599760248526868, -0.16542516145479252, 0.11602171342479278, 0.07845690418646924, 0.12436566086193598, -0.0778848098669884, -0.10357405502778189, 0.021459781836564665], \"Freq\": [8.550251007080078, 7.231359958648682, 6.821566581726074, 6.342556476593018, 6.08588171005249, 5.898769378662109, 5.265902042388916, 5.123642444610596, 4.9387736320495605, 4.808573246002197, 4.735947608947754, 4.657381534576416, 4.571177005767822, 4.4023847579956055, 4.386737823486328, 3.9061684608459473, 3.490347385406494, 3.246455192565918, 3.1270737648010254, 2.409048080444336], \"y\": [-0.15631224285581796, 0.01956197312974717, -0.06296670693064713, -0.1144654391817332, -0.08946863423627333, 0.2729205898330018, 0.22218541421086455, 0.2575489253271863, -0.0977524345716659, -0.0109090965752168, -0.05152797583870587, -0.04480067116550272, -0.011284369853443138, -0.04283838595187592, -0.07649375591254107, 0.04506459255530513, -0.06145123117435928, -0.06551740298761582, 0.011387614439953276, 0.05711923773933676]}, \"token.table\": {\"Topic\": [1, 16, 20, 7, 11, 4, 7, 12, 14, 13, 6, 1, 10, 15, 5, 10, 1, 5, 7, 9, 12, 13, 17, 18, 18, 4, 3, 10, 3, 5, 10, 2, 2, 17, 9, 19, 8, 19, 2, 9, 13, 18, 6, 16, 18, 6, 16, 5, 17, 5, 7, 8, 9, 11, 13, 18, 20, 3, 7, 20, 4, 17, 12, 16, 3, 4, 6, 9, 12, 15, 16, 17, 18, 19, 20, 16, 10, 13, 1, 12, 3, 7, 8, 14, 7, 19, 17, 2, 4, 12, 2, 10, 12, 16, 13, 20, 13, 17, 13, 14, 20, 11, 17, 18, 12, 18, 12, 5, 9, 1, 3, 4, 5, 9, 14, 4, 17, 18, 15, 15, 15, 9, 20, 19, 13, 3, 18, 1, 10, 20, 11, 12, 9, 4, 20, 16, 13, 15, 17, 16, 14, 17, 17, 11, 3, 16, 3, 12, 7, 7, 13, 17, 17, 6, 12, 13, 8, 4, 6, 12, 3, 6, 8, 14, 18, 20, 12, 16, 4, 17, 20, 20, 10, 18, 13, 18, 2, 8, 12, 2, 2, 11, 13, 5, 5, 11, 1, 15, 18, 14, 4, 18, 3, 16, 18, 7, 17, 20, 2, 3, 11, 12, 16, 1, 2, 3, 5, 7, 8, 9, 10, 11, 12, 14, 15, 16, 17, 18, 6, 20, 9, 16, 20, 9, 9, 10, 7, 16, 2, 13, 2, 11, 13, 14, 20, 9, 5, 7, 13, 5, 13, 7, 9, 6, 18, 3, 15, 16, 6, 11, 20, 12, 15, 2, 12, 1, 8, 5, 7, 5, 14, 1, 17, 9, 9, 4, 7, 10, 6, 13, 1, 5, 10, 3, 6, 3, 7, 7, 10, 2, 19, 2, 8, 13, 7, 12, 15, 16, 13, 12, 8, 20, 10, 10, 14, 3, 16, 14, 17, 5, 7, 8, 10, 13, 14, 1, 3, 4, 5, 9, 11, 12, 13, 14, 15, 17, 20, 9, 2, 17, 6, 9, 10, 7, 14, 15, 6, 7, 8, 9, 10, 11, 18, 19, 9, 8, 19, 5, 9, 10, 9, 5, 8, 8, 10, 6, 13, 8, 1, 19, 16, 15, 6, 15, 16, 19, 20, 13, 1, 4, 16, 10, 13, 13, 1, 6, 10, 12, 19, 1, 10, 12, 1, 3, 6, 20, 1, 16, 20, 11, 11, 16, 20, 14, 18, 2, 13, 4, 18, 5, 8, 17, 2, 11, 3, 17, 16, 2, 20, 3, 8, 17, 8, 1, 6, 1, 3, 4, 5, 9, 10, 15, 11, 1, 16, 4, 19, 10, 4, 20, 4, 17, 1, 1, 18, 16, 2, 7, 12, 15, 9, 18, 12, 9, 17, 19, 15, 16, 7, 15, 2, 8, 11, 20, 1, 3, 6, 10, 19, 6, 13, 3, 7, 5, 2, 2, 2, 17, 8, 10, 18, 11, 18, 7, 9, 11, 12, 6, 19, 20, 15, 15, 16, 11, 11, 18, 1, 3, 5, 6, 9, 11, 13, 14, 7, 10, 14, 5, 14, 1, 12, 16, 19, 3, 4, 6, 6, 9, 12, 14, 3, 19, 15, 16, 7, 7, 7, 7, 5, 8, 8, 19, 8, 1, 5, 6, 12, 13, 16, 17, 20, 1, 4, 5, 8, 9, 11, 13, 14, 15, 20, 1, 10, 7, 15, 2, 4, 8, 11, 14, 16, 18, 19, 6, 1, 6, 8, 12, 15, 19, 15, 4, 15, 17, 12, 1, 3, 9, 18, 9, 1, 6, 15, 17, 8, 15, 15, 17, 1, 2, 3, 4, 5, 6, 7, 9, 10, 11, 12, 14, 15, 16, 10, 11, 13, 16, 10, 2, 4, 5, 7, 8, 10, 11, 12, 13, 14, 15, 16, 18, 19, 14, 13, 10, 12, 2, 14, 18, 20, 5, 9, 7, 16, 7, 3, 6, 9, 6, 1, 13, 5, 6, 4, 19, 11, 16, 9, 16, 19, 12, 2, 1, 4, 5, 6, 8, 9, 11, 12, 13, 14, 17, 20, 6, 2, 7, 18, 8, 1, 1, 3, 5, 11, 10, 16, 5, 6, 7, 13, 11, 19, 14, 18, 11, 1, 2, 6, 6, 11, 13, 2, 5, 9, 13, 19, 6, 19, 4, 3, 17, 16, 14, 1, 15, 18, 1, 5, 17, 1, 3, 4, 5, 7, 9, 11, 12, 17, 18, 19, 20, 11, 13, 20, 11, 1, 16, 8, 13, 14, 13, 9, 10, 1, 2, 7, 16, 6, 18, 4, 12, 14, 3, 2, 4, 5, 9, 11, 13, 14, 18, 19, 14, 5, 18, 11, 18, 1, 2, 3, 5, 9, 12, 13, 15, 17, 18, 19, 19, 1, 15, 16, 16, 15, 18, 2, 7, 11, 14, 8, 7, 7, 8, 2, 3, 4, 20, 5, 8, 12, 8, 1, 2, 3, 4, 6, 7, 8, 9, 10, 11, 12, 13, 14, 15, 16, 17, 18, 19, 20, 8, 8, 13, 8, 1, 4, 5, 11, 18, 8, 8, 16, 14, 8, 2, 6, 8, 11, 6, 1, 7, 8, 3, 6, 6, 8, 14, 4, 4, 15, 16, 9, 20, 6, 13, 3, 8, 3, 2, 3, 3, 2, 11, 3, 6, 7, 20, 13, 11, 9, 13, 9, 2, 15, 15, 17, 2, 11, 7, 12, 15, 5, 14, 2, 13, 16, 5, 5, 11, 13, 18, 15, 19, 15, 19, 6, 12, 16, 8, 20, 15, 14, 20, 5, 5, 7, 4, 13, 9, 5, 14, 14, 6, 7, 14, 15, 7, 4, 14, 16, 2, 10, 3, 17, 1, 11, 4, 17, 20, 7, 6, 7, 8, 8, 14, 12, 1, 2, 3, 4, 5, 8, 9, 10, 11, 12, 14, 15, 16, 1, 3, 5, 8, 9, 11, 13, 14, 15, 16, 17, 18, 19, 13, 7, 10, 1, 15, 15, 5, 6, 17, 4, 12, 9, 4, 13, 8, 13, 15, 2, 10, 16, 5, 11, 9, 5, 5, 6, 6, 15, 10, 11, 1, 7, 14, 1, 4, 18, 16, 12, 7, 15, 19, 19, 20, 10, 5, 15, 16, 5, 9, 18, 2, 10, 15, 13, 15, 19, 4, 10, 19, 10, 4, 2, 3, 6, 7, 8, 7, 8, 6, 8, 17, 20, 3, 10, 4, 19, 1, 12, 3, 6, 13, 1, 3, 4, 5, 9, 11, 12, 13, 14, 15, 11, 4, 5, 1, 12, 12, 19, 10, 4, 9, 3, 10, 19, 20, 2, 18, 5, 1, 4, 7, 9, 11, 12, 16, 17, 3, 3, 7, 12, 3, 7, 11, 17, 5, 10, 7, 16, 18, 20, 4, 9, 11, 20, 9, 3, 13, 16, 11, 20, 1, 12, 14, 18, 3, 17, 4, 12, 4, 8, 12, 20, 3, 4, 6, 12, 15, 16, 17, 8, 12, 6, 14, 6, 4, 17, 7, 12, 5, 5, 7, 13, 16, 9, 17, 1, 4, 19, 16, 9, 16, 18, 12, 15, 2, 6, 16, 1, 4, 5, 12, 13, 18, 17, 4, 17, 3, 14, 12, 18, 18, 2, 11, 4, 10, 13, 15, 7, 15, 18, 14, 15, 11, 18, 1, 6, 6, 16, 14, 16, 8, 3, 13, 14, 3, 8, 14, 9, 1, 4, 11, 2, 16, 8, 10, 13, 17, 3, 7, 8, 13, 3, 8, 9, 17, 20, 13, 15, 3, 7, 9, 10, 14, 15, 17, 6, 16, 4, 12, 17, 14, 20, 6, 7, 17, 11, 11, 19, 4, 18, 5, 18, 3, 11, 18, 9, 2, 10, 13, 8, 19, 11, 17, 7, 15, 1, 1, 9, 10, 19, 8, 19, 1, 2, 18, 3, 4], \"Term\": [\"abducted\", \"abducted\", \"abduction\", \"abuse\", \"academy\", \"academy_graduation\", \"academy_magnet\", \"accident\", \"activation\", \"activities_league\", \"additional_victims\", \"adult\", \"advisory\", \"advisory\", \"agency\", \"aims\", \"aj\", \"aj\", \"aj\", \"aj\", \"aj\", \"aj\", \"aj\", \"aj\", \"alert\", \"alert_issued\", \"alley\", \"along\", \"altercation\", \"alzheimers\", \"american\", \"angel\", \"angeles\", \"angels\", \"anniversary\", \"announce\", \"announcement\", \"announces\", \"annual\", \"annual\", \"annual\", \"annual\", \"another\", \"anti\", \"anti\", \"anti_bullying\", \"apartment\", \"appreciation\", \"appreciation_day\", \"area\", \"area\", \"area\", \"area\", \"area\", \"area\", \"area\", \"area\", \"argument\", \"argument\", \"argument\", \"armed\", \"armed\", \"arrest\", \"arrest\", \"arrested\", \"arrested\", \"arrested\", \"arrested\", \"arrested\", \"arrested\", \"arrested\", \"arrested\", \"arrested\", \"arrested\", \"arrested\", \"arrests\", \"arrests_made\", \"art\", \"asian\", \"asking\", \"assault\", \"assault\", \"assault\", \"assaults\", \"assist\", \"attack\", \"attacked\", \"attacks\", \"attempt\", \"attempted\", \"attempts\", \"attorney\", \"autistic\", \"auto\", \"automated_photo_red_light\", \"award\", \"awards\", \"awards\", \"awareness\", \"away\", \"baby\", \"back\", \"back\", \"badges\", \"bandit\", \"bandit\", \"bandits\", \"bar\", \"battle\", \"bb\", \"bb\", \"bb\", \"bb\", \"bb\", \"bb\", \"beating\", \"beck\", \"benefit\", \"beware\", \"bicycle\", \"bicyclist\", \"big\", \"block_party\", \"blood\", \"bm\", \"body\", \"book\", \"boy\", \"boyfriend\", \"boyle_heights\", \"bratton\", \"brother\", \"brothers\", \"brutal\", \"brutal\", \"building\", \"bureau\", \"burglar\", \"burglar\", \"burglaries\", \"burglarized\", \"burglars\", \"burglary\", \"burned\", \"burning\", \"bus\", \"business\", \"business\", \"bust\", \"california\", \"california\", \"call\", \"camera\", \"campaign\", \"campaign\", \"cancer\", \"candlelight_vigil\", \"capture\", \"capture\", \"captured\", \"car\", \"car\", \"car\", \"care\", \"cargo\", \"carjacking\", \"case\", \"case\", \"caught\", \"caught\", \"celebrate\", \"celebration\", \"cell_phone\", \"center\", \"central\", \"centurions\", \"ceremony\", \"charge\", \"charged\", \"charges\", \"charity\", \"charlie_beck\", \"check\", \"checkpoint\", \"checkpoints\", \"chief\", \"child\", \"child\", \"child\", \"child_abduction\", \"child_abduction_regional_emergency\", \"child_abduction_regional_emergency\", \"childhood_cancer\", \"children\", \"children\", \"childrens\", \"christmas\", \"church\", \"city\", \"city\", \"city\", \"city\", \"city\", \"cj\", \"cj\", \"cj\", \"cj\", \"cj\", \"cj\", \"cj\", \"cj\", \"cj\", \"cj\", \"cj\", \"cj\", \"cj\", \"cj\", \"cj\", \"claims\", \"club\", \"cn\", \"cn\", \"coach\", \"cold_case\", \"collides\", \"collision\", \"combat\", \"commercial\", \"commission\", \"communities\", \"community\", \"community\", \"community\", \"community\", \"community\", \"condition\", \"conduct\", \"conduct\", \"conduct\", \"conduct_zero_tolerance\", \"conducts\", \"conference\", \"conference\", \"confronted\", \"connection\", \"consent_decree\", \"control\", \"convicted\", \"conviction\", \"cop\", \"cop\", \"cops\", \"counterfeit\", \"county\", \"couple\", \"crackdown\", \"crash\", \"crime\", \"crime\", \"crimes\", \"criminal\", \"critical\", \"critical_condition\", \"critically\", \"crossing\", \"crosswalk\", \"cruiser\", \"custody\", \"dangerous\", \"dangerous_intersections\", \"daughter\", \"day\", \"days\", \"dead\", \"dead\", \"death\", \"death\", \"deaths\", \"demonstration\", \"department\", \"deputy\", \"detective\", \"detective\", \"detective\", \"detectives\", \"detectives\", \"detectives\", \"detectives\", \"devonshire\", \"df\", \"die\", \"die\", \"dies\", \"discovered\", \"discuss\", \"dispute\", \"dispute\", \"distribution\", \"district\", \"division\", \"division\", \"division\", \"division\", \"division\", \"division\", \"dm\", \"dm\", \"dm\", \"dm\", \"dm\", \"dm\", \"dm\", \"dm\", \"dm\", \"dm\", \"dm\", \"dm\", \"dna\", \"dog\", \"dog\", \"domestic_violence\", \"donates\", \"donation\", \"double\", \"double\", \"downtown\", \"drive\", \"drive\", \"drive\", \"drive\", \"drive\", \"drive\", \"drive\", \"drive\", \"driver\", \"drivers\", \"driving\", \"drug\", \"drunk\", \"drunk\", \"drunk_driving\", \"dui\", \"duty\", \"early_morning\", \"early_morning\", \"east\", \"education\", \"efforts\", \"elderly\", \"elderly\", \"elementary_school\", \"emergency\", \"employee\", \"employee\", \"employee\", \"end\", \"ends\", \"enforcement\", \"erupts\", \"escapes\", \"event\", \"facility\", \"fallen\", \"families\", \"family\", \"family\", \"fatal\", \"fatal\", \"fatally\", \"father\", \"father\", \"felony\", \"female\", \"female\", \"festival\", \"field\", \"fight\", \"fight\", \"fighting\", \"final\", \"find\", \"fire\", \"fire\", \"fires\", \"first\", \"five\", \"focuses\", \"food\", \"football\", \"foothill\", \"foothill\", \"force\", \"former\", \"forum\", \"found\", \"foundation\", \"four\", \"fraud\", \"freeway\", \"front\", \"fugitive\", \"fundraiser\", \"funeral\", \"game\", \"gang\", \"gb\", \"gb\", \"gb\", \"gb\", \"gb\", \"gb\", \"gb\", \"get_pulled\", \"girl\", \"girls\", \"give_away\", \"graduation\", \"grand_opening\", \"grand_theft\", \"gun\", \"gun_buyback_program\", \"gunfire\", \"gunman\", \"gunpoint\", \"guns\", \"halloween\", \"handgun\", \"harbor\", \"help\", \"help\", \"heroes\", \"high_school\", \"hills\", \"hit\", \"hits\", \"holds\", \"holiday\", \"holiday\", \"holiday_season\", \"holidays\", \"hollenbeck\", \"hollenbeck\", \"hollenbeck\", \"hollywood\", \"home\", \"home\", \"home\", \"home\", \"home\", \"home_invasion\", \"home_invasion\", \"homeless\", \"homicide\", \"homicides\", \"honor\", \"honored\", \"honoring\", \"honors\", \"hospital\", \"hospital\", \"hospital\", \"host\", \"host\", \"hosts\", \"hosts\", \"hosts\", \"hotel\", \"human_trafficking\", \"husband\", \"identified\", \"identify\", \"identifying\", \"identity\", \"ii\", \"illegal\", \"illegal\", \"im\", \"im\", \"im\", \"im\", \"im\", \"im\", \"im\", \"immigration\", \"incident\", \"incident\", \"incident\", \"incidents\", \"increase\", \"infant\", \"information\", \"information\", \"initiative\", \"injured\", \"injured\", \"injured\", \"injures\", \"injuries\", \"injury\", \"innocent\", \"inside\", \"inspection\", \"interest\", \"internet\", \"investigate\", \"investigates\", \"investigating\", \"investigation\", \"investigators_seeking_additional_victims\", \"involucrados_en_un_tiroteo\", \"involved\", \"involving\", \"jewelry\", \"jh\", \"jh\", \"jh\", \"jh\", \"jh\", \"jh\", \"jh\", \"jh\", \"jk\", \"jk\", \"jk\", \"jk\", \"jk\", \"jk\", \"jk\", \"jk\", \"jk\", \"jk\", \"john\", \"join\", \"joint\", \"joint\", \"jr\", \"jr\", \"jr\", \"jr\", \"jr\", \"jr\", \"jr\", \"jr\", \"july\", \"juvenile\", \"juvenile\", \"juvenile\", \"juvenile\", \"juvenile\", \"juvenile\", \"juveniles\", \"kidnap\", \"kidnap\", \"kidnapped\", \"kidnapping\", \"killed\", \"killed\", \"killed\", \"killer\", \"killing\", \"kills\", \"kills\", \"kills\", \"kills\", \"knife_wielding\", \"korea_town\", \"korean\", \"koreatown\", \"kr\", \"kr\", \"kr\", \"kr\", \"kr\", \"kr\", \"kr\", \"kr\", \"kr\", \"kr\", \"kr\", \"kr\", \"kr\", \"kr\", \"la\", \"la\", \"la\", \"la\", \"labor\", \"lapd\", \"lapd\", \"lapd\", \"lapd\", \"lapd\", \"lapd\", \"lapd\", \"lapd\", \"lapd\", \"lapd\", \"lapd\", \"lapd\", \"lapd\", \"lapd\", \"lapds\", \"large\", \"latino\", \"launch\", \"law\", \"law\", \"law_enforcement\", \"lax\", \"leadership\", \"leadership\", \"leads\", \"leads\", \"leave\", \"leaves\", \"leaves\", \"leaves\", \"leaving\", \"left\", \"lg\", \"license\", \"life\", \"line\", \"liquor_store\", \"little_free_library\", \"lives\", \"local\", \"locate\", \"locating\", \"looking\", \"los\", \"lp\", \"lp\", \"lp\", \"lp\", \"lp\", \"lp\", \"lp\", \"lp\", \"lp\", \"lp\", \"lp\", \"lp\", \"luncheon\", \"made\", \"major\", \"make\", \"makes\", \"male\", \"man\", \"man\", \"march\", \"march\", \"marijuana\", \"market\", \"may\", \"may\", \"may\", \"may\", \"mayor\", \"mayor_garcetti\", \"media\", \"media\", \"media_availability\", \"meet\", \"meeting\", \"member\", \"members\", \"members\", \"members\", \"memorial\", \"memorial\", \"memorial\", \"memorial\", \"memorial\", \"men\", \"metropolitan\", \"mexico\", \"mid\", \"mid\", \"minor\", \"minors\", \"missing\", \"missing\", \"mission\", \"mjl\", \"mjl\", \"mjl\", \"ml\", \"ml\", \"ml\", \"ml\", \"ml\", \"ml\", \"ml\", \"ml\", \"ml\", \"ml\", \"ml\", \"ml\", \"molestation\", \"month\", \"month\", \"monthly_media_availability\", \"mother\", \"mother\", \"motor\", \"motor\", \"motor\", \"motorcycle\", \"motorcyclist\", \"motorcyclist\", \"motorist\", \"multi_agency\", \"multi_agency\", \"multi_agency\", \"multiple\", \"multiple\", \"murder\", \"murder\", \"murder\", \"murdered\", \"na\", \"na\", \"na\", \"na\", \"na\", \"na\", \"na\", \"na\", \"na\", \"narcotics\", \"national\", \"national\", \"national_night\", \"nd_annual\", \"ne\", \"ne\", \"ne\", \"ne\", \"ne\", \"ne\", \"ne\", \"ne\", \"ne\", \"ne\", \"ne\", \"near\", \"need\", \"need\", \"need\", \"needed\", \"needs\", \"neighborhood\", \"new\", \"new\", \"new\", \"new\", \"new_years_eve\", \"news_conference\", \"newton\", \"newton\", \"night\", \"nightclub\", \"nine\", \"north_hills\", \"north_hollywood\", \"north_hollywood\", \"north_hollywood\", \"northeast\", \"nr\", \"nr\", \"nr\", \"nr\", \"nr\", \"nr\", \"nr\", \"nr\", \"nr\", \"nr\", \"nr\", \"nr\", \"nr\", \"nr\", \"nr\", \"nr\", \"nr\", \"nr\", \"nr\", \"nrf\", \"nrf_bm\", \"nrf_bm\", \"nrf_cr\", \"nv\", \"nv\", \"nv\", \"nv\", \"nv\", \"occurred\", \"occurs\", \"offer\", \"offered\", \"officer\", \"officers\", \"officers\", \"officers\", \"officers\", \"ois\", \"old\", \"olympic\", \"olympic\", \"one\", \"one\", \"open\", \"open_house\", \"open_house\", \"opening\", \"operation\", \"operation\", \"operation\", \"operation_shoes\", \"operations\", \"outside\", \"outstanding\", \"owner\", \"pacific\", \"panorama_city\", \"park\", \"parked\", \"parking_lot\", \"partner\", \"partnership\", \"party\", \"party\", \"party\", \"passenger\", \"patrol\", \"peace\", \"pedestrian\", \"pedestrian\", \"pedestrians\", \"people\", \"person\", \"phone\", \"play\", \"police\", \"police\", \"possible\", \"possible\", \"possible\", \"prayer\", \"presents\", \"president\", \"press_conference\", \"press_conference\", \"prevention\", \"prevention_tips\", \"program\", \"program\", \"program\", \"public\", \"public_assistance\", \"publics_assistance\", \"publics_assistance\", \"publics_assistance_needed\", \"publics_help\", \"publics_help\", \"pursuit\", \"pursuit\", \"pv\", \"questioning\", \"racer\", \"radio\", \"rally\", \"rampart\", \"rape\", \"rapist\", \"rd\", \"recruit_graduation\", \"recruitment\", \"regarding\", \"related\", \"related\", \"release\", \"released\", \"releases\", \"reported\", \"request\", \"requested\", \"rescue\", \"reseda\", \"residence\", \"residential\", \"residents\", \"response\", \"responsible\", \"restaurant\", \"result\", \"resulting\", \"results\", \"results\", \"results\", \"return\", \"reward\", \"rewards\", \"rf\", \"rf\", \"rf\", \"rf\", \"rf\", \"rf\", \"rf\", \"rf\", \"rf\", \"rf\", \"rf\", \"rf\", \"rf\", \"rh\", \"rh\", \"rh\", \"rh\", \"rh\", \"rh\", \"rh\", \"rh\", \"rh\", \"rh\", \"rh\", \"rh\", \"rh\", \"ride\", \"ring\", \"ring\", \"risk\", \"road\", \"robbed\", \"robberies\", \"robberies\", \"robbers\", \"robbery\", \"robbery\", \"run\", \"safe\", \"safe\", \"safely\", \"safety\", \"safety\", \"safety_tips\", \"safety_tips\", \"safety_tips\", \"san_fernando_valley\", \"san_fernando_valley\", \"santa\", \"saturation_patrol\", \"saturation_patrols\", \"save\", \"saves\", \"scam\", \"scene\", \"school\", \"search\", \"search\", \"search_warrant\", \"seated\", \"second\", \"security\", \"security_guard\", \"seek\", \"seek_clues\", \"seeking\", \"seeking\", \"seeks\", \"seen\", \"seized\", \"seizure\", \"sentenced\", \"serial\", \"series\", \"serious\", \"seriously_injured\", \"service\", \"several\", \"several\", \"severely_injured\", \"sex\", \"sexual\", \"sexual_assault\", \"sexual_battery\", \"sexual_predator\", \"sexually_assaulted\", \"sf\", \"shoot\", \"shooting\", \"shooting\", \"shooting\", \"shooting\", \"shootings\", \"shootout\", \"shoots\", \"shoots\", \"shoots\", \"shop\", \"shot\", \"show\", \"shown\", \"sidewalk\", \"since\", \"sister\", \"sitting\", \"six\", \"skid_row\", \"sm\", \"sm\", \"sm\", \"sm\", \"sm\", \"sm\", \"sm\", \"sm\", \"sm\", \"sm\", \"sober\", \"sober_graduation\", \"sobriety\", \"soccer\", \"solve\", \"solved\", \"solving\", \"son\", \"sought\", \"sought\", \"south\", \"south\", \"southeast\", \"southwest\", \"special\", \"special_olympics\", \"spree\", \"sr\", \"sr\", \"sr\", \"sr\", \"sr\", \"sr\", \"sr\", \"sr\", \"st\", \"stabbed\", \"stabbing\", \"stabs\", \"standing\", \"state\", \"statement\", \"statement_regarding\", \"station\", \"station\", \"statistics\", \"sting\", \"stolen\", \"stop\", \"store\", \"street\", \"streets\", \"string\", \"struck\", \"student\", \"students\", \"students\", \"studio\", \"success\", \"suffering\", \"suicide\", \"summer\", \"summit\", \"sun\", \"surveillance\", \"surveillance_video\", \"surveillance_video\", \"suspect\", \"suspect\", \"suspect\", \"suspect\", \"suspected\", \"suspects\", \"suspects\", \"suspects\", \"suspects\", \"suspects\", \"suspects\", \"swat\", \"sylmar\", \"take\", \"taken\", \"takes\", \"tape\", \"tape\", \"targeting\", \"targets\", \"targets_impaired_drivers\", \"task_force\", \"task_force\", \"task_force\", \"task_force\", \"taxi_cab\", \"teacher\", \"team\", \"team\", \"teen\", \"teens\", \"th\", \"theft\", \"thefts\", \"thief\", \"thieves\", \"three\", \"three\", \"three\", \"ti\", \"ti\", \"ti\", \"ti\", \"ti\", \"ti\", \"time\", \"tip\", \"together\", \"top\", \"topanga\", \"tots\", \"town_hall_meeting\", \"toy\", \"toy_drive_discovering\", \"toy_giveaway\", \"toys\", \"traffic\", \"traffic\", \"trafficking\", \"tragic\", \"tragic\", \"train\", \"training\", \"trial\", \"triple\", \"truck\", \"turns\", \"turns_deadly\", \"two\", \"two\", \"ucla\", \"ucla\", \"undercover\", \"unidentified\", \"unit\", \"unit\", \"unknown\", \"unprovoked\", \"unsolved\", \"unveiling\", \"update\", \"update\", \"update\", \"us\", \"usc\", \"used\", \"valley\", \"valley\", \"valor\", \"van_nuys\", \"van_nuys\", \"van_nuys\", \"van_nuys\", \"vehicle\", \"vehicle\", \"vehicle\", \"vehicle\", \"vehicle\", \"vehicles\", \"vice_presidential_visit\", \"victim\", \"victim\", \"victim\", \"victim\", \"victim\", \"victim\", \"victim\", \"victims\", \"victims\", \"video\", \"video\", \"video\", \"violence\", \"violence\", \"violent\", \"violent\", \"violent\", \"vs\", \"walk\", \"walking\", \"wanted\", \"wanted\", \"washington\", \"watts\", \"weapon\", \"weapons\", \"week\", \"weekend\", \"west\", \"west\", \"west\", \"wielding\", \"wife\", \"william_bratton\", \"wilmington\", \"wilshire\", \"winnetka\", \"witnesses\", \"woman\", \"woman\", \"woman\", \"women\", \"wounded\", \"wounded\", \"year\", \"years\", \"years\", \"young\", \"youth\"], \"Freq\": [0.841145932674408, 0.140190988779068, 0.9425912499427795, 0.9479860663414001, 0.9516477584838867, 0.9930575489997864, 0.8954083919525146, 0.9866921305656433, 0.9303380250930786, 0.9224073886871338, 0.9566736221313477, 0.9883638620376587, 0.9393736720085144, 0.06126349791884422, 0.9259127974510193, 0.9031256437301636, 0.3108203113079071, 0.16197676956653595, 0.12257701903581619, 0.08755501359701157, 0.02188875339925289, 0.0919327661395073, 0.10506601631641388, 0.0919327661395073, 0.9862571358680725, 0.9505980014801025, 0.9468372464179993, 0.9585776329040527, 0.9389774799346924, 0.9357479214668274, 0.9168188571929932, 0.985480785369873, 0.9974390864372253, 0.961517870426178, 0.9303459525108337, 0.9928959012031555, 0.9361774325370789, 0.9914735555648804, 0.21702814102172852, 0.6510844230651855, 0.0775100514292717, 0.04650603234767914, 0.9856810569763184, 0.901313841342926, 0.0693318322300911, 0.9346734285354614, 0.9694693088531494, 0.9489785432815552, 0.9144414067268372, 0.05701591446995735, 0.4390225410461426, 0.24706895649433136, 0.02280636504292488, 0.00760212168097496, 0.1634456217288971, 0.00570159126073122, 0.05511538311839104, 0.24597616493701935, 0.3577835261821747, 0.3577835261821747, 0.9137582182884216, 0.07832213491201401, 0.8644207715988159, 0.13056355714797974, 0.0013807154027745128, 0.2982345223426819, 0.057990048080682755, 0.028995024040341377, 0.2720009386539459, 0.15049798786640167, 0.0676550567150116, 0.028995024040341377, 0.03313716873526573, 0.034517884254455566, 0.026233593001961708, 0.9902334213256836, 0.9500294327735901, 0.9750547409057617, 0.9705865383148193, 0.9181264042854309, 0.015468358062207699, 0.9590381979942322, 0.015468358062207699, 0.927319347858429, 0.9338974356651306, 0.9740859866142273, 0.9612197875976562, 0.9576746821403503, 0.9906960129737854, 0.9831228256225586, 0.9531303644180298, 0.9178650975227356, 0.9254780411720276, 0.9546104073524475, 0.9550799131393433, 0.9717517495155334, 0.7492392659187317, 0.217521071434021, 0.9756072163581848, 0.9225320816040039, 0.9865682125091553, 0.9121695756912231, 0.060811303555965424, 0.9293991923332214, 0.11375083029270172, 0.8341727256774902, 0.9355965852737427, 0.9600601196289062, 0.9657391905784607, 0.1984880268573761, 0.06805303692817688, 0.3516073524951935, 0.26086997985839844, 0.01701325923204422, 0.09640847146511078, 0.9117932319641113, 0.9779335856437683, 0.9233611226081848, 0.9597527980804443, 0.9723116755485535, 0.9709831476211548, 0.9504442811012268, 0.8852261900901794, 0.9550447463989258, 0.9573949575424194, 0.9937804341316223, 0.9738146662712097, 0.9839531183242798, 0.9643892645835876, 0.9724962711334229, 0.992669403553009, 0.923737645149231, 0.9757912158966064, 0.20538225769996643, 0.7530683279037476, 0.965997040271759, 0.9954962134361267, 0.13840290904045105, 0.8304173946380615, 0.9544795155525208, 0.9513422846794128, 0.9778817892074585, 0.9945412874221802, 0.95108562707901, 0.9679663777351379, 0.9628205299377441, 0.1492176055908203, 0.8356186151504517, 0.9639051556587219, 0.8208760619163513, 0.14486049115657806, 0.9361901879310608, 0.9926356673240662, 0.8082581758499146, 0.19017839431762695, 0.8942890167236328, 0.8913859128952026, 0.7190408110618591, 0.25010114908218384, 0.9895598292350769, 0.41023942828178406, 0.5634613633155823, 0.01977057382464409, 0.9553067088127136, 0.960875928401947, 0.9598549008369446, 0.9376304149627686, 0.06168621405959129, 0.2703193128108978, 0.7262309789657593, 0.9680877327919006, 0.962805449962616, 0.9224730730056763, 0.9642520546913147, 0.9943521022796631, 0.9364825487136841, 0.9789750576019287, 0.9173648357391357, 0.979453444480896, 0.9832091927528381, 0.9577802419662476, 0.985684335231781, 0.9301699995994568, 0.9972840547561646, 0.9940764904022217, 0.9971710443496704, 0.011556528508663177, 0.895630955696106, 0.08667396754026413, 0.9765283465385437, 0.38192057609558105, 0.5875701308250427, 0.9023967385292053, 0.9145641326904297, 0.07621367275714874, 0.9254099130630493, 0.9787324070930481, 0.9406971335411072, 0.20101913809776306, 0.08040765672922134, 0.5226497650146484, 0.013401276431977749, 0.18091723322868347, 0.11843862384557724, 0.08142655342817307, 0.1295422464609146, 0.03331086412072182, 0.051816899329423904, 0.025908449664711952, 0.04441448301076889, 0.12584103643894196, 0.025908449664711952, 0.1998651772737503, 0.037012070417404175, 0.05921931192278862, 0.04811569303274155, 0.0037012069951742887, 0.018506035208702087, 0.9918504357337952, 0.9677199721336365, 0.16686241328716278, 0.813454270362854, 0.9502037167549133, 0.9874318838119507, 0.9692748785018921, 0.997421383857727, 0.935735821723938, 0.9618960022926331, 0.993059515953064, 0.9571990966796875, 0.3401166498661041, 0.44336631894111633, 0.1002129390835762, 0.07895565032958984, 0.033404313027858734, 0.9495137929916382, 0.6064020395278931, 0.18455715477466583, 0.18455715477466583, 0.9518757462501526, 0.9390674233436584, 0.12424435466527939, 0.8386493921279907, 0.9491169452667236, 0.9901036024093628, 0.9473232626914978, 0.9215626120567322, 0.9518266916275024, 0.9692493081092834, 0.7855087518692017, 0.21074624359607697, 0.9882060289382935, 0.9556551575660706, 0.9157146215438843, 0.9299258589744568, 0.9241610169410706, 0.9570463299751282, 0.8047951459884644, 0.19130375981330872, 0.9429427981376648, 0.961894690990448, 0.9932987093925476, 0.9848878383636475, 0.9703126549720764, 0.950652003288269, 0.9663261771202087, 0.9489613771438599, 0.9842991232872009, 0.9660547375679016, 0.9623808264732361, 0.9444820880889893, 0.9899520874023438, 0.9257941246032715, 0.4904489815235138, 0.5060188174247742, 0.4802596867084503, 0.5188735127449036, 0.943212628364563, 0.9703795313835144, 0.9955240488052368, 0.9898257255554199, 0.669316828250885, 0.1784844845533371, 0.13386335968971252, 0.4774700105190277, 0.5175775289535522, 0.0019098800839856267, 0.0019098800839856267, 0.9798266291618347, 0.9927957653999329, 0.8260137438774109, 0.15487757325172424, 0.9969095587730408, 0.968135416507721, 0.945959746837616, 0.36132198572158813, 0.6126763820648193, 0.9650520086288452, 0.954958438873291, 0.13663500547409058, 0.17216011881828308, 0.4317666292190552, 0.010930800810456276, 0.22954681515693665, 0.013663501478731632, 0.2159571647644043, 0.056336648762226105, 0.11580311506986618, 0.18778882920742035, 0.08763478696346283, 0.06572609394788742, 0.05320683494210243, 0.11893293261528015, 0.015649069100618362, 0.0031298138201236725, 0.043817393481731415, 0.031298138201236725, 0.9563305974006653, 0.33240896463394165, 0.6426573395729065, 0.9796605110168457, 0.9708067178726196, 0.9584604501724243, 0.9716899394989014, 0.021835729479789734, 0.967896044254303, 0.5229729413986206, 0.01494208350777626, 0.11953666806221008, 0.009961389005184174, 0.039845556020736694, 0.08467181026935577, 0.13945944607257843, 0.06474903225898743, 0.9955211281776428, 0.9849708080291748, 0.9727442860603333, 0.954995334148407, 0.8950709700584412, 0.06393364071846008, 0.9328335523605347, 0.9988850951194763, 0.9775629639625549, 0.8150303959846497, 0.14382889866828918, 0.9795598983764648, 0.9805503487586975, 0.9355858564376831, 0.9023400545120239, 0.0925476998090744, 0.9518001675605774, 0.969354510307312, 0.17749515175819397, 0.6803980469703674, 0.11833009868860245, 0.9708772897720337, 0.9921544194221497, 0.989462673664093, 0.9405889511108398, 0.9588892459869385, 0.9832517504692078, 0.9365304708480835, 0.9742337465286255, 0.9354138374328613, 0.3738061487674713, 0.6126267313957214, 0.9299439191818237, 0.0666409283876419, 0.9908981323242188, 0.797761082649231, 0.1772802323102951, 0.961281418800354, 0.9813583493232727, 0.008841066621243954, 0.9532809853553772, 0.887945830821991, 0.022636568173766136, 0.950735867023468, 0.9764134883880615, 0.9623835682868958, 0.9666457772254944, 0.954372227191925, 0.03976551070809364, 0.9247059226036072, 0.9923503994941711, 0.981285035610199, 0.9710800647735596, 0.9689617156982422, 0.9580665230751038, 0.12726658582687378, 0.8696549534797668, 0.9830256700515747, 0.9646915793418884, 0.976542592048645, 0.9959656596183777, 0.9558616280555725, 0.9802865386009216, 0.9522411823272705, 0.987925112247467, 0.9826086163520813, 0.8845793008804321, 0.9793463945388794, 0.9390247464179993, 0.8459097146987915, 0.9973545074462891, 0.20000939071178436, 0.18421918153762817, 0.1947459876537323, 0.31580430269241333, 0.04737064614892006, 0.02631702646613121, 0.021053621545433998, 0.9553439021110535, 0.9892051815986633, 0.9637061357498169, 0.9384170770645142, 0.9774301052093506, 0.9658746123313904, 0.9624074101448059, 0.9768409132957458, 0.9574753642082214, 0.9710298180580139, 0.9813194274902344, 0.8809820413589478, 0.9340131282806396, 0.9717798233032227, 0.9758657217025757, 0.989366888999939, 0.2580374777317047, 0.7372499108314514, 0.9379549622535706, 0.9775053262710571, 0.9529674053192139, 0.9976064562797546, 0.9385625123977661, 0.9769343137741089, 0.7195231914520264, 0.27201488614082336, 0.9274854063987732, 0.9744715690612793, 0.25170907378196716, 0.6019129753112793, 0.13132646679878235, 0.9965591430664062, 0.033876579254865646, 0.6549472212791443, 0.04516877233982086, 0.1467985063791275, 0.10162974148988724, 0.029624594375491142, 0.9627993106842041, 0.9626827239990234, 0.9981529712677002, 0.9348188042640686, 0.9828768968582153, 0.9916598200798035, 0.9264522194862366, 0.9815351963043213, 0.258705198764801, 0.5644477009773254, 0.14111192524433136, 0.32921841740608215, 0.6584368348121643, 0.07841695100069046, 0.3607179820537567, 0.5489186644554138, 0.9348319172859192, 0.989432156085968, 0.9654116630554199, 0.9827550053596497, 0.9723052382469177, 0.9879627227783203, 0.9591629505157471, 0.9687813520431519, 0.10668567568063736, 0.8534854054450989, 0.1381411850452423, 0.41442355513572693, 0.17581605911254883, 0.012558289803564548, 0.1381411850452423, 0.025116579607129097, 0.11302460730075836, 0.9411730766296387, 0.31579285860061646, 0.13815937936306, 0.5329004526138306, 0.9150307774543762, 0.9370521306991577, 0.9326382279396057, 0.42711809277534485, 0.5585390329360962, 0.9369093179702759, 0.0840524211525917, 0.09051799029111862, 0.8211274743080139, 0.9760778546333313, 0.9623446464538574, 0.9755733013153076, 0.9342772960662842, 0.9765275716781616, 0.944879412651062, 0.9080075025558472, 0.9567692279815674, 0.9947025179862976, 0.9709925651550293, 0.9552558064460754, 0.9968764781951904, 0.8964704871177673, 0.8985344171524048, 0.9973187446594238, 0.9671290516853333, 0.9585925936698914, 0.19003142416477203, 0.3116515278816223, 0.18243016302585602, 0.00760125694796443, 0.14442388713359833, 0.03040502779185772, 0.08361382782459259, 0.045607540756464005, 0.19234012067317963, 0.08065876364707947, 0.09927231818437576, 0.2481808066368103, 0.04963615909218788, 0.04963615909218788, 0.08686327934265137, 0.07445424050092697, 0.037227120250463486, 0.07445424050092697, 0.8409415483474731, 0.929416835308075, 0.09936986863613129, 0.894328773021698, 0.19358013570308685, 0.07082200050354004, 0.009442933835089207, 0.18885867297649384, 0.12275814265012741, 0.25968068838119507, 0.1180366724729538, 0.028328800573945045, 0.9429689049720764, 0.5235464572906494, 0.11319922655820847, 0.014149903319776058, 0.18394874036312103, 0.09904932230710983, 0.07074952125549316, 0.9455432295799255, 0.8810602426528931, 0.10843818634748459, 0.9724798202514648, 0.9499934315681458, 0.12648873031139374, 0.6731007099151611, 0.1987679898738861, 0.9685248732566833, 0.9681136012077332, 0.1347821056842804, 0.6976955533027649, 0.10306866466999054, 0.06342686712741852, 0.9361258745193481, 0.9161533117294312, 0.9437956809997559, 0.9503505825996399, 0.02139357291162014, 0.03922154754400253, 0.16758298873901367, 0.08913988620042801, 0.11409905552864075, 0.017827976495027542, 0.02139357291162014, 0.06774631142616272, 0.0962710753083229, 0.03922154754400253, 0.053483929485082626, 0.04991833493113518, 0.20323893427848816, 0.017827976495027542, 0.217794269323349, 0.6015270352363586, 0.12445386499166489, 0.05185577645897865, 0.9508101344108582, 0.14021769165992737, 0.05088545009493828, 0.3245360851287842, 0.0005653938860632479, 0.030531270429491997, 0.014700241386890411, 0.12269047647714615, 0.010742483660578728, 0.0729358121752739, 0.058235570788383484, 0.02318114973604679, 0.004523151088505983, 0.06445490568876266, 0.08141671866178513, 0.9862334728240967, 0.9681447744369507, 0.934197723865509, 0.944705605506897, 0.0478949137032032, 0.9100033640861511, 0.9776086807250977, 0.9405701160430908, 0.10145451873540878, 0.8623634576797485, 0.45568761229515076, 0.531635582447052, 0.9562270641326904, 0.015224973671138287, 0.8627485036849976, 0.11672479659318924, 0.9404836893081665, 0.9355953931808472, 0.9325311779975891, 0.9873838424682617, 0.9954114556312561, 0.9493488669395447, 0.9527564644813538, 0.9711323380470276, 0.9443778395652771, 0.9820596575737, 0.9624040126800537, 0.9789627194404602, 0.9616069197654724, 0.9992011189460754, 0.18399743735790253, 0.11226961761713028, 0.08732081949710846, 0.04677900671958923, 0.04054180905222893, 0.08732081949710846, 0.1309812217950821, 0.08732081949710846, 0.07484641671180725, 0.018711604177951813, 0.10291381925344467, 0.018711604177951813, 0.9475247263908386, 0.937891960144043, 0.9515844583511353, 0.9179420471191406, 0.9282993674278259, 0.9904597997665405, 0.27092114090919495, 0.7281940579414368, 0.7712051868438721, 0.2011839598417282, 0.9523857831954956, 0.9711450934410095, 0.6039801239967346, 0.10066334903240204, 0.17616085708141327, 0.10066334903240204, 0.929685652256012, 0.9404458403587341, 0.895994246006012, 0.07791254669427872, 0.9810810089111328, 0.958564043045044, 0.9731059670448303, 0.9861994981765747, 0.6648387908935547, 0.1437489241361618, 0.17968615889549255, 0.4991894066333771, 0.09766749292612076, 0.07596360892057419, 0.282150536775589, 0.04340777546167374, 0.9716808795928955, 0.9895848631858826, 0.8962336778640747, 0.23138323426246643, 0.727204442024231, 0.9678447246551514, 0.9329884052276611, 0.943719744682312, 0.05544202774763107, 0.9925074577331543, 0.5308356285095215, 0.27457016706466675, 0.18304677307605743, 0.20727139711380005, 0.06377581506967545, 0.12356564402580261, 0.0717477947473526, 0.00797197688370943, 0.11957965046167374, 0.13950960338115692, 0.05181784927845001, 0.07971976697444916, 0.05978982523083687, 0.04783186316490173, 0.03188790753483772, 0.9452289342880249, 0.2829234302043915, 0.6978777647018433, 0.9680393934249878, 0.42546746134757996, 0.559185802936554, 0.16492198407649994, 0.041230496019124985, 0.7421488761901855, 0.987141489982605, 0.32558226585388184, 0.6511645317077637, 0.9598022699356079, 0.03889647498726845, 0.0777929499745369, 0.8557224273681641, 0.2453370839357376, 0.736011266708374, 0.13463608920574188, 0.7808892726898193, 0.08347437530755997, 0.9823302030563354, 0.032574303448200226, 0.002961300313472748, 0.4471563398838043, 0.04145820438861847, 0.15280309319496155, 0.16642507910728455, 0.11252941191196442, 0.04205046221613884, 0.0005922600394114852, 0.9740461707115173, 0.418320894241333, 0.5704375505447388, 0.9727150201797485, 0.9471803307533264, 0.16040922701358795, 0.08020461350679398, 0.09624554216861725, 0.1924910843372345, 0.09945372492074966, 0.003208184614777565, 0.10266190767288208, 0.054539140313863754, 0.03849821537733078, 0.048122771084308624, 0.12191101908683777, 0.9890871047973633, 0.04270738363265991, 0.9182087182998657, 0.021353691816329956, 0.9771555066108704, 0.9652237296104431, 0.9237549901008606, 0.34210389852523804, 0.07602308690547943, 0.09883001446723938, 0.47894546389579773, 0.9449309706687927, 0.9905590415000916, 0.2588655948638916, 0.7295303344726562, 0.9779426455497742, 0.9347607493400574, 0.9414284825325012, 0.8999390602111816, 0.1280510574579239, 0.05691158398985863, 0.7967621684074402, 0.9859535694122314, 0.22232569754123688, 0.02180774323642254, 0.12263315171003342, 0.14075906574726105, 0.011328698135912418, 0.028038527816534042, 0.029454614967107773, 0.058909229934215546, 0.04361548647284508, 0.014444089494645596, 0.06400714069604874, 0.0005664348718710244, 0.0022657394874840975, 0.10139184445142746, 0.0237902645021677, 0.0659896656870842, 0.03455252945423126, 0.000849652336910367, 0.013311220332980156, 0.9910843372344971, 0.8160920739173889, 0.17001917958259583, 0.9707375764846802, 0.42446354031562805, 0.06063764914870262, 0.3031882643699646, 0.08085019886493683, 0.12127529829740524, 0.9556156992912292, 0.9781100153923035, 0.9503287672996521, 0.9982208013534546, 0.9982388019561768, 0.755903959274292, 0.051800526678562164, 0.18226110935211182, 0.009592690505087376, 0.9164698719978333, 0.9993641972541809, 0.914726197719574, 0.07622718065977097, 0.002606348367407918, 0.9956250786781311, 0.9705923199653625, 0.7654944062232971, 0.22326920926570892, 0.968866229057312, 0.025954343378543854, 0.7699788212776184, 0.198983296751976, 0.9639942049980164, 0.985027551651001, 0.9473563432693481, 0.940911054611206, 0.9758917093276978, 0.9903748035430908, 0.9713114500045776, 0.9874847531318665, 0.9444735050201416, 0.9658601880073547, 0.9730927348136902, 0.9520009160041809, 0.025961117818951607, 0.3764362037181854, 0.5841251611709595, 0.9481930732727051, 0.951636016368866, 0.9629644751548767, 0.8350467085838318, 0.16267143189907074, 0.974443256855011, 0.9652447700500488, 0.99048912525177, 0.8910336494445801, 0.9300105571746826, 0.8731167316436768, 0.12645138800144196, 0.08983311802148819, 0.20961061120033264, 0.6887205839157104, 0.946394681930542, 0.9510377049446106, 0.9712955355644226, 0.9079304337501526, 0.07727067917585373, 0.9842919111251831, 0.913202166557312, 0.21758277714252472, 0.7162099480628967, 0.05439569428563118, 0.995996356010437, 0.9637361764907837, 0.26057443022727966, 0.7238178253173828, 0.9580371379852295, 0.38155341148376465, 0.6120752692222595, 0.26957637071609497, 0.7188703417778015, 0.9969279170036316, 0.9417737722396851, 0.9295789003372192, 0.8426560759544373, 0.9526678919792175, 0.9895361065864563, 0.9675145149230957, 0.9234598278999329, 0.9513530135154724, 0.9871572852134705, 0.9123030304908752, 0.9817386865615845, 0.9202191829681396, 0.0742112249135971, 0.9849088191986084, 0.9626626372337341, 0.9056277871131897, 0.9743824601173401, 0.9483579993247986, 0.9293294548988342, 0.9474379420280457, 0.9628311991691589, 0.9727783203125, 0.9814598560333252, 0.9375600814819336, 0.9665070176124573, 0.9689988493919373, 0.9537818431854248, 0.9025057554244995, 0.9395093321800232, 0.11744380742311478, 0.6518131494522095, 0.22901542484760284, 0.9433456063270569, 0.9975066184997559, 0.8928032517433167, 0.05159584805369377, 0.1270051747560501, 0.10319169610738754, 0.09128496050834656, 0.15875646471977234, 0.01190673466771841, 0.0277823805809021, 0.09128496050834656, 0.003968911711126566, 0.08731605112552643, 0.07540931552648544, 0.0833471417427063, 0.07937823235988617, 0.10703127831220627, 0.19112728536128998, 0.15799854695796967, 0.022935273125767708, 0.058612365275621414, 0.010193455033004284, 0.08409599959850311, 0.11467637121677399, 0.09938618540763855, 0.020386910066008568, 0.07390254735946655, 0.015290182083845139, 0.040773820132017136, 0.9620450139045715, 0.8995205760002136, 0.07196164131164551, 0.950833797454834, 0.9294092059135437, 0.9850740432739258, 0.1519656479358673, 0.8168153762817383, 0.9853171706199646, 0.9387361407279968, 0.057564008980989456, 0.9980329275131226, 0.23457276821136475, 0.7297819256782532, 0.8957481384277344, 0.9292680025100708, 0.06453250348567963, 0.10836683958768845, 0.6502010226249695, 0.2167336791753769, 0.9178526401519775, 0.05099181458353996, 0.9872764348983765, 0.977121114730835, 0.9928308129310608, 0.985488772392273, 0.9328330159187317, 0.974229633808136, 0.9412088394165039, 0.9891757369041443, 0.6775455474853516, 0.3048954904079437, 0.9673306941986084, 0.8634398579597473, 0.9420469403266907, 0.9727384448051453, 0.9162397384643555, 0.9928977489471436, 0.9479680061340332, 0.8360981345176697, 0.15006889402866364, 0.9798747897148132, 0.9278215169906616, 0.9383984208106995, 0.9056336879730225, 0.9228402972221375, 0.984562337398529, 0.9428497552871704, 0.9606174826622009, 0.9853649139404297, 0.9820997714996338, 0.9458533525466919, 0.05911583453416824, 0.9589915871620178, 0.937446653842926, 0.971104085445404, 0.9956879019737244, 0.9578938484191895, 0.9659527540206909, 0.9622787833213806, 0.9961408972740173, 0.9758148789405823, 0.0009145403746515512, 0.3566707372665405, 0.08688133209943771, 0.5551260113716125, 0.929477870464325, 0.9533082246780396, 0.29012128710746765, 0.30393657088279724, 0.38682836294174194, 0.9793892502784729, 0.9983643293380737, 0.9530105590820312, 0.8815346956253052, 0.9708631038665771, 0.9630276560783386, 0.9220508933067322, 0.930275559425354, 0.9645861983299255, 0.9561102986335754, 0.08846238255500793, 0.0982915386557579, 0.10812068730592728, 0.02948746085166931, 0.08846238255500793, 0.0982915386557579, 0.10812068730592728, 0.06880407780408859, 0.22607053816318512, 0.10812068730592728, 0.9470242261886597, 0.9510571360588074, 0.9966859817504883, 0.9543790221214294, 0.9780468344688416, 0.9666790962219238, 0.9570000767707825, 0.9820151329040527, 0.9186661839485168, 0.07544601708650589, 0.18343228101730347, 0.8082485198974609, 0.9862667322158813, 0.9848273992538452, 0.9644131660461426, 0.9509885311126709, 0.9561272859573364, 0.10674237459897995, 0.13876508176326752, 0.01067423727363348, 0.41629526019096375, 0.16011355817317963, 0.01067423727363348, 0.02134847454726696, 0.11741660535335541, 0.9740585684776306, 0.9907511472702026, 0.9889761805534363, 0.9751660823822021, 0.9215787649154663, 0.9512046575546265, 0.987068235874176, 0.9576820135116577, 0.009592551738023758, 0.9880328178405762, 0.9478022456169128, 0.9471567273139954, 0.9915784597396851, 0.9821467995643616, 0.9753823280334473, 0.9942935705184937, 0.9605947732925415, 0.8818134665489197, 0.9820280075073242, 0.9638134837150574, 0.8905268311500549, 0.10275309532880783, 0.96624356508255, 0.8781983852386475, 0.8929905891418457, 0.9730001091957092, 0.9755509495735168, 0.9356415271759033, 0.9300394654273987, 0.9601902365684509, 0.8807718753814697, 0.10362021625041962, 0.6884305477142334, 0.05821627378463745, 0.2513464391231537, 0.0009240678627975285, 0.9782273769378662, 0.4991653263568878, 0.07094735652208328, 0.22044357657432556, 0.00506766838952899, 0.08615036308765411, 0.11655637621879578, 0.9539780020713806, 0.9835200905799866, 0.9803844094276428, 0.9580555558204651, 0.9400432705879211, 0.3770473003387451, 0.603275716304779, 0.9598408341407776, 0.9396352767944336, 0.9972582459449768, 0.5230939984321594, 0.12364039570093155, 0.10461879521608353, 0.2377699911594391, 0.8848613500595093, 0.9853744506835938, 0.11721891164779663, 0.849837064743042, 0.9777675867080688, 0.9435667991638184, 0.9979217648506165, 0.9936921000480652, 0.9594811797142029, 0.954234778881073, 0.9679253697395325, 0.016147369518876076, 0.8154422044754028, 0.1534000188112259, 0.15193668007850647, 0.17265531420707703, 0.1795615255832672, 0.017265532165765762, 0.11049940437078476, 0.3660292625427246, 0.9650232791900635, 0.920462429523468, 0.9606537818908691, 0.9537492394447327, 0.9722142815589905, 0.9684416055679321, 0.9491134881973267, 0.9822002053260803, 0.9801223874092102, 0.9770553112030029, 0.9063683748245239, 0.8467556834220886, 0.15152469277381897, 0.9395292401313782, 0.2555221915245056, 0.7239795327186584, 0.9578506350517273, 0.989374041557312, 0.9296574592590332, 0.9732386469841003, 0.9473469257354736, 0.9799329042434692, 0.9771832227706909, 0.8419839143753052, 0.1547018587589264, 0.044533684849739075, 0.8906736969947815, 0.9204818606376648, 0.971640408039093, 0.22164571285247803, 0.7757599949836731, 0.9598916172981262, 0.8810986280441284, 0.9825261235237122, 0.9767277836799622, 0.07221225649118423, 0.9146885871887207, 0.008023584261536598, 0.9578217267990112, 0.9585375189781189, 0.9060412049293518, 0.2961803376674652, 0.697162926197052, 0.9486112594604492, 0.2576310634613037, 0.19322329759597778, 0.05367313697934151, 0.493792861700058, 0.5201708078384399, 0.04053279012441635, 0.25670766830444336, 0.06079918146133423, 0.11484289914369583, 0.9473130702972412, 0.9115382432937622, 0.4583320915699005, 0.07151280343532562, 0.01950349286198616, 0.21453842520713806, 0.05851047858595848, 0.1267727017402649, 0.04875873029232025, 0.8439950942993164, 0.15207119286060333, 0.3600651025772095, 0.05728308483958244, 0.572830855846405, 0.11518824100494385, 0.8721395134925842, 0.298526793718338, 0.5281627774238586, 0.16074518859386444, 0.970382571220398, 0.9582115411758423, 0.9697496294975281, 0.8687719106674194, 0.12066276371479034, 0.9567713737487793, 0.9169284105300903, 0.9348050951957703, 0.9517341256141663, 0.9534949660301208, 0.9689392447471619, 0.25431734323501587, 0.06228179857134819, 0.6799095869064331, 0.8939763307571411, 0.9677307605743408, 0.9440669417381287, 0.9558279514312744, 0.9861999750137329, 0.9431420564651489, 0.950153112411499, 0.8397706747055054, 0.008957553654909134, 0.14779964089393616, 0.9752203822135925, 0.8417609333992004, 0.14029349386692047, 0.9990894198417664, 0.07752345502376556, 0.8915197849273682, 0.985811710357666, 0.9839260578155518]}, \"lambda.step\": 0.01, \"tinfo\": {\"Category\": [\"Default\", \"Default\", \"Default\", \"Default\", \"Default\", \"Default\", \"Default\", \"Default\", \"Default\", \"Default\", \"Default\", \"Default\", \"Default\", \"Default\", \"Default\", \"Default\", \"Default\", \"Default\", \"Default\", \"Default\", \"Default\", \"Default\", \"Default\", \"Default\", \"Default\", \"Default\", \"Default\", \"Default\", \"Default\", \"Default\", \"Topic1\", \"Topic1\", \"Topic1\", \"Topic1\", \"Topic1\", \"Topic1\", \"Topic1\", \"Topic1\", \"Topic1\", \"Topic1\", \"Topic1\", \"Topic1\", \"Topic1\", \"Topic1\", \"Topic1\", \"Topic1\", \"Topic1\", \"Topic1\", \"Topic1\", \"Topic1\", \"Topic1\", \"Topic1\", \"Topic1\", \"Topic1\", \"Topic1\", \"Topic1\", \"Topic1\", \"Topic1\", \"Topic1\", \"Topic1\", \"Topic1\", \"Topic1\", \"Topic1\", \"Topic1\", \"Topic1\", \"Topic1\", \"Topic1\", \"Topic1\", \"Topic1\", \"Topic1\", \"Topic1\", \"Topic1\", \"Topic1\", \"Topic1\", \"Topic1\", \"Topic1\", \"Topic1\", \"Topic1\", \"Topic1\", \"Topic1\", \"Topic1\", \"Topic1\", \"Topic1\", \"Topic2\", \"Topic2\", \"Topic2\", \"Topic2\", \"Topic2\", \"Topic2\", \"Topic2\", \"Topic2\", \"Topic2\", \"Topic2\", \"Topic2\", \"Topic2\", \"Topic2\", \"Topic2\", \"Topic2\", \"Topic2\", \"Topic2\", \"Topic2\", \"Topic2\", \"Topic2\", \"Topic2\", \"Topic2\", \"Topic2\", \"Topic2\", \"Topic2\", \"Topic2\", \"Topic2\", \"Topic2\", \"Topic2\", \"Topic2\", \"Topic2\", \"Topic2\", \"Topic2\", \"Topic2\", \"Topic2\", \"Topic2\", \"Topic2\", \"Topic2\", \"Topic2\", \"Topic2\", \"Topic2\", \"Topic2\", \"Topic2\", \"Topic2\", \"Topic2\", \"Topic3\", \"Topic3\", \"Topic3\", \"Topic3\", \"Topic3\", \"Topic3\", \"Topic3\", \"Topic3\", \"Topic3\", \"Topic3\", \"Topic3\", \"Topic3\", \"Topic3\", \"Topic3\", \"Topic3\", \"Topic3\", \"Topic3\", \"Topic3\", \"Topic3\", \"Topic3\", \"Topic3\", \"Topic3\", \"Topic3\", \"Topic3\", \"Topic3\", \"Topic3\", \"Topic3\", \"Topic3\", \"Topic3\", \"Topic3\", \"Topic3\", \"Topic3\", \"Topic3\", \"Topic3\", \"Topic3\", \"Topic3\", \"Topic3\", \"Topic3\", \"Topic3\", \"Topic3\", \"Topic3\", \"Topic3\", \"Topic3\", \"Topic3\", \"Topic3\", \"Topic3\", \"Topic4\", \"Topic4\", \"Topic4\", \"Topic4\", \"Topic4\", \"Topic4\", \"Topic4\", \"Topic4\", \"Topic4\", \"Topic4\", \"Topic4\", \"Topic4\", \"Topic4\", \"Topic4\", \"Topic4\", \"Topic4\", \"Topic4\", \"Topic4\", \"Topic4\", \"Topic4\", \"Topic4\", \"Topic4\", \"Topic4\", \"Topic4\", \"Topic4\", \"Topic4\", \"Topic4\", \"Topic4\", \"Topic4\", \"Topic4\", \"Topic4\", \"Topic4\", \"Topic4\", \"Topic4\", \"Topic4\", \"Topic4\", \"Topic4\", \"Topic4\", \"Topic4\", \"Topic4\", \"Topic4\", \"Topic4\", \"Topic4\", \"Topic4\", \"Topic4\", \"Topic4\", \"Topic4\", \"Topic4\", \"Topic4\", \"Topic4\", \"Topic5\", \"Topic5\", \"Topic5\", \"Topic5\", \"Topic5\", \"Topic5\", \"Topic5\", \"Topic5\", \"Topic5\", \"Topic5\", \"Topic5\", \"Topic5\", \"Topic5\", \"Topic5\", \"Topic5\", \"Topic5\", \"Topic5\", \"Topic5\", \"Topic5\", \"Topic5\", \"Topic5\", \"Topic5\", \"Topic5\", \"Topic5\", \"Topic5\", \"Topic5\", \"Topic5\", \"Topic5\", \"Topic5\", \"Topic5\", \"Topic5\", \"Topic5\", \"Topic5\", \"Topic5\", \"Topic5\", \"Topic5\", \"Topic5\", \"Topic5\", \"Topic5\", \"Topic5\", \"Topic5\", \"Topic5\", \"Topic5\", \"Topic5\", \"Topic5\", \"Topic5\", \"Topic5\", \"Topic5\", \"Topic5\", \"Topic5\", \"Topic5\", \"Topic6\", \"Topic6\", \"Topic6\", \"Topic6\", \"Topic6\", \"Topic6\", \"Topic6\", \"Topic6\", \"Topic6\", \"Topic6\", \"Topic6\", \"Topic6\", \"Topic6\", \"Topic6\", \"Topic6\", \"Topic6\", \"Topic6\", \"Topic6\", \"Topic6\", \"Topic6\", \"Topic6\", \"Topic6\", \"Topic6\", \"Topic6\", \"Topic6\", \"Topic6\", \"Topic6\", \"Topic6\", \"Topic6\", \"Topic6\", \"Topic6\", \"Topic6\", \"Topic6\", \"Topic6\", \"Topic6\", \"Topic6\", \"Topic6\", \"Topic6\", \"Topic6\", \"Topic6\", \"Topic6\", \"Topic6\", \"Topic6\", \"Topic6\", \"Topic6\", \"Topic6\", \"Topic6\", \"Topic6\", \"Topic6\", \"Topic7\", \"Topic7\", \"Topic7\", \"Topic7\", \"Topic7\", \"Topic7\", \"Topic7\", \"Topic7\", \"Topic7\", \"Topic7\", \"Topic7\", \"Topic7\", \"Topic7\", \"Topic7\", \"Topic7\", \"Topic7\", \"Topic7\", \"Topic7\", \"Topic7\", \"Topic7\", \"Topic7\", \"Topic7\", \"Topic7\", \"Topic7\", \"Topic7\", \"Topic7\", \"Topic7\", \"Topic7\", \"Topic7\", \"Topic7\", \"Topic7\", \"Topic7\", \"Topic7\", \"Topic7\", \"Topic7\", \"Topic7\", \"Topic7\", \"Topic7\", \"Topic7\", \"Topic7\", \"Topic7\", \"Topic7\", \"Topic7\", \"Topic7\", \"Topic7\", \"Topic7\", \"Topic7\", \"Topic8\", \"Topic8\", \"Topic8\", \"Topic8\", \"Topic8\", \"Topic8\", \"Topic8\", \"Topic8\", \"Topic8\", \"Topic8\", \"Topic8\", \"Topic8\", \"Topic8\", \"Topic8\", \"Topic8\", \"Topic8\", \"Topic8\", \"Topic8\", \"Topic8\", \"Topic8\", \"Topic8\", \"Topic8\", \"Topic8\", \"Topic8\", \"Topic8\", \"Topic8\", \"Topic8\", \"Topic8\", \"Topic8\", \"Topic8\", \"Topic8\", \"Topic8\", \"Topic8\", \"Topic8\", \"Topic8\", \"Topic8\", \"Topic8\", \"Topic8\", \"Topic8\", \"Topic8\", \"Topic8\", \"Topic8\", \"Topic8\", \"Topic8\", \"Topic8\", \"Topic8\", \"Topic8\", \"Topic8\", \"Topic8\", \"Topic9\", \"Topic9\", \"Topic9\", \"Topic9\", \"Topic9\", \"Topic9\", \"Topic9\", \"Topic9\", \"Topic9\", \"Topic9\", \"Topic9\", \"Topic9\", \"Topic9\", \"Topic9\", \"Topic9\", \"Topic9\", \"Topic9\", \"Topic9\", \"Topic9\", \"Topic9\", \"Topic9\", \"Topic9\", \"Topic9\", \"Topic9\", \"Topic9\", \"Topic9\", \"Topic9\", \"Topic9\", \"Topic9\", \"Topic9\", \"Topic9\", \"Topic9\", \"Topic9\", \"Topic9\", \"Topic9\", \"Topic9\", \"Topic9\", \"Topic9\", \"Topic9\", \"Topic9\", \"Topic9\", \"Topic9\", \"Topic9\", \"Topic9\", \"Topic9\", \"Topic9\", \"Topic9\", \"Topic10\", \"Topic10\", \"Topic10\", \"Topic10\", \"Topic10\", \"Topic10\", \"Topic10\", \"Topic10\", \"Topic10\", \"Topic10\", \"Topic10\", \"Topic10\", \"Topic10\", \"Topic10\", \"Topic10\", \"Topic10\", \"Topic10\", \"Topic10\", \"Topic10\", \"Topic10\", \"Topic10\", \"Topic10\", \"Topic10\", \"Topic10\", \"Topic10\", \"Topic10\", \"Topic10\", \"Topic10\", \"Topic10\", \"Topic10\", \"Topic10\", \"Topic10\", \"Topic10\", \"Topic10\", \"Topic10\", \"Topic10\", \"Topic10\", \"Topic10\", \"Topic10\", \"Topic10\", \"Topic10\", \"Topic10\", \"Topic10\", \"Topic10\", \"Topic10\", \"Topic11\", \"Topic11\", \"Topic11\", \"Topic11\", \"Topic11\", \"Topic11\", \"Topic11\", \"Topic11\", \"Topic11\", \"Topic11\", \"Topic11\", \"Topic11\", \"Topic11\", \"Topic11\", \"Topic11\", \"Topic11\", \"Topic11\", \"Topic11\", \"Topic11\", \"Topic11\", \"Topic11\", \"Topic11\", \"Topic11\", \"Topic11\", \"Topic11\", \"Topic11\", \"Topic11\", \"Topic11\", \"Topic11\", \"Topic11\", \"Topic11\", \"Topic11\", \"Topic11\", \"Topic11\", \"Topic11\", \"Topic11\", \"Topic11\", \"Topic11\", \"Topic11\", \"Topic11\", \"Topic11\", \"Topic11\", \"Topic11\", \"Topic11\", \"Topic12\", \"Topic12\", \"Topic12\", \"Topic12\", \"Topic12\", \"Topic12\", \"Topic12\", \"Topic12\", \"Topic12\", \"Topic12\", \"Topic12\", \"Topic12\", \"Topic12\", \"Topic12\", \"Topic12\", \"Topic12\", \"Topic12\", \"Topic12\", \"Topic12\", \"Topic12\", \"Topic12\", \"Topic12\", \"Topic12\", \"Topic12\", \"Topic12\", \"Topic12\", \"Topic12\", \"Topic12\", \"Topic12\", \"Topic12\", \"Topic12\", \"Topic12\", \"Topic12\", \"Topic12\", \"Topic12\", \"Topic12\", \"Topic12\", \"Topic12\", \"Topic12\", \"Topic12\", \"Topic12\", \"Topic12\", \"Topic12\", \"Topic12\", \"Topic12\", \"Topic13\", \"Topic13\", \"Topic13\", \"Topic13\", \"Topic13\", \"Topic13\", \"Topic13\", \"Topic13\", \"Topic13\", \"Topic13\", \"Topic13\", \"Topic13\", \"Topic13\", \"Topic13\", \"Topic13\", \"Topic13\", \"Topic13\", \"Topic13\", \"Topic13\", \"Topic13\", \"Topic13\", \"Topic13\", \"Topic13\", \"Topic13\", \"Topic13\", \"Topic13\", \"Topic13\", \"Topic13\", \"Topic13\", \"Topic13\", \"Topic13\", \"Topic13\", \"Topic13\", \"Topic13\", \"Topic13\", \"Topic13\", \"Topic13\", \"Topic13\", \"Topic13\", \"Topic13\", \"Topic13\", \"Topic13\", \"Topic13\", \"Topic13\", \"Topic13\", \"Topic13\", \"Topic13\", \"Topic13\", \"Topic13\", \"Topic14\", \"Topic14\", \"Topic14\", \"Topic14\", \"Topic14\", \"Topic14\", \"Topic14\", \"Topic14\", \"Topic14\", \"Topic14\", \"Topic14\", \"Topic14\", \"Topic14\", \"Topic14\", \"Topic14\", \"Topic14\", \"Topic14\", \"Topic14\", \"Topic14\", \"Topic14\", \"Topic14\", \"Topic14\", \"Topic14\", \"Topic14\", \"Topic14\", \"Topic14\", \"Topic14\", \"Topic14\", \"Topic14\", \"Topic14\", \"Topic14\", \"Topic14\", \"Topic14\", \"Topic14\", \"Topic14\", \"Topic14\", \"Topic14\", \"Topic14\", \"Topic14\", \"Topic14\", \"Topic14\", \"Topic14\", \"Topic14\", \"Topic14\", \"Topic14\", \"Topic14\", \"Topic15\", \"Topic15\", \"Topic15\", \"Topic15\", \"Topic15\", \"Topic15\", \"Topic15\", \"Topic15\", \"Topic15\", \"Topic15\", \"Topic15\", \"Topic15\", \"Topic15\", \"Topic15\", \"Topic15\", \"Topic15\", \"Topic15\", \"Topic15\", \"Topic15\", \"Topic15\", \"Topic15\", \"Topic15\", \"Topic15\", \"Topic15\", \"Topic15\", \"Topic15\", \"Topic15\", \"Topic15\", \"Topic15\", \"Topic15\", \"Topic15\", \"Topic15\", \"Topic15\", \"Topic15\", \"Topic15\", \"Topic15\", \"Topic15\", \"Topic15\", \"Topic15\", \"Topic15\", \"Topic15\", \"Topic15\", \"Topic15\", \"Topic15\", \"Topic15\", \"Topic15\", \"Topic15\", \"Topic15\", \"Topic16\", \"Topic16\", \"Topic16\", \"Topic16\", \"Topic16\", \"Topic16\", \"Topic16\", \"Topic16\", \"Topic16\", \"Topic16\", \"Topic16\", \"Topic16\", \"Topic16\", \"Topic16\", \"Topic16\", \"Topic16\", \"Topic16\", \"Topic16\", \"Topic16\", \"Topic16\", \"Topic16\", \"Topic16\", \"Topic16\", \"Topic16\", \"Topic16\", \"Topic16\", \"Topic16\", \"Topic16\", \"Topic16\", \"Topic16\", \"Topic16\", \"Topic16\", \"Topic16\", \"Topic16\", \"Topic16\", \"Topic16\", \"Topic16\", \"Topic16\", \"Topic16\", \"Topic16\", \"Topic16\", \"Topic16\", \"Topic16\", \"Topic16\", \"Topic16\", \"Topic16\", \"Topic16\", \"Topic16\", \"Topic16\", \"Topic17\", \"Topic17\", \"Topic17\", \"Topic17\", \"Topic17\", \"Topic17\", \"Topic17\", \"Topic17\", \"Topic17\", \"Topic17\", \"Topic17\", \"Topic17\", \"Topic17\", \"Topic17\", \"Topic17\", \"Topic17\", \"Topic17\", \"Topic17\", \"Topic17\", \"Topic17\", \"Topic17\", \"Topic17\", \"Topic17\", \"Topic17\", \"Topic17\", \"Topic17\", \"Topic17\", \"Topic17\", \"Topic17\", \"Topic17\", \"Topic17\", \"Topic17\", \"Topic17\", \"Topic17\", \"Topic17\", \"Topic17\", \"Topic17\", \"Topic17\", \"Topic17\", \"Topic17\", \"Topic17\", \"Topic17\", \"Topic18\", \"Topic18\", \"Topic18\", \"Topic18\", \"Topic18\", \"Topic18\", \"Topic18\", \"Topic18\", \"Topic18\", \"Topic18\", \"Topic18\", \"Topic18\", \"Topic18\", \"Topic18\", \"Topic18\", \"Topic18\", \"Topic18\", \"Topic18\", \"Topic18\", \"Topic18\", \"Topic18\", \"Topic18\", \"Topic18\", \"Topic18\", \"Topic18\", \"Topic18\", \"Topic18\", \"Topic18\", \"Topic18\", \"Topic18\", \"Topic18\", \"Topic18\", \"Topic18\", \"Topic18\", \"Topic18\", \"Topic18\", \"Topic18\", \"Topic18\", \"Topic18\", \"Topic18\", \"Topic18\", \"Topic18\", \"Topic18\", \"Topic18\", \"Topic18\", \"Topic19\", \"Topic19\", \"Topic19\", \"Topic19\", \"Topic19\", \"Topic19\", \"Topic19\", \"Topic19\", \"Topic19\", \"Topic19\", \"Topic19\", \"Topic19\", \"Topic19\", \"Topic19\", \"Topic19\", \"Topic19\", \"Topic19\", \"Topic19\", \"Topic19\", \"Topic19\", \"Topic19\", \"Topic19\", \"Topic19\", \"Topic19\", \"Topic19\", \"Topic19\", \"Topic19\", \"Topic19\", \"Topic19\", \"Topic19\", \"Topic19\", \"Topic19\", \"Topic19\", \"Topic19\", \"Topic20\", \"Topic20\", \"Topic20\", \"Topic20\", \"Topic20\", \"Topic20\", \"Topic20\", \"Topic20\", \"Topic20\", \"Topic20\", \"Topic20\", \"Topic20\", \"Topic20\", \"Topic20\", \"Topic20\", \"Topic20\", \"Topic20\", \"Topic20\", \"Topic20\", \"Topic20\", \"Topic20\", \"Topic20\", \"Topic20\", \"Topic20\", \"Topic20\", \"Topic20\", \"Topic20\", \"Topic20\", \"Topic20\", \"Topic20\", \"Topic20\", \"Topic20\", \"Topic20\", \"Topic20\", \"Topic20\", \"Topic20\", \"Topic20\", \"Topic20\", \"Topic20\", \"Topic20\"], \"Freq\": [1251.0, 1210.0, 1336.0, 1688.0, 1093.0, 1082.0, 731.0, 700.0, 830.0, 829.0, 742.0, 1768.0, 560.0, 480.0, 476.0, 545.0, 3530.0, 536.0, 437.0, 433.0, 664.0, 523.0, 451.0, 367.0, 383.0, 385.0, 345.0, 321.0, 521.0, 349.0, 1250.25537109375, 1209.88623046875, 171.2713623046875, 94.02287292480469, 92.12020111083984, 70.25902557373047, 60.83595657348633, 111.168701171875, 31.77311134338379, 24.593717575073242, 21.34978675842285, 21.203216552734375, 19.9554386138916, 19.11457633972168, 16.2734432220459, 16.219223022460938, 782.6790161132812, 13.542078018188477, 11.916990280151367, 11.63653564453125, 11.578510284423828, 8.198585510253906, 77.84512329101562, 7.6231184005737305, 7.5002264976501465, 7.441816329956055, 7.392928123474121, 6.9566216468811035, 6.692249774932861, 6.066756725311279, 375.4559631347656, 23.731985092163086, 36.07865524291992, 785.04736328125, 362.3074951171875, 19.61387062072754, 37.044837951660156, 28.96030616760254, 42.16839599609375, 70.78839111328125, 34.99314498901367, 69.45841979980469, 36.490943908691406, 84.36863708496094, 59.26150131225586, 51.57186508178711, 50.02295684814453, 43.73111343383789, 38.18622589111328, 42.443058013916016, 34.97745895385742, 31.339506149291992, 31.667926788330078, 544.5357666015625, 535.473388671875, 173.89215087890625, 63.47789764404297, 59.54386520385742, 48.5369987487793, 46.98126983642578, 45.703758239746094, 41.243927001953125, 35.74933624267578, 34.379493713378906, 32.296058654785156, 31.671382904052734, 30.824066162109375, 28.552141189575195, 28.357881546020508, 27.658910751342773, 25.025062561035156, 24.863710403442383, 22.591310501098633, 22.09467315673828, 21.050830841064453, 20.640146255493164, 19.077804565429688, 26.432613372802734, 18.108407974243164, 16.546234130859375, 16.395021438598633, 15.911641120910645, 15.5673189163208, 724.5924682617188, 393.6557312011719, 17.460269927978516, 112.376220703125, 30.026893615722656, 46.44347381591797, 248.44581604003906, 45.059078216552734, 48.79201126098633, 42.25035095214844, 40.9451904296875, 76.9367446899414, 54.795310974121094, 32.16584396362305, 29.897686004638672, 699.1307373046875, 288.2904968261719, 97.91273498535156, 84.49504852294922, 69.56172180175781, 69.06987762451172, 54.42195510864258, 41.85736083984375, 34.98868179321289, 34.400535583496094, 32.05804443359375, 29.24723243713379, 26.879587173461914, 26.043048858642578, 24.471576690673828, 21.613710403442383, 20.683332443237305, 19.04543113708496, 18.73838996887207, 16.323246002197266, 15.596628189086914, 15.400421142578125, 15.251913070678711, 15.17093563079834, 15.005888938903809, 14.750808715820312, 14.100436210632324, 11.903903007507324, 10.73571491241455, 10.205652236938477, 972.7723388671875, 446.94378662109375, 58.20944595336914, 189.0521697998047, 198.84982299804688, 141.07827758789062, 77.420654296875, 82.8809814453125, 433.151123046875, 74.71144104003906, 32.64237594604492, 46.85538101196289, 35.39852523803711, 32.47615051269531, 34.6229133605957, 29.516632080078125, 208.93270874023438, 168.85430908203125, 112.17472839355469, 74.6473388671875, 58.01040267944336, 48.38499450683594, 41.15732192993164, 31.203296661376953, 29.09673500061035, 22.476425170898438, 18.966882705688477, 18.731618881225586, 18.730886459350586, 18.083393096923828, 18.058467864990234, 17.824522018432617, 15.107390403747559, 14.894947052001953, 424.2702331542969, 13.465975761413574, 13.246350288391113, 11.508637428283691, 10.466878890991211, 10.280811309814453, 10.090413093566895, 207.26104736328125, 140.4804229736328, 113.90877532958984, 8.682967185974121, 8.508886337280273, 65.36251068115234, 108.12564849853516, 29.46421241760254, 744.5176391601562, 16.734346389770508, 197.20350646972656, 215.65357971191406, 22.955394744873047, 497.0741882324219, 62.33327102661133, 66.67533874511719, 44.29576110839844, 100.14966583251953, 49.799293518066406, 90.1259994506836, 30.28448486328125, 37.323787689208984, 37.18949508666992, 36.33224868774414, 30.786081314086914, 384.548095703125, 288.90570068359375, 222.8600311279297, 209.69583129882812, 199.30430603027344, 125.02114868164062, 108.1171646118164, 93.3067398071289, 54.834007263183594, 54.38296127319336, 44.83671188354492, 25.296714782714844, 24.31096839904785, 22.127971649169922, 21.3892879486084, 13.011219024658203, 11.955297470092773, 17.77132225036621, 10.576204299926758, 36.16175079345703, 8.628345489501953, 8.525222778320312, 8.042469024658203, 7.548706531524658, 7.523031234741211, 6.847984313964844, 6.783924579620361, 6.238933086395264, 5.675736427307129, 5.59868049621582, 121.74602508544922, 23.01915168762207, 754.9837646484375, 573.8514404296875, 55.37285232543945, 23.31517791748047, 23.98977279663086, 60.4251708984375, 41.131011962890625, 46.07929992675781, 60.2495231628418, 60.269569396972656, 62.441932678222656, 52.3044319152832, 50.38399887084961, 39.7806396484375, 36.53988265991211, 29.677637100219727, 31.808780670166016, 30.45292854309082, 28.44942855834961, 348.8760681152344, 382.02191162109375, 146.78732299804688, 98.93074798583984, 69.09231567382812, 51.88123321533203, 45.419578552246094, 43.01957702636719, 40.72880172729492, 40.564735412597656, 28.83663558959961, 27.687042236328125, 26.304298400878906, 25.951705932617188, 24.71054458618164, 23.404909133911133, 22.4573917388916, 21.899511337280273, 18.82438850402832, 18.52327537536621, 17.211097717285156, 15.984598159790039, 15.611589431762695, 15.07606029510498, 14.957544326782227, 14.861903190612793, 14.134857177734375, 13.739731788635254, 13.311676979064941, 13.035423278808594, 123.56726837158203, 332.2320556640625, 169.9358367919922, 110.79198455810547, 126.95286560058594, 101.25140380859375, 43.20940017700195, 87.76985168457031, 33.59760284423828, 195.48146057128906, 114.44947052001953, 389.6515197753906, 104.6344985961914, 58.981929779052734, 36.860042572021484, 42.14657211303711, 29.298986434936523, 39.8474235534668, 27.734350204467773, 436.88800048828125, 289.03131103515625, 152.89747619628906, 124.30823516845703, 122.4161376953125, 90.12271118164062, 87.0610580444336, 66.04991912841797, 88.61567687988281, 25.392578125, 62.372928619384766, 25.808069229125977, 22.33349609375, 21.004995346069336, 19.3497257232666, 19.172779083251953, 17.416242599487305, 17.293596267700195, 15.940264701843262, 22.81037712097168, 15.029486656188965, 14.813054084777832, 14.687350273132324, 14.22097110748291, 13.174230575561523, 12.839665412902832, 12.825590133666992, 11.975776672363281, 11.411299705505371, 11.272651672363281, 48.095314025878906, 24.660198211669922, 111.01309204101562, 214.66317749023438, 250.44911193847656, 231.05368041992188, 44.64199447631836, 35.93937683105469, 17.01294708251953, 63.39495849609375, 95.37945556640625, 22.68744659423828, 99.10203552246094, 29.01036834716797, 28.128231048583984, 22.002182006835938, 22.26108741760254, 730.4039916992188, 432.28363037109375, 146.43600463867188, 62.068870544433594, 60.489559173583984, 48.82087707519531, 47.174373626708984, 46.57586669921875, 30.469276428222656, 27.425382614135742, 21.785972595214844, 16.22442054748535, 15.145417213439941, 13.963644027709961, 12.88046646118164, 12.684391975402832, 11.677757263183594, 11.073110580444336, 10.837128639221191, 9.80502986907959, 8.817906379699707, 8.563642501831055, 8.071630477905273, 8.053923606872559, 7.9524664878845215, 7.067471504211426, 7.036208629608154, 6.974791049957275, 6.913311958312988, 6.753393173217773, 40.70460891723633, 42.145381927490234, 48.34389877319336, 23.81913948059082, 62.15507888793945, 606.6024169921875, 15.761980056762695, 16.746288299560547, 54.85034942626953, 158.0412139892578, 129.95018005371094, 94.69510650634766, 40.446678161621094, 38.7148551940918, 104.07093811035156, 62.772621154785156, 22.193758010864258, 53.977840423583984, 24.31377601623535, 479.20306396484375, 475.9963684082031, 288.4182434082031, 215.5715789794922, 128.86325073242188, 72.44062805175781, 61.22014236450195, 48.75382995605469, 42.46937942504883, 32.31822204589844, 43.213157653808594, 29.504844665527344, 28.813982009887695, 23.022968292236328, 21.903438568115234, 18.47064781188965, 26.553035736083984, 18.043134689331055, 16.898902893066406, 15.95723819732666, 15.542627334594727, 15.519953727722168, 14.574071884155273, 11.7610445022583, 11.503283500671387, 10.850643157958984, 11.546207427978516, 10.69400691986084, 10.424190521240234, 9.84301471710205, 28.231033325195312, 153.6337890625, 27.402442932128906, 125.91622161865234, 16.555505752563477, 131.97964477539062, 38.97492980957031, 208.18849182128906, 38.07960891723633, 70.22758483886719, 22.563304901123047, 30.18125343322754, 30.683090209960938, 27.96379280090332, 27.64956283569336, 23.454198837280273, 22.685827255249023, 367.0636291503906, 276.9451904296875, 74.3045654296875, 102.61951446533203, 38.840641021728516, 30.113779067993164, 26.937164306640625, 25.35903549194336, 23.974327087402344, 21.988779067993164, 21.438087463378906, 20.00551986694336, 18.493240356445312, 17.821247100830078, 15.142922401428223, 15.111056327819824, 13.86275577545166, 13.731352806091309, 13.643339157104492, 13.30583381652832, 13.168375968933105, 12.409361839294434, 11.971627235412598, 11.646146774291992, 306.9589538574219, 45.51652908325195, 11.110712051391602, 11.050847053527832, 10.695459365844727, 10.676319122314453, 15.551175117492676, 475.083984375, 141.1190185546875, 23.941837310791016, 65.31458282470703, 24.369550704956055, 65.62532806396484, 66.483642578125, 153.7292022705078, 17.629364013671875, 33.694175720214844, 27.421897888183594, 20.78860855102539, 23.475147247314453, 25.51339340209961, 345.09625244140625, 86.06037139892578, 70.64422607421875, 68.1075210571289, 50.08412170410156, 40.0806884765625, 37.617733001708984, 32.226776123046875, 31.143409729003906, 29.005046844482422, 27.491689682006836, 35.616737365722656, 30.420936584472656, 24.46244239807129, 24.042972564697266, 23.793142318725586, 22.394718170166016, 21.035688400268555, 18.4813175201416, 17.858272552490234, 17.741025924682617, 17.746583938598633, 16.982065200805664, 16.914573669433594, 16.779956817626953, 16.625272750854492, 16.587385177612305, 15.005925178527832, 14.89138412475586, 13.571064949035645, 30.27921485900879, 40.61001968383789, 146.21900939941406, 58.01313400268555, 77.631103515625, 258.4732666015625, 35.46495819091797, 216.67510986328125, 104.6505126953125, 39.63801956176758, 42.39093017578125, 34.865623474121094, 51.363136291503906, 23.711437225341797, 133.07142639160156, 79.96973419189453, 55.880924224853516, 51.50270462036133, 48.45777130126953, 45.91532897949219, 32.41472244262695, 32.403438568115234, 31.507728576660156, 30.769968032836914, 25.561491012573242, 25.683246612548828, 23.33635139465332, 23.260957717895508, 21.132991790771484, 19.237918853759766, 16.558757781982422, 16.551485061645508, 15.46328067779541, 15.333670616149902, 15.158381462097168, 15.233145713806152, 14.281622886657715, 12.549424171447754, 75.65465545654297, 12.140297889709473, 10.832498550415039, 11.38403034210205, 10.504995346069336, 9.822938919067383, 191.6783905029297, 579.787353515625, 56.202003479003906, 27.560894012451172, 271.2593994140625, 272.3716125488281, 196.75552368164062, 47.82788848876953, 87.26763916015625, 226.4180450439453, 49.27628707885742, 53.538516998291016, 26.255475997924805, 28.014711380004883, 26.48436737060547, 122.6768569946289, 115.34609985351562, 97.6780014038086, 55.849082946777344, 44.221824645996094, 43.00699234008789, 28.226144790649414, 27.67703628540039, 29.83066177368164, 23.4008846282959, 23.10523223876953, 22.13157081604004, 64.81879425048828, 21.181259155273438, 20.812644958496094, 20.65891456604004, 20.419414520263672, 20.062353134155273, 20.011505126953125, 19.90346908569336, 16.2264347076416, 15.20695972442627, 14.792423248291016, 14.281976699829102, 14.000873565673828, 12.508842468261719, 12.022573471069336, 144.38352966308594, 11.421979904174805, 11.047022819519043, 47.32293701171875, 25.85285186767578, 153.30160522460938, 130.83396911621094, 79.43732452392578, 31.043142318725586, 28.45653533935547, 281.3948669433594, 45.89248275756836, 84.21650695800781, 85.98907470703125, 85.04105377197266, 129.40774536132812, 37.91197204589844, 32.497188568115234, 33.016571044921875, 33.41561508178711, 29.952037811279297, 31.808475494384766, 320.927490234375, 223.5252227783203, 44.60940170288086, 38.670475006103516, 35.795806884765625, 33.06930160522461, 29.585847854614258, 28.641929626464844, 28.097623825073242, 21.712369918823242, 21.108646392822266, 20.93226432800293, 19.627416610717773, 18.052860260009766, 16.469745635986328, 16.380212783813477, 15.944523811340332, 15.51073932647705, 14.942987442016602, 14.131726264953613, 13.925952911376953, 13.633170127868652, 13.184703826904297, 13.040629386901855, 12.99944019317627, 12.929916381835938, 12.565224647521973, 12.279705047607422, 12.024698257446289, 11.876219749450684, 46.37533187866211, 18.69408416748047, 20.654233932495117, 63.4700927734375, 18.034528732299805, 27.4354190826416, 189.96554565429688, 102.80364990234375, 61.89434051513672, 44.5341796875, 22.586307525634766, 26.349145889282227, 25.68219566345215, 18.80044174194336, 17.52169418334961, 16.513294219970703, 164.57086181640625, 105.55082702636719, 98.06600189208984, 56.81942367553711, 46.43522644042969, 43.409969329833984, 34.09243392944336, 29.57952117919922, 40.09857940673828, 27.172189712524414, 23.989683151245117, 22.73323631286621, 20.316007614135742, 18.754592895507812, 26.460330963134766, 17.831571578979492, 14.51794147491455, 14.316573143005371, 14.18831729888916, 13.442047119140625, 13.314749717712402, 12.289539337158203, 11.84841251373291, 11.504356384277344, 11.470191955566406, 10.758488655090332, 10.63541316986084, 9.961094856262207, 9.881629943847656, 9.7686128616333, 42.92231369018555, 154.85842895507812, 26.84465217590332, 39.25700759887695, 139.74461364746094, 88.64168548583984, 82.46959686279297, 22.576404571533203, 22.642873764038086, 358.3132019042969, 109.03350830078125, 56.68101119995117, 16.78566551208496, 39.4367790222168, 38.82419967651367, 46.18071365356445, 41.450313568115234, 21.057065963745117, 84.6658935546875, 63.751495361328125, 57.015541076660156, 53.027610778808594, 52.34203338623047, 46.03636169433594, 42.449031829833984, 28.968381881713867, 28.207103729248047, 26.442262649536133, 26.23332977294922, 25.116697311401367, 24.380773544311523, 25.059913635253906, 24.22529411315918, 42.459381103515625, 21.297988891601562, 21.12413787841797, 20.917247772216797, 19.99146842956543, 19.245433807373047, 17.66118621826172, 47.745391845703125, 15.849302291870117, 16.311504364013672, 15.497514724731445, 16.049161911010742, 14.885944366455078, 14.654373168945312, 14.62472915649414, 108.49791717529297, 26.314634323120117, 20.44797134399414, 39.44703674316406, 77.14794158935547, 21.703857421875, 39.4819221496582, 45.82233428955078, 42.23695755004883, 33.791805267333984, 55.40640640258789, 61.05669021606445, 83.50909423828125, 49.00749588012695, 30.668102264404297, 33.819087982177734, 29.372074127197266, 27.058788299560547, 25.33096694946289, 177.047119140625, 76.69371795654297, 52.29624557495117, 42.935096740722656, 40.73379898071289, 40.309776306152344, 39.99209213256836, 40.025962829589844, 37.7790641784668, 33.762516021728516, 33.64453887939453, 33.443626403808594, 30.58301544189453, 27.915271759033203, 27.431209564208984, 25.159372329711914, 24.232023239135742, 23.629039764404297, 28.16267967224121, 21.260526657104492, 20.97014045715332, 20.884031295776367, 19.366622924804688, 19.019054412841797, 18.342792510986328, 17.860136032104492, 24.049318313598633, 15.251749992370605, 13.741532325744629, 12.24566650390625, 180.34536743164062, 36.05121994018555, 70.43326568603516, 48.44865036010742, 29.119979858398438, 233.02723693847656, 22.388221740722656, 45.56787872314453, 28.234378814697266, 32.734336853027344, 28.894325256347656, 24.3549861907959, 58.56786346435547, 57.57004165649414, 55.591514587402344, 50.63276672363281, 51.02714538574219, 49.245296478271484, 40.69429397583008, 32.86273956298828, 30.232858657836914, 25.96792984008789, 25.509151458740234, 24.456851959228516, 23.244779586791992, 22.34984016418457, 22.302261352539062, 20.71154022216797, 20.49863052368164, 16.84091567993164, 16.580127716064453, 16.443605422973633, 16.253385543823242, 15.947601318359375, 15.463790893554688, 15.140390396118164, 17.755210876464844, 14.783053398132324, 14.73376178741455, 13.202005386352539, 13.110528945922852, 12.210179328918457, 22.689729690551758, 23.850093841552734, 22.253358840942383, 36.173126220703125, 105.54366302490234, 29.87183380126953, 30.200878143310547, 114.3807373046875, 121.50737762451172, 71.04402160644531, 20.324289321899414, 28.13935661315918, 25.469161987304688, 24.340961456298828, 21.324447631835938, 146.171875, 71.7884292602539, 59.33905029296875, 54.60026550292969, 52.681556701660156, 59.24138259887695, 43.219810485839844, 43.10500717163086, 40.69816970825195, 40.55596923828125, 38.52814483642578, 42.21083450317383, 40.142147064208984, 34.26097869873047, 32.8892822265625, 29.166223526000977, 26.937562942504883, 26.105615615844727, 25.900922775268555, 25.008398056030273, 24.86457061767578, 23.9429931640625, 23.693923950195312, 22.8447322845459, 21.35233497619629, 19.330461502075195, 18.337360382080078, 18.01982879638672, 16.927490234375, 15.846190452575684, 25.19196128845215, 144.0734405517578, 38.371463775634766, 24.603506088256836, 196.80690002441406, 59.59764099121094, 57.00509262084961, 55.89034652709961, 54.40824890136719, 53.091312408447266, 49.73911666870117, 51.97604751586914, 37.92755889892578, 37.2035026550293, 36.69041442871094, 33.060298919677734, 29.248327255249023, 24.439311981201172, 22.895219802856445, 18.262760162353516, 17.562828063964844, 16.68840789794922, 12.671712875366211, 12.462251663208008, 12.424327850341797, 11.85887336730957, 11.75688648223877, 10.424540519714355, 9.905945777893066, 9.885574340820312, 8.696680068969727, 8.23737907409668, 8.199989318847656, 8.137574195861816, 52.57728958129883, 37.27359390258789, 31.788372039794922, 11.032100677490234, 16.489133834838867, 29.034406661987305, 46.60497283935547, 16.858449935913086, 18.57015609741211, 12.369077682495117], \"logprob\": [30.0, 29.0, 28.0, 27.0, 26.0, 25.0, 24.0, 23.0, 22.0, 21.0, 20.0, 19.0, 18.0, 17.0, 16.0, 15.0, 14.0, 13.0, 12.0, 11.0, 10.0, 9.0, 8.0, 7.0, 6.0, 5.0, 4.0, 3.0, 2.0, 1.0, -1.7551000118255615, -1.7878999710083008, -3.743000030517578, -4.342700004577637, -4.363100051879883, -4.633999824523926, -4.7779998779296875, -4.17519998550415, -5.427599906921387, -5.683700084686279, -5.825200080871582, -5.832099914550781, -5.8927001953125, -5.935800075531006, -6.096700191497803, -6.099999904632568, -2.2235000133514404, -6.280399799346924, -6.408199787139893, -6.43209981918335, -6.437099933624268, -6.782299995422363, -4.531499862670898, -6.855000019073486, -6.871300220489502, -6.8790998458862305, -6.885700225830078, -6.946499824523926, -6.985300064086914, -7.083399772644043, -2.9581000804901123, -5.719399929046631, -5.30049991607666, -2.2204999923706055, -2.9937000274658203, -5.909999847412109, -5.274099826812744, -5.520299911499023, -5.144499778747559, -4.626500129699707, -5.331099987030029, -4.645500183105469, -5.289100170135498, -4.451000213623047, -4.804299831390381, -4.94320011138916, -4.973700046539307, -5.1082000732421875, -5.24370002746582, -5.138000011444092, -5.331500053405762, -5.441299915313721, -5.4309000968933105, -2.4186999797821045, -2.435499906539917, -3.5601999759674072, -4.567999839782715, -4.631999969482422, -4.836400032043457, -4.868899822235107, -4.896500110626221, -4.999199867248535, -5.142099857330322, -5.18120002746582, -5.24370002746582, -5.263299942016602, -5.29040002822876, -5.3668999671936035, -5.373799800872803, -5.39870023727417, -5.498799800872803, -5.505300045013428, -5.601099967956543, -5.623300075531006, -5.6717000007629395, -5.691400051116943, -5.770199775695801, -5.4440999031066895, -5.822299957275391, -5.912499904632568, -5.9217000007629395, -5.951600074768066, -5.973499774932861, -2.1331000328063965, -2.7432000637054443, -5.858799934387207, -3.996799945831299, -5.3165998458862305, -4.88040018081665, -3.2035000324249268, -4.910699844360352, -4.831099987030029, -4.975100040435791, -5.006400108337402, -4.375699996948242, -4.715099811553955, -5.247799873352051, -5.320899963378906, -2.1105000972747803, -2.9964001178741455, -4.076300144195557, -4.223599910736084, -4.418099880218506, -4.42519998550415, -4.663599967956543, -4.92609977722168, -5.105299949645996, -5.122300148010254, -5.192800045013428, -5.284599781036377, -5.36899995803833, -5.400599956512451, -5.462800025939941, -5.586999893188477, -5.63100004196167, -5.713500022888184, -5.729800224304199, -5.867800235748291, -5.913300037384033, -5.925899982452393, -5.9355998039245605, -5.940999984741211, -5.951900005340576, -5.968999862670898, -6.014100074768066, -6.183499813079834, -6.286799907684326, -6.337399959564209, -1.7802000045776367, -2.5578999519348145, -4.59630012512207, -3.418299913406372, -3.367799997329712, -3.7109999656677246, -4.311100006103516, -4.2428998947143555, -2.5892999172210693, -4.346700191497803, -5.174699783325195, -4.813300132751465, -5.093699932098389, -5.179800033569336, -5.115799903869629, -5.275400161743164, -3.245500087738037, -3.4584999084472656, -3.867500066757202, -4.274799823760986, -4.526899814605713, -4.7083001136779785, -4.870100021362305, -5.146999835968018, -5.216899871826172, -5.475100040435791, -5.644800186157227, -5.657299995422363, -5.657400131225586, -5.692500114440918, -5.693900108337402, -5.706999778747559, -5.872399806976318, -5.886499881744385, -2.5371999740600586, -5.987400054931641, -6.003799915313721, -6.144400119781494, -6.239299774169922, -6.257299900054932, -6.275899887084961, -3.2535998821258545, -3.6424999237060547, -3.852099895477295, -6.426199913024902, -6.446400165557861, -4.407599925994873, -3.9042000770568848, -5.204400062561035, -1.9747999906539917, -5.770100116729736, -3.303299903869629, -3.213900089263916, -5.453999996185303, -2.3787999153137207, -4.454999923706055, -4.387700080871582, -4.796599864959717, -3.9809000492095947, -4.679500102996826, -4.086299896240234, -5.1768999099731445, -4.967899799346924, -4.971499919891357, -4.994800090789795, -5.1605000495910645, -2.5941998958587646, -2.8801000118255615, -3.139699935913086, -3.2005999088287354, -3.2513999938964844, -3.7177000045776367, -3.86299991607666, -4.010300159454346, -4.541900157928467, -4.55019998550415, -4.743199825286865, -5.315499782562256, -5.355299949645996, -5.449399948120117, -5.48330020904541, -5.980400085449219, -6.065000057220459, -5.668600082397461, -6.187600135803223, -4.958199977874756, -6.391200065612793, -6.403200149536133, -6.46150016784668, -6.524799823760986, -6.528299808502197, -6.622300148010254, -6.631700038909912, -6.715400218963623, -6.809999942779541, -6.823699951171875, -3.74429988861084, -5.409900188446045, -1.9194999933242798, -2.1939001083374023, -4.532100200653076, -5.39709997177124, -5.368599891662598, -4.444799900054932, -4.829500198364258, -4.71589994430542, -4.447700023651123, -4.447400093078613, -4.4120001792907715, -4.589099884033203, -4.6265997886657715, -4.862800121307373, -4.947800159454346, -5.155799865722656, -5.08650016784668, -5.130000114440918, -5.1981000900268555, -2.6603000164031982, -2.569499969482422, -3.5260000228881836, -3.920599937438965, -4.279600143432617, -4.565999984741211, -4.699100017547607, -4.753300189971924, -4.80810022354126, -4.812099933624268, -5.153299808502197, -5.193999767303467, -5.245299816131592, -5.258800029754639, -5.307799816131592, -5.362100124359131, -5.40339994430542, -5.428500175476074, -5.579800128936768, -5.5960001945495605, -5.669400215148926, -5.7434000968933105, -5.767000198364258, -5.8018999099731445, -5.809800148010254, -5.816199779510498, -5.866399765014648, -5.894700050354004, -5.926400184631348, -5.947299957275391, -3.698199987411499, -2.709199905395508, -3.3796000480651855, -3.807300090789795, -3.6712000370025635, -3.89739990234375, -4.748899936676025, -4.040299892425537, -5.000500202178955, -3.239500045776367, -3.774899959564209, -2.5497000217437744, -3.864500045776367, -4.43779993057251, -4.907899856567383, -4.773799896240234, -5.137400150299072, -4.829899787902832, -5.192299842834473, -2.3217999935150146, -2.734999895095825, -3.3717000484466553, -3.578700065612793, -3.594099998474121, -3.9003000259399414, -3.9349000453948975, -4.211100101470947, -3.9172000885009766, -5.166999816894531, -4.268400192260742, -5.1508002281188965, -5.295400142669678, -5.3566999435424805, -5.438799858093262, -5.447999954223633, -5.544099807739258, -5.551199913024902, -5.632699966430664, -5.2743000984191895, -5.691500186920166, -5.705999851226807, -5.7144999504089355, -5.746799945831299, -5.823200225830078, -5.848999977111816, -5.850100040435791, -5.918600082397461, -5.966899871826172, -5.979100227355957, -4.528299808502197, -5.196300029754639, -3.6919000148773193, -3.032399892807007, -2.878200054168701, -2.958899974822998, -4.602799892425537, -4.819699764251709, -5.567500114440918, -4.252099990844727, -3.843600034713745, -5.279699802398682, -3.8053998947143555, -5.033899784088135, -5.064700126647949, -5.310400009155273, -5.298699855804443, -1.780500054359436, -2.305000066757202, -3.387500047683716, -4.2459001541137695, -4.271599769592285, -4.486000061035156, -4.520299911499023, -4.5329999923706055, -4.957399845123291, -5.062600135803223, -5.292900085449219, -5.587600231170654, -5.656400203704834, -5.73769998550415, -5.818399906158447, -5.833700180053711, -5.916399955749512, -5.969600200653076, -5.991099834442139, -6.09119987487793, -6.197299957275391, -6.226600170135498, -6.285799980163574, -6.288000106811523, -6.300600051879883, -6.418600082397461, -6.422999858856201, -6.43179988861084, -6.440700054168701, -6.464099884033203, -4.667799949645996, -4.632999897003174, -4.495800018310547, -5.20359992980957, -4.244500160217285, -1.9661999940872192, -5.616499900817871, -5.5559000968933105, -4.369500160217285, -3.311300039291382, -3.506999969482422, -3.823499917984009, -4.674099922180176, -4.717899799346924, -3.7290000915527344, -4.234600067138672, -5.2743000984191895, -4.385499954223633, -5.18310022354126, -2.1651999950408936, -2.171999931335449, -2.6730000972747803, -2.964099884033203, -3.478600025177002, -4.054599761962891, -4.222899913787842, -4.4506001472473145, -4.588600158691406, -4.861700057983398, -4.571199893951416, -4.9527997970581055, -4.976500034332275, -5.200900077819824, -5.250699996948242, -5.421199798583984, -5.058199882507324, -5.4446001052856445, -5.5100998878479, -5.567500114440918, -5.593800067901611, -5.595200061798096, -5.658100128173828, -5.872600078582764, -5.894700050354004, -5.953100204467773, -5.890999794006348, -5.967700004577637, -5.993199825286865, -6.050600051879883, -4.9969000816345215, -3.302799940109253, -5.026700019836426, -3.501800060272217, -5.530700206756592, -3.454699993133545, -4.674499988555908, -2.9988999366760254, -4.697700023651123, -4.085599899291992, -5.2210001945495605, -4.930099964141846, -4.913700103759766, -5.006499767303467, -5.0177998542785645, -5.182300090789795, -5.21560001373291, -2.405100107192993, -2.686800003051758, -4.002500057220459, -3.6796000003814697, -4.651199817657471, -4.905700206756592, -5.017099857330322, -5.077499866485596, -5.133699893951416, -5.220099925994873, -5.245500087738037, -5.314599990844727, -5.393199920654297, -5.430300235748291, -5.593100070953369, -5.595200061798096, -5.681399822235107, -5.690999984741211, -5.697400093078613, -5.722499847412109, -5.732800006866455, -5.792200088500977, -5.828100204467773, -5.8557000160217285, -2.583899974822998, -4.492599964141846, -5.902699947357178, -5.908100128173828, -5.940800189971924, -5.942599773406982, -5.566500186920166, -2.147200107574463, -3.3610000610351562, -5.135000228881836, -4.131400108337402, -5.117300033569336, -4.126699924468994, -4.113699913024902, -3.2755000591278076, -5.441100120544434, -4.793300151824951, -4.999300003051758, -5.276199817657471, -5.154699802398682, -5.071400165557861, -2.4516000747680664, -3.840399980545044, -4.037799835205078, -4.0742998123168945, -4.381700038909912, -4.604499816894531, -4.668000221252441, -4.8225998878479, -4.856800079345703, -4.927999973297119, -4.981599807739258, -4.722599983215332, -4.880300045013428, -5.098299980163574, -5.115600109100342, -5.125999927520752, -5.186600208282471, -5.249199867248535, -5.378699779510498, -5.413000106811523, -5.419600009918213, -5.4191999435424805, -5.4633002281188965, -5.467299938201904, -5.475200176239014, -5.484499931335449, -5.486800193786621, -5.586999893188477, -5.594699859619141, -5.6875, -4.885000228881836, -4.591400146484375, -3.31030011177063, -4.234799861907959, -3.94350004196167, -2.740600109100342, -4.726900100708008, -2.9170000553131104, -3.6447999477386475, -4.615600109100342, -4.548500061035156, -4.743899822235107, -4.356500148773193, -5.129499912261963, -3.3877999782562256, -3.8970999717712402, -4.255499839782715, -4.337100028991699, -4.3979997634887695, -4.451900005340576, -4.800099849700928, -4.8003997802734375, -4.828499794006348, -4.852200031280518, -5.037600040435791, -5.032899856567383, -5.128699779510498, -5.131899833679199, -5.22790002822876, -5.321800231933594, -5.471799850463867, -5.4721999168396, -5.540200233459473, -5.548699855804443, -5.560200214385986, -5.555200099945068, -5.619699954986572, -5.749000072479248, -3.952500104904175, -5.782199859619141, -5.896200180053711, -5.846499919891357, -5.9268999099731445, -5.99399995803833, -3.022900104522705, -1.9160000085830688, -4.249800205230713, -4.962299823760986, -2.675600051879883, -2.6714999675750732, -2.9967000484466553, -4.411099910736084, -3.8097000122070312, -2.856300115585327, -4.38129997253418, -4.298299789428711, -5.010799884796143, -4.946000099182129, -5.002200126647949, -3.450500011444092, -3.5120999813079834, -3.678299903869629, -4.237400054931641, -4.470799922943115, -4.498700141906738, -4.9197998046875, -4.9394001960754395, -4.864500045776367, -5.1072001457214355, -5.119999885559082, -5.163000106811523, -4.088399887084961, -5.206900119781494, -5.2245001792907715, -5.231900215148926, -5.243500232696533, -5.261199951171875, -5.263700008392334, -5.269100189208984, -5.473400115966797, -5.538300037384033, -5.565899848937988, -5.60099983215332, -5.6209001541137695, -5.73360013961792, -5.773200035095215, -3.287600040435791, -5.82450008392334, -5.857900142669678, -4.4029998779296875, -5.007599830627441, -3.22760009765625, -3.3861000537872314, -3.8850998878479004, -4.8246002197265625, -4.911600112915039, -2.620300054550171, -4.433700084686279, -3.8266000747680664, -3.805799961090088, -3.8169000148773193, -3.3970999717712402, -4.624800205230713, -4.778900146484375, -4.763000011444092, -4.750999927520752, -4.860400199890137, -4.800300121307373, -2.451200008392334, -2.8129000663757324, -4.424499988555908, -4.567299842834473, -4.644599914550781, -4.723800182342529, -4.835100173950195, -4.867499828338623, -4.88670015335083, -5.144499778747559, -5.172699928283691, -5.181099891662598, -5.245500087738037, -5.329100131988525, -5.420899868011475, -5.426300048828125, -5.4532999992370605, -5.480899810791016, -5.518199920654297, -5.573999881744385, -5.588600158691406, -5.609899997711182, -5.6433000564575195, -5.654300212860107, -5.65749979019165, -5.662899971008301, -5.691500186920166, -5.7144999504089355, -5.735400199890137, -5.747900009155273, -4.3856000900268555, -5.2941999435424805, -5.194499969482422, -4.071800231933594, -5.330100059509277, -4.910600185394287, -2.975600004196167, -3.589600086212158, -4.0970001220703125, -4.42609977722168, -5.105100154876709, -4.951000213623047, -4.976600170135498, -5.28849983215332, -5.359000205993652, -5.4182000160217285, -3.115499973297119, -3.5596001148223877, -3.63319993019104, -4.178999900817871, -4.380799770355225, -4.4481000900268555, -4.689799785614014, -4.8317999839782715, -4.527500152587891, -4.916600227355957, -5.041200160980225, -5.09499979019165, -5.207399845123291, -5.287399768829346, -4.94320011138916, -5.337900161743164, -5.543499946594238, -5.557400226593018, -5.566400051116943, -5.620500087738037, -5.630000114440918, -5.710100173950195, -5.746600151062012, -5.776100158691406, -5.779099941253662, -5.843100070953369, -5.854599952697754, -5.920199871063232, -5.928199768066406, -5.939700126647949, -4.459400177001953, -3.176300048828125, -4.928800106048584, -4.548699855804443, -3.2790000438690186, -3.7342000007629395, -3.8064000606536865, -5.101900100708008, -5.098999977111816, -2.337399959564209, -3.5271999835968018, -4.181399822235107, -5.3983001708984375, -4.544099807739258, -4.559800148010254, -4.386300086975098, -4.49429988861084, -5.171599864959717, -3.664099931716919, -3.9477999210357666, -4.059500217437744, -4.131999969482422, -4.144999980926514, -4.273399829864502, -4.354499816894531, -4.736599922180176, -4.763199806213379, -4.8277997970581055, -4.8358001708984375, -4.879300117492676, -4.908999919891357, -4.881499767303467, -4.91540002822876, -4.354300022125244, -5.0441999435424805, -5.0524001121521, -5.06220006942749, -5.107500076293945, -5.145500183105469, -5.231400012969971, -4.2368998527526855, -5.339700222015381, -5.3109002113342285, -5.362100124359131, -5.327199935913086, -5.402400016784668, -5.418099880218506, -5.420100212097168, -3.416100025177002, -4.832699775695801, -5.08489990234375, -4.4278998374938965, -3.7571001052856445, -5.025300025939941, -4.427000045776367, -4.2779998779296875, -4.359499931335449, -4.582600116729736, -4.088099956512451, -3.990999937057495, -3.6779000759124756, -4.2108001708984375, -4.679599761962891, -4.5817999839782715, -4.722799777984619, -4.804800033569336, -4.870800018310547, -2.813800096511841, -3.650399923324585, -4.033299922943115, -4.230599880218506, -4.283199787139893, -4.293700218200684, -4.301599979400635, -4.3007001876831055, -4.358500003814697, -4.470900058746338, -4.474400043487549, -4.480400085449219, -4.569799900054932, -4.661099910736084, -4.678599834442139, -4.764999866485596, -4.802599906921387, -4.8277997970581055, -4.652299880981445, -4.9334001541137695, -4.947199821472168, -4.951300144195557, -5.026700019836426, -5.0447998046875, -5.080999851226807, -5.107699871063232, -4.810100078582764, -5.265600204467773, -5.369800090789795, -5.485099792480469, -2.7953999042510986, -4.405300140380859, -3.735599994659424, -4.1097002029418945, -4.618800163269043, -2.539099931716919, -4.881700038909912, -4.17110013961792, -4.649700164794922, -4.501800060272217, -4.6265997886657715, -4.797500133514404, -3.847599983215332, -3.864799976348877, -3.8998000621795654, -3.9932000637054443, -3.9855000972747803, -4.020999908447266, -4.211699962615967, -4.42549991607666, -4.508900165557861, -4.660999774932861, -4.678800106048584, -4.720900058746338, -4.771699905395508, -4.810999870300293, -4.8130998611450195, -4.8871002197265625, -4.897500038146973, -5.093999862670898, -5.109600067138672, -5.1178998947143555, -5.129499912261963, -5.148499965667725, -5.179299831390381, -5.200399875640869, -5.041100025177002, -5.224299907684326, -5.227700233459473, -5.337399959564209, -5.344399929046631, -5.415500164031982, -4.795899868011475, -4.745999813079834, -4.815299987792969, -4.329500198364258, -3.258699893951416, -4.520899772644043, -4.509900093078613, -3.178299903869629, -3.117799997329712, -3.6545000076293945, -4.906000137329102, -4.580599784851074, -4.680300235748291, -4.7256999015808105, -4.857999801635742, -2.8956000804901123, -3.606600046157837, -3.797100067138672, -3.8803000450134277, -3.916100025177002, -3.7987000942230225, -4.114099979400635, -4.116700172424316, -4.174200057983398, -4.177700042724609, -4.229000091552734, -4.137700080871582, -4.187900066375732, -4.34630012512207, -4.387199878692627, -4.507299900054932, -4.5868000984191895, -4.618199825286865, -4.626100063323975, -4.661099910736084, -4.666900157928467, -4.704699993133545, -4.715099811553955, -4.7515997886657715, -4.819200038909912, -4.918700218200684, -4.971399784088135, -4.988900184631348, -5.051400184631348, -5.117400169372559, -4.653800010681152, -2.9100000858306885, -4.232999801635742, -4.677499771118164, -2.3373000621795654, -3.531899929046631, -3.5762999057769775, -3.596100091934204, -3.622999906539917, -3.6475000381469727, -3.7126998901367188, -3.6686999797821045, -3.983799934387207, -4.0030999183654785, -4.017000198364258, -4.121200084686279, -4.24370002746582, -4.423299789428711, -4.48859977722168, -4.714600086212158, -4.753699779510498, -4.804800033569336, -5.080100059509277, -5.096799850463867, -5.099800109863281, -5.146399974822998, -5.15500020980835, -5.275300025939941, -5.326300144195557, -5.328400135040283, -5.456500053405762, -5.510799884796143, -5.515399932861328, -5.5229997634887695, -3.6572000980377197, -4.001200199127197, -4.160399913787842, -5.218699932098389, -4.816800117492676, -4.250999927520752, -3.7778000831604004, -4.794600009918213, -4.69789981842041, -5.104300022125244], \"Term\": [\"year\", \"old\", \"man\", \"na\", \"shooting\", \"suspect\", \"officer\", \"shot\", \"police\", \"missing\", \"murder\", \"lapd\", \"traffic\", \"hit\", \"run\", \"los\", \"nr\", \"angeles\", \"homicide\", \"involved\", \"killed\", \"detectives\", \"robbery\", \"collision\", \"one\", \"dui\", \"chief\", \"reward\", \"officers\", \"gang\", \"year\", \"old\", \"critical\", \"male\", \"girl\", \"boy\", \"adult\", \"female\", \"turns\", \"gunman\", \"daughter\", \"risk\", \"motorist\", \"witnesses\", \"infant\", \"left\", \"missing\", \"asian\", \"residents\", \"meet\", \"since\", \"gunpoint\", \"elderly\", \"erupts\", \"soccer\", \"john\", \"game\", \"suffering\", \"crackdown\", \"seated\", \"woman\", \"abducted\", \"father\", \"nr\", \"man\", \"search\", \"juvenile\", \"mjl\", \"nv\", \"aj\", \"mother\", \"dm\", \"family\", \"killed\", \"lp\", \"ml\", \"ne\", \"ti\", \"gb\", \"rh\", \"bb\", \"jk\", \"cj\", \"los\", \"angeles\", \"department\", \"ceremony\", \"commission\", \"honored\", \"service\", \"park\", \"meeting\", \"honor\", \"special\", \"former\", \"charges\", \"night\", \"angel\", \"us\", \"five\", \"people\", \"president\", \"toy_drive_discovering\", \"charity\", \"attacks\", \"handgun\", \"fraud\", \"made\", \"rescue\", \"shoot\", \"honoring\", \"attempts\", \"partner\", \"police\", \"officers\", \"county\", \"community\", \"detective\", \"memorial\", \"lapd\", \"new\", \"west\", \"annual\", \"jr\", \"nr\", \"na\", \"rf\", \"city\", \"shot\", \"found\", \"stabbed\", \"murdered\", \"body\", \"young\", \"inside\", \"front\", \"owner\", \"student\", \"unidentified\", \"homeless\", \"residence\", \"parking_lot\", \"alley\", \"suspected\", \"st\", \"top\", \"burning\", \"sitting\", \"panorama_city\", \"standing\", \"sun\", \"nightclub\", \"parked\", \"unknown\", \"weapon\", \"altercation\", \"consent_decree\", \"childhood_cancer\", \"man\", \"killed\", \"home\", \"dead\", \"death\", \"victim\", \"vehicle\", \"car\", \"nr\", \"rh\", \"im\", \"kr\", \"gb\", \"south\", \"cj\", \"ne\", \"sf\", \"sexual_assault\", \"attempt\", \"academy_graduation\", \"youth\", \"reported\", \"store\", \"crosswalk\", \"rape\", \"second\", \"gun_buyback_program\", \"food\", \"responsible\", \"line\", \"alert_issued\", \"grand_theft\", \"give_away\", \"sober_graduation\", \"robbery\", \"toys\", \"tip\", \"opening\", \"shown\", \"mexico\", \"beating\", \"sought\", \"armed\", \"update\", \"nine\", \"escapes\", \"kidnap\", \"wanted\", \"team\", \"suspect\", \"surveillance_video\", \"suspects\", \"arrested\", \"capture\", \"nr\", \"bb\", \"caught\", \"video\", \"murder\", \"ti\", \"lapd\", \"tape\", \"gb\", \"dm\", \"lp\", \"ml\", \"dui\", \"checkpoint\", \"sobriety\", \"targets_impaired_drivers\", \"checkpoints\", \"saturation_patrols\", \"day\", \"license\", \"recruit_graduation\", \"saturation_patrol\", \"prevention\", \"drug\", \"rally\", \"spree\", \"crimes\", \"alzheimers\", \"homicides\", \"series\", \"bar\", \"san_fernando_valley\", \"prayer\", \"washington\", \"investigators_seeking_additional_victims\", \"appreciation\", \"conduct_zero_tolerance\", \"seizure\", \"prevention_tips\", \"radio\", \"incidents\", \"agency\", \"crime\", \"march\", \"na\", \"lapd\", \"task_force\", \"conduct\", \"may\", \"gb\", \"jh\", \"bb\", \"ne\", \"dm\", \"rh\", \"ti\", \"division\", \"rf\", \"aj\", \"nv\", \"kr\", \"area\", \"lp\", \"gang\", \"one\", \"life\", \"claims\", \"member\", \"another\", \"men\", \"domestic_violence\", \"save\", \"human_trafficking\", \"injures\", \"take\", \"additional_victims\", \"conviction\", \"turns_deadly\", \"outside\", \"july\", \"dangerous\", \"six\", \"east\", \"takes\", \"confronted\", \"open\", \"leaving\", \"luncheon\", \"festival\", \"saves\", \"publics_assistance_needed\", \"ois\", \"anti_bullying\", \"related\", \"two\", \"leaves\", \"victims\", \"injured\", \"three\", \"robberies\", \"kills\", \"campaign\", \"dead\", \"car\", \"shooting\", \"drive\", \"family\", \"members\", \"arrested\", \"party\", \"nr\", \"suspects\", \"homicide\", \"investigation\", \"investigate\", \"news_conference\", \"rampart\", \"stabbing\", \"harbor\", \"wilshire\", \"double\", \"state\", \"assault\", \"investigates\", \"abuse\", \"targeting\", \"resulting\", \"statistics\", \"shootings\", \"combat\", \"major\", \"investigating\", \"deaths\", \"leave\", \"bust\", \"holiday_season\", \"childrens\", \"seek_clues\", \"cruiser\", \"assist\", \"academy_magnet\", \"releases\", \"olympic\", \"ring\", \"results\", \"death\", \"detectives\", \"area\", \"party\", \"leads\", \"california\", \"division\", \"shooting\", \"violent\", \"nr\", \"crime\", \"aj\", \"newton\", \"victim\", \"officer\", \"involved\", \"nrf\", \"drivers\", \"duty\", \"northeast\", \"occurs\", \"pacific\", \"crash\", \"swat\", \"nrf_cr\", \"efforts\", \"announcement\", \"return\", \"new_years_eve\", \"jewelry\", \"occurred\", \"undercover\", \"funeral\", \"knife_wielding\", \"makes\", \"shootout\", \"wielding\", \"safely\", \"used\", \"unprovoked\", \"fugitive\", \"candlelight_vigil\", \"involucrados_en_un_tiroteo\", \"charge\", \"foothill\", \"wounded\", \"open_house\", \"nrf_bm\", \"newton\", \"shooting\", \"die\", \"early_morning\", \"hollenbeck\", \"division\", \"area\", \"officers\", \"jk\", \"results\", \"nr\", \"suspect\", \"shoots\", \"lapd\", \"drive\", \"hit\", \"run\", \"driver\", \"th\", \"street\", \"struck\", \"local\", \"santa\", \"weekend\", \"operation_shoes\", \"killing\", \"cold_case\", \"unveiling\", \"injuries\", \"battle\", \"anniversary\", \"critically\", \"rd\", \"dna\", \"big\", \"pedestrians\", \"brothers\", \"donates\", \"condition\", \"collides\", \"heroes\", \"serious\", \"crossing\", \"taxi_cab\", \"drunk_driving\", \"drunk\", \"pedestrian\", \"conference\", \"annual\", \"leadership\", \"killed\", \"sr\", \"nr\", \"vehicle\", \"na\", \"hosts\", \"ml\", \"ne\", \"lp\", \"dm\", \"leaves\", \"rh\", \"collision\", \"dies\", \"custody\", \"station\", \"son\", \"discovered\", \"demonstration\", \"show\", \"grand_opening\", \"sexually_assaulted\", \"scene\", \"sexual_battery\", \"join\", \"reseda\", \"facility\", \"seized\", \"arrests_made\", \"along\", \"boyfriend\", \"american\", \"days\", \"aims\", \"latino\", \"donation\", \"fatal\", \"advisory\", \"attorney\", \"cell_phone\", \"labor\", \"marijuana\", \"several\", \"traffic\", \"south\", \"motorcyclist\", \"valley\", \"hospital\", \"victim\", \"woman\", \"nr\", \"safety_tips\", \"cj\", \"kr\", \"la\", \"rf\", \"lapd\", \"chief\", \"school\", \"bratton\", \"charlie_beck\", \"media_availability\", \"forum\", \"statement\", \"response\", \"monthly_media_availability\", \"vs\", \"academy\", \"toy_giveaway\", \"partnership\", \"sober\", \"peace\", \"national_night\", \"molestation\", \"walk\", \"mayor\", \"streets\", \"find\", \"studio\", \"weapons\", \"get_pulled\", \"final\", \"little_free_library\", \"triple\", \"william_bratton\", \"burned\", \"ii\", \"back\", \"cop\", \"community\", \"la\", \"city\", \"na\", \"hosts\", \"lapd\", \"police\", \"jr\", \"lp\", \"ml\", \"nr\", \"program\", \"seek\", \"captured\", \"accident\", \"df\", \"suicide\", \"attempted\", \"felony\", \"looking\", \"cops\", \"charged\", \"sylmar\", \"solve\", \"kidnapping\", \"hills\", \"thief\", \"launch\", \"stabs\", \"injury\", \"asking\", \"autistic\", \"bandits\", \"couple\", \"brother\", \"tots\", \"case\", \"sister\", \"targets\", \"rewards\", \"solved\", \"hotel\", \"arrest\", \"murder\", \"north_hollywood\", \"business\", \"detectives\", \"suspect\", \"arrested\", \"publics_help\", \"suspects\", \"nr\", \"help\", \"cj\", \"information\", \"lp\", \"robbery\", \"bureau\", \"enforcement\", \"central\", \"motorcycle\", \"awareness\", \"devonshire\", \"ride\", \"education\", \"fallen\", \"vehicles\", \"severely_injured\", \"skid_row\", \"home_invasion\", \"patrol\", \"large\", \"art\", \"conducts\", \"automated_photo_red_light\", \"bm\", \"dangerous_intersections\", \"families\", \"lg\", \"communities\", \"rapist\", \"outstanding\", \"focuses\", \"check\", \"safety\", \"cancer\", \"activities_league\", \"press_conference\", \"students\", \"valley\", \"west\", \"program\", \"awards\", \"safe\", \"na\", \"van_nuys\", \"division\", \"area\", \"traffic\", \"lapd\", \"dm\", \"ti\", \"community\", \"rh\", \"pedestrian\", \"ne\", \"reward\", \"offered\", \"training\", \"lapds\", \"regarding\", \"topanga\", \"release\", \"unsolved\", \"taken\", \"narcotics\", \"care\", \"criminal\", \"summer\", \"presents\", \"away\", \"assaults\", \"burglarized\", \"child_abduction\", \"request\", \"minors\", \"discuss\", \"distribution\", \"fires\", \"innocent\", \"increase\", \"questioning\", \"search_warrant\", \"recruitment\", \"activation\", \"immigration\", \"media\", \"law\", \"unit\", \"new\", \"motor\", \"incident\", \"na\", \"lapd\", \"murder\", \"rh\", \"sm\", \"jr\", \"community\", \"rf\", \"victim\", \"bb\", \"pv\", \"public\", \"person\", \"identifying\", \"identify\", \"bicyclist\", \"bicycle\", \"robbed\", \"downtown\", \"released\", \"needs\", \"scam\", \"korean\", \"thieves\", \"sex\", \"beware\", \"holidays\", \"control\", \"road\", \"interest\", \"korea_town\", \"vice_presidential_visit\", \"winnetka\", \"emergency\", \"phone\", \"juveniles\", \"counterfeit\", \"sentenced\", \"trial\", \"trafficking\", \"need\", \"child\", \"joint\", \"seeking\", \"help\", \"operation\", \"holiday\", \"possible\", \"employee\", \"nr\", \"arrested\", \"kr\", \"tragic\", \"victim\", \"rh\", \"missing\", \"lapd\", \"rf\", \"theft\", \"arrests\", \"serial\", \"event\", \"needed\", \"four\", \"apartment\", \"halloween\", \"bus\", \"convicted\", \"identity\", \"commercial\", \"offer\", \"locate\", \"burglaries\", \"fight\", \"sting\", \"auto\", \"girls\", \"usc\", \"lives\", \"market\", \"fire\", \"internet\", \"requested\", \"security_guard\", \"teens\", \"elementary_school\", \"building\", \"minor\", \"children\", \"anti\", \"ucla\", \"cn\", \"publics_help\", \"multi_agency\", \"dispute\", \"mother\", \"leads\", \"information\", \"jr\", \"two\", \"nr\", \"arrested\", \"holiday\", \"suspects\", \"arrest\", \"city\", \"task_force\", \"burglary\", \"camera\", \"beck\", \"residential\", \"robbers\", \"gunfire\", \"christmas\", \"burglars\", \"force\", \"honors\", \"critical_condition\", \"angels\", \"teacher\", \"kidnapped\", \"restaurant\", \"surveillance\", \"wilmington\", \"fundraiser\", \"foundation\", \"valor\", \"attacked\", \"time\", \"hits\", \"district\", \"call\", \"together\", \"koreatown\", \"play\", \"statement_regarding\", \"appreciation_day\", \"caught\", \"burglar\", \"video\", \"tape\", \"dog\", \"nr\", \"mid\", \"suspects\", \"shoots\", \"lp\", \"rh\", \"aj\", \"mission\", \"first\", \"stolen\", \"connection\", \"toy\", \"law_enforcement\", \"alert\", \"high_school\", \"center\", \"killer\", \"seriously_injured\", \"truck\", \"week\", \"nd_annual\", \"town_hall_meeting\", \"security\", \"summit\", \"thefts\", \"book\", \"neighborhood\", \"guns\", \"special_olympics\", \"make\", \"centurions\", \"football\", \"train\", \"cargo\", \"benefit\", \"badges\", \"watts\", \"years\", \"illegal\", \"bandit\", \"multiple\", \"ti\", \"host\", \"national\", \"lapd\", \"nr\", \"na\", \"child_abduction_regional_emergency\", \"drive\", \"jr\", \"arrested\", \"aj\", \"announce\", \"fatally\", \"seeks\", \"announces\", \"near\", \"locating\", \"women\", \"teen\", \"southeast\", \"metropolitan\", \"deputy\", \"driving\", \"attack\", \"wife\", \"graduation\", \"husband\", \"sidewalk\", \"public_assistance\", \"sexual\", \"sexual_predator\", \"end\", \"involving\", \"holds\", \"walking\", \"inspection\", \"mayor_garcetti\", \"initiative\", \"liquor_store\", \"blood\", \"solving\", \"publics_assistance\", \"lapd\", \"ne\", \"arrested\", \"hollywood\", \"ends\", \"southwest\", \"baby\", \"gun\", \"stop\", \"freeway\", \"identified\", \"shop\", \"award\", \"operations\", \"boyle_heights\", \"celebration\", \"passenger\", \"club\", \"church\", \"fighting\", \"celebrate\", \"carjacking\", \"north_hills\", \"result\", \"abduction\", \"coach\", \"block_party\", \"seen\", \"racer\", \"lax\", \"success\", \"string\", \"field\", \"violence\", \"month\", \"pursuit\", \"brutal\", \"argument\", \"area\", \"nr\", \"vehicle\", \"arrested\", \"jk\"], \"loglift\": [30.0, 29.0, 28.0, 27.0, 26.0, 25.0, 24.0, 23.0, 22.0, 21.0, 20.0, 19.0, 18.0, 17.0, 16.0, 15.0, 14.0, 13.0, 12.0, 11.0, 10.0, 9.0, 8.0, 7.0, 6.0, 5.0, 4.0, 3.0, 2.0, 1.0, 2.4584999084472656, 2.4584999084472656, 2.4540998935699463, 2.449899911880493, 2.449700117111206, 2.446700096130371, 2.4447999000549316, 2.4419000148773193, 2.43179988861084, 2.4240000247955322, 2.418600082397461, 2.4184000492095947, 2.4159998893737793, 2.414099931716919, 2.406399965286255, 2.4061999320983887, 2.400899887084961, 2.3961000442504883, 2.3877999782562256, 2.3861000537872314, 2.3857998847961426, 2.3570001125335693, 2.3545000553131104, 2.3496999740600586, 2.3480000495910645, 2.3471999168395996, 2.3464999198913574, 2.3397998809814453, 2.335400104522705, 2.3234000205993652, 2.285799980163574, 2.2750000953674316, 2.2353999614715576, 0.9556999802589417, 1.154099941253662, 2.0504000186920166, 1.8133000135421753, 1.8244999647140503, 1.6062999963760376, 1.2877000570297241, 1.6044000387191772, 0.9332000017166138, 1.488700032234192, 0.3959999978542328, 0.770799994468689, 0.8772000074386597, 0.6295999884605408, 0.5687999725341797, 0.8547000288963318, 0.23510000109672546, 0.8414999842643738, 0.8216000199317932, 0.31540000438690186, 2.6250998973846436, 2.6250998973846436, 2.6215999126434326, 2.613100051879883, 2.6120998859405518, 2.6089000701904297, 2.608299970626831, 2.6077001094818115, 2.6054000854492188, 2.6024999618530273, 2.601599931716919, 2.5999999046325684, 2.5994999408721924, 2.5987000465393066, 2.59660005569458, 2.596400022506714, 2.595599889755249, 2.592400074005127, 2.5922000408172607, 2.58870005607605, 2.587899923324585, 2.585900068283081, 2.5850000381469727, 2.581899881362915, 2.5790998935699463, 2.5787999629974365, 2.575200080871582, 2.574700117111206, 2.573199987411499, 2.5720999240875244, 2.490499973297119, 2.3459999561309814, 2.5653998851776123, 1.5515999794006348, 2.226099967956543, 1.94159996509552, 0.6639999747276306, 1.555400013923645, 1.2532999515533447, 1.1050000190734863, 0.983299970626831, -1.1995999813079834, -0.8011999726295471, 0.5684000253677368, 1.0190000534057617, 2.6835999488830566, 2.681999921798706, 2.6749000549316406, 2.673099994659424, 2.672600030899048, 2.671799898147583, 2.669100046157837, 2.664099931716919, 2.660399913787842, 2.659899950027466, 2.658099889755249, 2.6554999351501465, 2.6530001163482666, 2.6519999504089355, 2.649899959564209, 2.645400047302246, 2.6435999870300293, 2.6401000022888184, 2.638700008392334, 2.6328001022338867, 2.6303999423980713, 2.6298000812530518, 2.629199981689453, 2.6289000511169434, 2.6282999515533447, 2.6273999214172363, 2.624799966812134, 2.6140999794006348, 2.606600046157837, 2.6026999950408936, 2.3677000999450684, 2.289099931716919, 2.265500068664551, 1.9729000329971313, 1.9508999586105347, 1.905500054359436, 2.036900043487549, 1.7926000356674194, 0.586899995803833, 1.0263999700546265, 1.7933000326156616, 0.8956999778747559, 1.0047999620437622, 1.0039000511169434, 0.6305000185966492, 0.328000009059906, 2.753700017929077, 2.752700090408325, 2.7500998973846436, 2.7462000846862793, 2.7418999671936035, 2.7399001121520996, 2.736799955368042, 2.7302000522613525, 2.7281999588012695, 2.719599962234497, 2.7126998901367188, 2.712100028991699, 2.712100028991699, 2.7105000019073486, 2.7105000019073486, 2.7098000049591064, 2.7014999389648438, 2.700700044631958, 2.6953001022338867, 2.6947999000549316, 2.6937999725341797, 2.684499979019165, 2.6774001121520996, 2.6760001182556152, 2.674499988555908, 2.674299955368042, 2.671099901199341, 2.6679000854492188, 2.6617000102996826, 2.6598000526428223, 2.6368000507354736, 2.6184000968933105, 2.6110999584198, 2.3838999271392822, 2.6152000427246094, 2.0641000270843506, 1.5463999509811401, 2.426100015640259, 0.7972999811172485, 1.718000054359436, 1.4449000358581543, 1.7431000471115112, 0.7541999816894531, 0.9973999857902527, -0.21889999508857727, 1.7919000387191772, 1.1304999589920044, 0.6071000099182129, 0.5802000164985657, 0.6600000262260437, 2.7969000339508057, 2.7962000370025635, 2.795300006866455, 2.7950000762939453, 2.794800043106079, 2.7922000885009766, 2.7901999950408936, 2.789799928665161, 2.7832000255584717, 2.783099889755249, 2.7797000408172607, 2.764899969100952, 2.7636001110076904, 2.7600998878479004, 2.7588000297546387, 2.7337000370025635, 2.728100061416626, 2.72760009765625, 2.7191998958587646, 2.7179999351501465, 2.701900005340576, 2.7007999420166016, 2.695199966430664, 2.688800096511841, 2.6884000301361084, 2.678100109100342, 2.677000045776367, 2.667099952697754, 2.6547999382019043, 2.6530001163482666, 2.579900026321411, 2.5401999950408936, 1.9943000078201294, 1.6735999584197998, 2.1579999923706055, 2.3125998973846436, 2.294600009918213, 1.6535999774932861, 1.6365000009536743, 1.457200050354004, 1.1555999517440796, 1.1311999559402466, 0.9610999822616577, 1.0878000259399414, 0.8163999915122986, 0.9532999992370605, 0.9664000272750854, 1.5950000286102295, 0.6225000023841858, -0.050200000405311584, 0.37700000405311584, 2.827399969100952, 2.8261001110076904, 2.824399948120117, 2.821500062942505, 2.8178999423980713, 2.813699960708618, 2.811000108718872, 2.81030011177063, 2.8092000484466553, 2.8090999126434326, 2.800600051879883, 2.7994000911712646, 2.797800064086914, 2.797300100326538, 2.7957000732421875, 2.793800115585327, 2.79229998588562, 2.791300058364868, 2.785099983215332, 2.78439998626709, 2.780900001525879, 2.7771999835968018, 2.7760000228881836, 2.7741000652313232, 2.773699998855591, 2.7732999324798584, 2.7704999446868896, 2.7688000202178955, 2.766900062561035, 2.7655999660491943, 2.743799924850464, 2.65910005569458, 2.6823999881744385, 2.658900022506714, 2.632999897003174, 2.6289000511169434, 2.6328999996185303, 2.4677999019622803, 2.605600118637085, 2.151700019836426, 2.260699987411499, 1.7985999584197998, 2.1786999702453613, 2.340100049972534, 2.4184000492095947, -0.01360000018030405, 1.863700032234192, -1.6538000106811523, 0.17509999871253967, 2.941800117492676, 2.9409000873565674, 2.9379000663757324, 2.9368999004364014, 2.936800003051758, 2.9342000484466553, 2.9339001178741455, 2.930799961090088, 2.910900115966797, 2.9094998836517334, 2.908099889755249, 2.907099962234497, 2.9054999351501465, 2.9031999111175537, 2.8998000621795654, 2.899399995803833, 2.8949999809265137, 2.8945999145507812, 2.8905999660491943, 2.889899969100952, 2.887399911880493, 2.8866000175476074, 2.8861000537872314, 2.8842999935150146, 2.879699945449829, 2.8780999183654785, 2.878000020980835, 2.873500108718872, 2.8701999187469482, 2.86929988861084, 2.856800079345703, 2.8243000507354736, 2.5160000324249268, 2.28629994392395, 2.2065000534057617, 2.1208999156951904, 2.3982999324798584, 2.1563000679016113, 2.747299909591675, 1.1907999515533447, 0.5047000050544739, 2.2918999195098877, -0.6291999816894531, 1.2904000282287598, 0.8495000004768372, 1.5925999879837036, 0.31779998540878296, 2.970099925994873, 2.9693000316619873, 2.9653000831604004, 2.9572999477386475, 2.956700086593628, 2.9535000324249268, 2.952899932861328, 2.9526000022888184, 2.9428999423980713, 2.9398000240325928, 2.93179988861084, 2.9186999797821045, 2.9149999618530273, 2.910399913787842, 2.905400037765503, 2.904400110244751, 2.898699998855591, 2.8951001167297363, 2.8935000896453857, 2.8856000900268555, 2.876499891281128, 2.873800039291382, 2.8680999279022217, 2.8678998947143555, 2.8666999340057373, 2.854300022125244, 2.853800058364868, 2.8526999950408936, 2.851900100708008, 2.8492000102996826, 2.824399948120117, 2.802500009536743, 2.711199998855591, 2.760499954223633, 2.658400058746338, 2.3821001052856445, 2.765199899673462, 2.751699924468994, 2.460900068283081, 2.131700038909912, 1.5728000402450562, 1.2657999992370605, 1.5887999534606934, 1.4900000095367432, -0.5529000163078308, 0.12409999966621399, 1.7891000509262085, -0.5181000232696533, 0.8601999878883362, 3.0060999393463135, 3.0060999393463135, 3.005000114440918, 3.003999948501587, 3.001300096511841, 2.996000051498413, 2.9935998916625977, 2.9902000427246094, 2.987600088119507, 2.981300115585327, 2.980600118637085, 2.978800058364868, 2.978100061416626, 2.9707000255584717, 2.9688000679016113, 2.961699962615967, 2.961199998855591, 2.960599899291992, 2.95740008354187, 2.9546000957489014, 2.953200101852417, 2.9530999660491943, 2.9495999813079834, 2.9361000061035156, 2.9346001148223877, 2.930299997329712, 2.92930006980896, 2.9291999340057373, 2.927299976348877, 2.9226999282836914, 2.905400037765503, 2.8254001140594482, 2.84689998626709, 2.5782999992370605, 2.8334999084472656, 1.392300009727478, 2.13100004196167, 0.17720000445842743, 1.6503000259399414, -0.17180000245571136, 1.9692000150680542, 0.8902999758720398, 0.6897000074386597, 0.5685999989509583, 0.5608999729156494, 0.8797000050544739, 0.1574999988079071, 3.032399892807007, 3.0315001010894775, 3.023099899291992, 3.0190000534057617, 3.012500047683716, 3.006200075149536, 3.0023999214172363, 3.0009000301361084, 2.999000072479248, 2.995800018310547, 2.994800090789795, 2.992000102996826, 2.988600015640259, 2.9869000911712646, 2.9786999225616455, 2.978600025177002, 2.9737000465393066, 2.973099946975708, 2.9727001190185547, 2.9711999893188477, 2.9704999923706055, 2.966399908065796, 2.9642999172210693, 2.962399959564209, 2.9619998931884766, 2.961699962615967, 2.9591000080108643, 2.958699941635132, 2.9563000202178955, 2.9560999870300293, 2.9505999088287354, 2.8685998916625977, 2.822700023651123, 2.6033999919891357, 1.8228000402450562, 2.478100061416626, 1.489799976348877, 1.1302000284194946, -0.09929999709129333, 2.5834999084472656, 0.953000009059906, 0.7096999883651733, 1.5003999471664429, 0.6614000201225281, -1.2039999961853027, 3.0473999977111816, 3.039799928665161, 3.037600040435791, 3.037100076675415, 3.032599925994873, 3.0283000469207764, 3.026900053024292, 3.0230000019073486, 3.0220999717712402, 3.0201001167297363, 3.0185000896453857, 3.0160999298095703, 3.014699935913086, 3.0146000385284424, 3.0139999389648438, 3.013700008392334, 3.011399984359741, 3.009000062942505, 3.003499984741211, 3.0018999576568604, 3.0016000270843506, 3.001499891281128, 2.999500036239624, 2.999300003051758, 2.9986000061035156, 2.9983999729156494, 2.998300075531006, 2.992799997329712, 2.9925999641418457, 2.9872000217437744, 2.9672999382019043, 2.7990000247955322, 2.238100051879883, 2.5418999195098877, 2.396399974822998, 1.173200011253357, 2.463399887084961, 0.9503999948501587, 0.9787999987602234, 1.3740999698638916, 1.0266000032424927, 1.0765000581741333, -1.180400013923645, 1.5126999616622925, 3.0601000785827637, 3.055799961090088, 3.0511999130249023, 3.0499000549316406, 3.048799991607666, 3.0478999614715576, 3.04010009765625, 3.04010009765625, 3.039299964904785, 3.0385000705718994, 3.033099889755249, 3.0322999954223633, 3.029900074005127, 3.0297999382019043, 3.02620005607605, 3.0223000049591064, 3.0153000354766846, 3.015199899673462, 3.011699914932251, 3.0113000869750977, 3.0106000900268555, 3.009500026702881, 3.0072999000549316, 2.9993999004364014, 2.99780011177063, 2.9972000122070312, 2.9890999794006348, 2.987600088119507, 2.986799955368042, 2.9814999103546143, 2.919300079345703, 2.819000005722046, 2.843100070953369, 2.871299982070923, 2.40910005569458, 1.6871999502182007, 1.7634999752044678, 2.099600076675415, 1.5577000379562378, 0.3197999894618988, 1.7177000045776367, 1.4479999542236328, 2.225800037384033, 0.6291000247001648, 0.23029999434947968, 3.0782999992370605, 3.0778000354766846, 3.0764000415802, 3.0697999000549316, 3.065700054168701, 3.065200090408325, 3.0546998977661133, 3.0541999340057373, 3.0536000728607178, 3.0485999584198, 3.048099994659424, 3.0464999675750732, 3.0446999073028564, 3.0443999767303467, 3.044100046157837, 3.043800115585327, 3.043299913406372, 3.04259991645813, 3.0423998832702637, 3.0422000885009766, 3.0327000617980957, 3.0292000770568848, 3.0276999473571777, 3.025700092315674, 3.024600028991699, 3.0174999237060547, 3.014899969100952, 3.014699935913086, 3.0113000869750977, 3.0088999271392822, 2.995699882507324, 2.9637999534606934, 2.726599931716919, 2.6982998847961426, 2.7571001052856445, 2.798099994659424, 2.786600112915039, 1.2935999631881714, 2.3773999214172363, 1.6162999868392944, 1.2740000486373901, 1.1988999843597412, 0.47040000557899475, 0.9538999795913696, 0.8981000185012817, 0.7853999733924866, 0.6220999956130981, 1.267799973487854, 0.8030999898910522, 3.120300054550171, 3.1191000938415527, 3.103600025177002, 3.1006999015808105, 3.098900079727173, 3.09689998626709, 3.093899965286255, 3.0929999351501465, 3.083699941635132, 3.0836000442504883, 3.0824999809265137, 3.080899953842163, 3.0794999599456787, 3.0757999420166016, 3.0713000297546387, 3.0710999965667725, 3.069700002670288, 3.06820011138916, 3.066200017929077, 3.062999963760376, 3.0622000694274902, 3.0608999729156494, 3.0589001178741455, 3.058199882507324, 3.058000087738037, 3.0576000213623047, 3.055799961090088, 3.05430006980896, 3.0529000759124756, 3.052000045776367, 3.0213000774383545, 3.012500047683716, 2.8524999618530273, 2.3942999839782715, 2.82669997215271, 2.5095999240875244, 0.9383000135421753, 0.27790001034736633, 0.6381000280380249, 0.9470000267028809, 1.6180000305175781, 1.0388000011444092, 0.5719000101089478, 0.5275999903678894, 0.2574999928474426, 0.754800021648407, 3.1208999156951904, 3.118299961090088, 3.1177000999450684, 3.111299991607666, 3.1078999042510986, 3.106600046157837, 3.1012001037597656, 3.097399950027466, 3.096400022506714, 3.094899892807007, 3.0908000469207764, 3.0887999534606934, 3.084399938583374, 3.0810000896453857, 3.0794999599456787, 3.0761001110076904, 3.0680999755859375, 3.0673000812530518, 3.066699981689453, 3.063499927520752, 3.0629000663757324, 3.057800054550171, 3.055299997329712, 3.053299903869629, 3.053100109100342, 3.0483999252319336, 3.047499895095825, 3.0423998832702637, 3.0416998863220215, 3.040800094604492, 3.039400100708008, 3.015399932861328, 3.0090999603271484, 2.9540998935699463, 2.8199000358581543, 2.8612000942230225, 2.803100109100342, 2.735100030899048, 2.7258999347686768, 0.838699996471405, 1.2331000566482544, 1.5276000499725342, 2.7908999919891357, 1.0723999738693237, 0.8133000135421753, 0.23810000717639923, -0.6269000172615051, 0.644599974155426, 3.232300043106079, 3.2288999557495117, 3.227299928665161, 3.2262001037597656, 3.226099967956543, 3.2235000133514404, 3.2221999168395996, 3.212899923324585, 3.212100028991699, 3.210099935531616, 3.20989990234375, 3.208400011062622, 3.20740008354187, 3.206700086593628, 3.205399990081787, 3.203000068664551, 3.202399969100952, 3.2021000385284424, 3.20169997215271, 3.1998000144958496, 3.198199987411499, 3.1942999362945557, 3.1905999183654785, 3.188999891281128, 3.1886000633239746, 3.1877999305725098, 3.1875998973846436, 3.1856000423431396, 3.1847000122070312, 3.1846001148223877, 3.157900094985962, 3.150700092315674, 3.1489999294281006, 3.047499895095825, 2.7535998821258545, 3.0732998847961426, 2.765000104904175, 2.6575000286102295, 2.6164000034332275, 2.6540000438690186, 1.9017000198364258, 1.3773000240325928, -0.5016999840736389, 0.5493999719619751, 1.9299999475479126, 0.7856000065803528, 1.219499945640564, 1.535099983215332, 1.8193000555038452, 3.3499999046325684, 3.3438000679016113, 3.3385000228881836, 3.33489990234375, 3.333899974822998, 3.3334999084472656, 3.3334999084472656, 3.3334999084472656, 3.332200050354004, 3.3294999599456787, 3.329400062561035, 3.3292999267578125, 3.326900005340576, 3.324199914932251, 3.323699951171875, 3.3208999633789062, 3.3196001052856445, 3.318700075149536, 3.3157999515533447, 3.31469988822937, 3.314199924468994, 3.313999891281128, 3.3108999729156494, 3.3101000785827637, 3.3080999851226807, 3.3071999549865723, 3.306299924850464, 3.299299955368042, 3.293299913406372, 3.2860000133514404, 3.0371999740600586, 3.170799970626831, 2.8041999340057373, 2.859100103378296, 2.9172000885009766, 0.6370000243186951, 3.0541000366210938, 1.1964000463485718, 2.4137001037597656, 1.073199987411499, 0.7465000152587891, 1.1167000532150269, 3.4126999378204346, 3.4124999046325684, 3.411799907684326, 3.410399913787842, 3.4102001190185547, 3.4100000858306885, 3.4063000679016113, 3.400700092315674, 3.398900032043457, 3.394399881362915, 3.3938000202178955, 3.392400026321411, 3.3905999660491943, 3.3891000747680664, 3.3889999389648438, 3.3861000537872314, 3.385699987411499, 3.376800060272217, 3.3761000633239746, 3.3756000995635986, 3.3750998973846436, 3.3740999698638916, 3.3724000453948975, 3.371299982070923, 3.3710999488830566, 3.369999885559082, 3.369800090789795, 3.363300085067749, 3.3629000186920166, 3.3582000732421875, 3.2992000579833984, 3.2629001140594482, 3.257699966430664, 3.1259000301361084, 2.4182000160217285, 3.0053999423980713, 2.8729000091552734, 0.6891999840736389, 0.05829999968409538, 0.25929999351501465, 2.911900043487549, 1.4625999927520752, 1.309399962425232, 0.03460000082850456, 1.0562000274658203, 3.4591000080108643, 3.453000068664551, 3.450500011444092, 3.449199914932251, 3.4481000900268555, 3.4479000568389893, 3.4451000690460205, 3.444999933242798, 3.4439001083374023, 3.443700075149536, 3.442699909210205, 3.4423999786376953, 3.4423999786376953, 3.4398999214172363, 3.4388999938964844, 3.4356000423431396, 3.433199882507324, 3.4321999549865723, 3.4319000244140625, 3.430799961090088, 3.4300999641418457, 3.42930006980896, 3.4289000034332275, 3.4275999069213867, 3.424999952316284, 3.4209001064300537, 3.4184999465942383, 3.417799949645996, 3.414799928665161, 3.4114999771118164, 3.1494998931884766, 0.9574000239372253, 1.370300054550171, 0.0828000009059906, 3.7214999198913574, 3.7112998962402344, 3.710700035095215, 3.7105000019073486, 3.7100000381469727, 3.7095999717712402, 3.7086000442504883, 3.7081000804901123, 3.703200101852417, 3.7028000354766846, 3.702500104904175, 3.699899911880493, 3.6965999603271484, 3.6909000873565674, 3.6886000633239746, 3.67930006980896, 3.677500009536743, 3.674999952316284, 3.65939998626709, 3.6582999229431152, 3.658099889755249, 3.6549999713897705, 3.654400110244751, 3.6456000804901123, 3.6415998935699463, 3.641400098800659, 3.6303999423980713, 3.6252999305725098, 3.6249001026153564, 3.6240999698638916, 3.5810999870300293, 3.3736000061035156, 3.38919997215271, 3.4453001022338867, 2.7281999588012695, 0.8288000226020813, -0.6015999913215637, 1.5534000396728516, 0.062300000339746475, 1.1586999893188477], \"Total\": [1251.0, 1210.0, 1336.0, 1688.0, 1093.0, 1082.0, 731.0, 700.0, 830.0, 829.0, 742.0, 1768.0, 560.0, 480.0, 476.0, 545.0, 3530.0, 536.0, 437.0, 433.0, 664.0, 523.0, 451.0, 367.0, 383.0, 385.0, 345.0, 321.0, 521.0, 349.0, 1251.1392822265625, 1210.769775390625, 172.15365600585938, 94.9054183959961, 93.00395965576172, 71.1416015625, 61.718162536621094, 113.10852813720703, 32.655296325683594, 25.47590446472168, 22.234407424926758, 22.085878372192383, 20.83762550354004, 19.996776580810547, 17.1556339263916, 17.101409912109375, 829.6954956054688, 14.424267768859863, 12.799180030822754, 12.518725395202637, 12.460700988769531, 9.080775260925293, 86.44190979003906, 8.505309104919434, 8.382413864135742, 8.324003219604492, 8.275115013122559, 7.8388285636901855, 7.574437618255615, 6.948949337005615, 446.55047607421875, 28.53250503540039, 45.12629318237305, 3530.85595703125, 1336.1822509765625, 29.518310546875, 70.67185974121094, 54.63084411621094, 98.94842529296875, 228.4278106689453, 82.26245880126953, 319.5078125, 96.30660247802734, 664.0908203125, 320.6566467285156, 250.87879943847656, 311.7027587890625, 289.5943298339844, 189.99107360839844, 392.4086608886719, 176.3330535888672, 161.17282104492188, 270.18212890625, 545.4357299804688, 536.3735961914062, 174.78231811523438, 64.35301971435547, 60.41933822631836, 49.412105560302734, 47.85664367675781, 46.5829963684082, 42.13312911987305, 36.62717056274414, 35.254600524902344, 33.17122268676758, 32.54648208618164, 31.699199676513672, 29.427261352539062, 29.23299789428711, 28.534013748168945, 25.900165557861328, 25.738819122314453, 23.46645736694336, 22.969778060913086, 21.92811393737793, 21.51935386657715, 19.95292854309082, 27.721742630004883, 18.998605728149414, 17.421337127685547, 17.270183563232422, 16.78679084777832, 16.442420959472656, 830.358642578125, 521.230224609375, 18.564735412597656, 329.2987976074219, 44.82182312011719, 92.1493911743164, 1768.678466796875, 131.5389862060547, 192.67266845703125, 193.52328491210938, 211.798583984375, 3530.85595703125, 1688.447509765625, 251.958251953125, 149.23951721191406, 700.1452026367188, 289.1665954589844, 98.91484832763672, 85.5109634399414, 70.43809509277344, 69.99308013916016, 55.297977447509766, 42.74336624145508, 35.8646354675293, 35.27653503417969, 32.93399429321289, 30.1241512298584, 27.755552291870117, 26.919010162353516, 25.347545623779297, 22.48965835571289, 21.55927848815918, 19.92137908935547, 19.628780364990234, 17.19920539855957, 16.47257423400879, 16.276416778564453, 16.128347396850586, 16.046886444091797, 15.881864547729492, 15.626764297485352, 14.976384162902832, 12.77985954284668, 11.611664772033691, 11.081600189208984, 1336.1822509765625, 664.0908203125, 88.55675506591797, 385.3611755371094, 414.3591613769531, 307.63720703125, 148.02830505371094, 202.3208770751953, 3530.85595703125, 392.4086608886719, 79.62867736816406, 280.45806884765625, 189.99107360839844, 174.4512939453125, 270.18212890625, 311.7027587890625, 209.80967712402344, 169.73190307617188, 113.05183410644531, 75.52432250976562, 58.94751739501953, 49.26197052001953, 42.03479766845703, 32.080265045166016, 29.973711013793945, 23.35340118408203, 19.843852996826172, 19.608617782592773, 19.607866287231445, 18.960363388061523, 18.935449600219727, 18.70309829711914, 15.984363555908203, 15.771923065185547, 451.6711120605469, 14.3429536819458, 14.123335838317871, 12.385610580444336, 11.343852996826172, 11.157804489135742, 10.967398643493652, 225.32667541503906, 153.21339416503906, 124.63258361816406, 9.559940338134766, 9.385859489440918, 73.77474975585938, 124.31341552734375, 34.12418746948242, 1082.171630859375, 19.301252365112305, 394.6588134765625, 724.26220703125, 31.987058639526367, 3530.85595703125, 176.3330535888672, 247.8550262451172, 122.20011901855469, 742.742919921875, 289.5943298339844, 1768.678466796875, 79.56561279296875, 189.99107360839844, 319.5078125, 320.6566467285156, 250.87879943847656, 385.4297180175781, 289.78704833984375, 223.74148559570312, 210.5773468017578, 200.18580627441406, 125.90261840820312, 109.09619140625, 94.18829345703125, 55.715538024902344, 55.26438903808594, 45.718143463134766, 26.178138732910156, 25.19240951538086, 23.009489059448242, 22.27070426940918, 13.892630577087402, 12.836711883544922, 19.0910587310791, 11.457615852355957, 39.221981048583984, 9.509774208068848, 9.406636238098145, 8.923885345458984, 8.430116653442383, 8.404458045959473, 7.729394435882568, 7.665334224700928, 7.12034273147583, 6.557156562805176, 6.4800920486450195, 151.59136962890625, 29.823450088500977, 1688.447509765625, 1768.678466796875, 105.14363098144531, 37.92863082885742, 39.73640823364258, 189.99107360839844, 131.55718994140625, 176.3330535888672, 311.7027587890625, 319.5078125, 392.4086608886719, 289.5943298339844, 365.93841552734375, 251.958251953125, 228.4278106689453, 98.94842529296875, 280.45806884765625, 526.1688842773438, 320.6566467285156, 349.92572021484375, 383.6785583496094, 147.67762756347656, 99.81343841552734, 69.96556091308594, 52.755401611328125, 46.311500549316406, 43.892757415771484, 41.603721618652344, 41.43790817260742, 29.710744857788086, 28.560226440429688, 27.17750358581543, 26.82488441467285, 25.583738327026367, 24.278087615966797, 23.330568313598633, 22.77303695678711, 19.69756507873535, 19.396465301513672, 18.084274291992188, 16.85777473449707, 16.484779357910156, 15.949239730834961, 15.830721855163574, 15.735129356384277, 15.008045196533203, 14.613212585449219, 14.184863090515137, 13.908600807189941, 134.75050354003906, 394.30682373046875, 197.044677734375, 131.51734924316406, 154.66539001464844, 123.85917663574219, 52.64347457885742, 126.12950897216797, 42.065765380859375, 385.3611755371094, 202.3208770751953, 1093.4454345703125, 200.77520751953125, 96.30660247802734, 55.652587890625, 724.26220703125, 77.03828430175781, 3530.85595703125, 394.6588134765625, 437.80865478515625, 289.905517578125, 153.81483459472656, 125.18183898925781, 123.29009246826172, 91.00320434570312, 87.93502044677734, 66.92354583740234, 91.59300231933594, 26.282461166381836, 64.64810180664062, 26.776723861694336, 23.20709228515625, 21.87862777709961, 20.22332191467285, 20.046375274658203, 18.289838790893555, 18.16752052307129, 16.814062118530273, 24.077320098876953, 15.903095245361328, 15.686651229858398, 15.561697006225586, 15.094576835632324, 14.047828674316406, 13.713542938232422, 13.699187278747559, 12.849376678466797, 12.284896850585938, 12.146270751953125, 52.4747200012207, 27.792583465576172, 170.29420471191406, 414.3591613769531, 523.5930786132812, 526.1688842773438, 77.03828430175781, 79.0014877319336, 20.70958137512207, 365.93841552734375, 1093.4454345703125, 43.54718017578125, 3530.85595703125, 151.59136962890625, 228.4278106689453, 84.9861831665039, 307.63720703125, 731.2879638671875, 433.1614074707031, 147.3134002685547, 62.94602966308594, 61.37712097167969, 49.698081970214844, 48.05185317993164, 47.45677947998047, 31.346445083618164, 28.302539825439453, 22.663179397583008, 17.10158348083496, 16.02260398864746, 14.84079647064209, 13.75761890411377, 13.561548233032227, 12.55734920501709, 11.950263023376465, 11.71428108215332, 10.682324409484863, 9.695148468017578, 9.440808296203613, 8.948782920837402, 8.931081771850586, 8.829620361328125, 7.944626808166504, 7.913366317749023, 7.852940082550049, 7.790463924407959, 7.630551815032959, 47.14513397216797, 49.89540100097656, 62.70457077026367, 29.408447265625, 84.9861831665039, 1093.4454345703125, 19.37013816833496, 20.858118057250977, 91.37533569335938, 365.93841552734375, 526.1688842773438, 521.230224609375, 161.17282104492188, 170.29420471191406, 3530.85595703125, 1082.171630859375, 72.3835220336914, 1768.678466796875, 200.77520751953125, 480.1492614746094, 476.93817138671875, 289.29571533203125, 216.4498291015625, 129.7403564453125, 73.31766510009766, 62.11435317993164, 49.63148880004883, 43.346370697021484, 33.195220947265625, 44.41627502441406, 30.3818416595459, 29.690975189208984, 23.899961471557617, 22.78047752380371, 19.347640991210938, 27.826082229614258, 18.920421600341797, 17.77627944946289, 16.834232330322266, 16.419631958007812, 16.396949768066406, 15.451066970825195, 12.638047218322754, 12.380389213562012, 11.727642059326172, 12.491965293884277, 11.571005821228027, 11.3012056350708, 10.720026016235352, 31.28243637084961, 184.4208221435547, 32.19462203979492, 193.52328491210938, 19.713266372680664, 664.0908203125, 93.68350982666016, 3530.85595703125, 148.02830505371094, 1688.447509765625, 63.761722564697266, 250.87879943847656, 311.7027587890625, 320.6566467285156, 319.5078125, 197.044677734375, 392.4086608886719, 367.94879150390625, 277.85870361328125, 75.1803970336914, 104.24755096435547, 39.714256286621094, 30.98740005493164, 27.82416534423828, 26.23265838623047, 24.847946166992188, 22.862398147583008, 22.31173324584961, 20.879140853881836, 19.36698341369629, 18.694866180419922, 16.016563415527344, 15.984681129455566, 14.736385345458984, 14.604972839355469, 14.516959190368652, 14.179464340209961, 14.041998863220215, 13.287187576293945, 12.845246315002441, 12.520078659057617, 330.12744140625, 48.96879959106445, 11.984332084655762, 11.924467086791992, 11.56908130645752, 11.549941062927246, 16.91594123840332, 560.9646606445312, 174.4512939453125, 36.8570442199707, 219.4608917236328, 42.519439697265625, 307.63720703125, 446.55047607421875, 3530.85595703125, 27.683746337890625, 270.18212890625, 280.45806884765625, 96.42127227783203, 251.958251953125, 1768.678466796875, 345.978759765625, 86.94107055664062, 71.5243148803711, 68.98760223388672, 50.96419143676758, 40.96083450317383, 38.49784469604492, 33.108917236328125, 32.02349090576172, 29.885120391845703, 28.371841430664062, 36.84540557861328, 31.512575149536133, 25.342540740966797, 24.923038482666016, 24.673208236694336, 23.274784088134766, 21.915828704833984, 19.36138343811035, 18.73838996887207, 18.621091842651367, 18.628843307495117, 17.862131118774414, 17.794639587402344, 17.664474487304688, 17.505338668823242, 17.467453002929688, 15.888703346252441, 15.771450996398926, 14.45114517211914, 32.88862228393555, 52.195472717285156, 329.2987976074219, 96.42127227783203, 149.23951721191406, 1688.447509765625, 63.761722564697266, 1768.678466796875, 830.358642578125, 211.798583984375, 320.6566467285156, 250.87879943847656, 3530.85595703125, 110.30284881591797, 133.95135498046875, 80.84402465820312, 56.75529098510742, 52.37733840942383, 49.33195877075195, 46.789676666259766, 33.28889846801758, 33.27762985229492, 32.38191223144531, 31.650304794311523, 26.435657501220703, 26.583593368530273, 24.210693359375, 24.1351375579834, 22.00716209411621, 20.112085342407227, 17.43292808532715, 17.42565155029297, 16.33761978149414, 16.207839965820312, 16.032550811767578, 16.13031768798828, 15.155817985534668, 13.423627853393555, 81.05538940429688, 13.014466285705566, 11.706669807434082, 12.320743560791016, 11.37916374206543, 10.697110176086426, 222.11404418945312, 742.742919921875, 70.28446197509766, 33.50811004638672, 523.5930786132812, 1082.171630859375, 724.26220703125, 125.80152130126953, 394.6588134765625, 3530.85595703125, 189.8948974609375, 270.18212890625, 60.87309646606445, 320.6566467285156, 451.6711120605469, 123.55647277832031, 116.22470092773438, 98.556640625, 56.72945785522461, 45.10011672973633, 43.88531494140625, 29.10466766357422, 28.55539321899414, 30.793432235717773, 24.27919578552246, 23.9835262298584, 23.009897232055664, 67.511474609375, 22.0672607421875, 21.69097137451172, 21.53725242614746, 21.297725677490234, 20.940656661987305, 20.8900203704834, 20.78179359436035, 17.10472869873047, 16.08525276184082, 15.670721054077148, 15.160377502441406, 14.879196166992188, 13.387155532836914, 12.900867462158203, 154.96067810058594, 12.300273895263672, 11.92531681060791, 51.76607894897461, 29.19620132446289, 219.4608917236328, 192.67266845703125, 110.30284881591797, 41.375301361083984, 38.36762619018555, 1688.447509765625, 93.1564712524414, 365.93841552734375, 526.1688842773438, 560.9646606445312, 1768.678466796875, 319.5078125, 289.5943298339844, 329.2987976074219, 392.4086608886719, 184.4208221435547, 311.7027587890625, 321.8023681640625, 224.3992462158203, 45.48330307006836, 39.54438781738281, 36.66963577270508, 33.94313430786133, 30.459672927856445, 29.51575469970703, 29.225862503051758, 22.586198806762695, 21.98246955871582, 21.831911087036133, 20.501235961914062, 18.926694869995117, 17.343570709228516, 17.2540340423584, 16.818342208862305, 16.384572982788086, 15.816811561584473, 15.005545616149902, 14.799783706665039, 14.506990432739258, 14.058523178100586, 13.914498329162598, 13.87329387664795, 13.803739547729492, 13.439043998718262, 13.153524398803711, 12.898537635803223, 12.750045776367188, 51.33961486816406, 20.879043579101562, 27.070228576660156, 131.5389862060547, 24.25389289855957, 50.66612243652344, 1688.447509765625, 1768.678466796875, 742.742919921875, 392.4086608886719, 101.7381591796875, 211.798583984375, 329.2987976074219, 251.958251953125, 307.63720703125, 176.3330535888672, 165.50845336914062, 106.42609405517578, 98.9410171508789, 57.69448471069336, 47.310245513916016, 44.285011291503906, 34.96821212768555, 30.45456314086914, 41.326751708984375, 28.047208786010742, 24.864702224731445, 23.608396530151367, 21.19102668762207, 19.62961196899414, 27.73491096496582, 18.75482940673828, 15.39295768737793, 15.191588401794434, 15.063332557678223, 14.317062377929688, 14.189764976501465, 13.164560317993164, 12.723427772521973, 12.379371643066406, 12.345212936401367, 11.633523941040039, 11.510428428649902, 10.836111068725586, 10.7566499710083, 10.643628120422363, 46.8303108215332, 173.06234741210938, 30.19023895263672, 46.645240783691406, 189.8948974609375, 115.58759307861328, 113.96435546875, 33.39525604248047, 33.803741455078125, 3530.85595703125, 724.26220703125, 280.45806884765625, 23.481327056884766, 307.63720703125, 392.4086608886719, 829.6954956054688, 1768.678466796875, 251.958251953125, 85.5395736694336, 64.6312255859375, 57.89374542236328, 53.90277862548828, 53.2156867980957, 46.92505645751953, 43.322669982910156, 29.842151641845703, 29.08122444152832, 27.31589698791504, 27.10696792602539, 25.99033546447754, 25.254417419433594, 25.97661590576172, 25.144594192504883, 44.176307678222656, 22.171621322631836, 21.998502731323242, 21.790874481201172, 20.86511993408203, 20.11906623840332, 18.534820556640625, 50.29484176635742, 16.722946166992188, 17.21671485900879, 16.371261596679688, 16.956933975219727, 15.759610176086426, 15.527997970581055, 15.498353958129883, 118.08904266357422, 28.846776962280273, 22.454912185668945, 47.94369125366211, 125.80152130126953, 25.709270477294922, 63.65513610839844, 82.26245880126953, 79.0014877319336, 60.87309646606445, 211.798583984375, 394.30682373046875, 3530.85595703125, 724.26220703125, 113.96435546875, 394.6588134765625, 222.11404418945312, 149.23951721191406, 105.14363098144531, 177.97149658203125, 77.57125854492188, 53.173343658447266, 43.812286376953125, 41.610965728759766, 41.19337844848633, 40.86919021606445, 40.90473937988281, 38.65616226196289, 34.63961410522461, 34.521697998046875, 34.320735931396484, 31.460121154785156, 28.79237174987793, 28.308361053466797, 26.03650665283203, 25.109121322631836, 24.506139755249023, 29.29294204711914, 22.137624740600586, 21.847240447998047, 21.761133193969727, 20.243722915649414, 19.896154403686523, 19.22686195373535, 18.737239837646484, 25.25383758544922, 16.128849029541016, 14.618631362915039, 13.12276554107666, 247.8550262451172, 43.35169219970703, 122.20011901855469, 79.56561279296875, 45.12513732910156, 3530.85595703125, 30.252840042114258, 394.6588134765625, 72.3835220336914, 320.6566467285156, 392.4086608886719, 228.4278106689453, 59.445396423339844, 58.44709777832031, 56.47561264038086, 51.509761810302734, 51.92424011230469, 50.1223030090332, 41.57130813598633, 33.75940704345703, 31.112197875976562, 26.844947814941406, 26.38616371154785, 25.333908081054688, 24.121784210205078, 23.22683334350586, 23.17952537536621, 21.588537216186523, 21.375707626342773, 17.71790885925293, 17.457120895385742, 17.32061004638672, 17.130380630493164, 16.82459831237793, 16.340900421142578, 16.017383575439453, 18.787839889526367, 15.660061836242676, 15.610755920410156, 14.078998565673828, 13.987530708312988, 13.087172508239746, 25.798643112182617, 28.1199893951416, 26.37343406677246, 48.912296295166016, 289.5943298339844, 45.56245803833008, 52.59120559692383, 1768.678466796875, 3530.85595703125, 1688.447509765625, 34.038490295410156, 200.77520751953125, 211.798583984375, 724.26220703125, 228.4278106689453, 147.04461669921875, 72.6613540649414, 60.21177291870117, 55.47298812866211, 53.58476638793945, 60.26787185668945, 44.09259796142578, 43.97772979736328, 41.57090377807617, 41.431514739990234, 39.400875091552734, 43.176815032958984, 41.06413650512695, 35.13373947143555, 33.76200485229492, 30.038999557495117, 27.810306549072266, 26.97833824157715, 26.773649215698242, 25.881183624267578, 25.749906539916992, 24.815715789794922, 24.566646575927734, 23.71746253967285, 22.22505760192871, 20.203184127807617, 19.21210479736328, 18.89255142211914, 17.800212860107422, 16.71891212463379, 34.53907775878906, 1768.678466796875, 311.7027587890625, 724.26220703125, 197.68019104003906, 60.474456787109375, 57.8781623840332, 56.762420654296875, 55.28023910522461, 53.96342086791992, 50.611122131347656, 52.9124755859375, 38.79969024658203, 38.07556915283203, 37.562400817871094, 33.933292388916016, 30.120311737060547, 25.31130027770996, 23.7672061920166, 19.13474464416504, 18.434812545776367, 17.560392379760742, 13.543713569641113, 13.334236145019531, 13.296314239501953, 12.730862617492676, 12.628870964050293, 11.296547889709473, 10.777935028076172, 10.757558822631836, 9.56866455078125, 9.109559059143066, 9.072213172912598, 9.00955867767334, 60.77009201049805, 53.017879486083984, 44.514286041259766, 14.606908798217773, 44.71977996826172, 526.1688842773438, 3530.85595703125, 148.02830505371094, 724.26220703125, 161.17282104492188]}, \"plot.opts\": {\"ylab\": \"PC2\", \"xlab\": \"PC1\"}};\n",
       "\n",
       "function LDAvis_load_lib(url, callback){\n",
       "  var s = document.createElement('script');\n",
       "  s.src = url;\n",
       "  s.async = true;\n",
       "  s.onreadystatechange = s.onload = callback;\n",
       "  s.onerror = function(){console.warn(\"failed to load library \" + url);};\n",
       "  document.getElementsByTagName(\"head\")[0].appendChild(s);\n",
       "}\n",
       "\n",
       "if(typeof(LDAvis) !== \"undefined\"){\n",
       "   // already loaded: just create the visualization\n",
       "   !function(LDAvis){\n",
       "       new LDAvis(\"#\" + \"ldavis_el55541397037005447523025344415\", ldavis_el55541397037005447523025344415_data);\n",
       "   }(LDAvis);\n",
       "}else if(typeof define === \"function\" && define.amd){\n",
       "   // require.js is available: use it to load d3/LDAvis\n",
       "   require.config({paths: {d3: \"https://cdnjs.cloudflare.com/ajax/libs/d3/3.5.5/d3.min\"}});\n",
       "   require([\"d3\"], function(d3){\n",
       "      window.d3 = d3;\n",
       "      LDAvis_load_lib(\"https://cdn.rawgit.com/bmabey/pyLDAvis/files/ldavis.v1.0.0.js\", function(){\n",
       "        new LDAvis(\"#\" + \"ldavis_el55541397037005447523025344415\", ldavis_el55541397037005447523025344415_data);\n",
       "      });\n",
       "    });\n",
       "}else{\n",
       "    // require.js not available: dynamically load d3 & LDAvis\n",
       "    LDAvis_load_lib(\"https://cdnjs.cloudflare.com/ajax/libs/d3/3.5.5/d3.min.js\", function(){\n",
       "         LDAvis_load_lib(\"https://cdn.rawgit.com/bmabey/pyLDAvis/files/ldavis.v1.0.0.js\", function(){\n",
       "                 new LDAvis(\"#\" + \"ldavis_el55541397037005447523025344415\", ldavis_el55541397037005447523025344415_data);\n",
       "            })\n",
       "         });\n",
       "}\n",
       "</script>"
      ],
      "text/plain": [
       "PreparedData(topic_coordinates=           Freq  cluster  topics         x         y\n",
       "topic                                               \n",
       "12     8.550251        1       1  0.165187 -0.156312\n",
       "13     7.231360        1       2 -0.164073  0.019562\n",
       "15     6.821567        1       3  0.169452 -0.062967\n",
       "16     6.342556        1       4  0.136110 -0.114465\n",
       "9      6.085882        1       5 -0.233711 -0.089469\n",
       "7      5.898769        1       6  0.085649  0.272921\n",
       "5      5.265902        1       7  0.051313  0.222185\n",
       "1      5.123642        1       8 -0.005367  0.257549\n",
       "6      4.938774        1       9  0.043498 -0.097752\n",
       "3      4.808573        1      10  0.039205 -0.010909\n",
       "4      4.735948        1      11 -0.208373 -0.051528\n",
       "0      4.657382        1      12  0.153687 -0.044801\n",
       "19     4.571177        1      13 -0.225998 -0.011284\n",
       "10     4.402385        1      14 -0.165425 -0.042838\n",
       "18     4.386738        1      15  0.116022 -0.076494\n",
       "2      3.906168        1      16  0.078457  0.045065\n",
       "11     3.490347        1      17  0.124366 -0.061451\n",
       "14     3.246455        1      18 -0.077885 -0.065517\n",
       "8      3.127074        1      19 -0.103574  0.011388\n",
       "17     2.409048        1      20  0.021460  0.057119, topic_info=     Category         Freq           Term        Total  loglift  logprob\n",
       "term                                                                    \n",
       "3754  Default  1251.000000           year  1251.000000  30.0000  30.0000\n",
       "1891  Default  1210.000000            old  1210.000000  29.0000  29.0000\n",
       "4407  Default  1336.000000            man  1336.000000  28.0000  28.0000\n",
       "4115  Default  1688.000000             na  1688.000000  27.0000  27.0000\n",
       "2966  Default  1093.000000       shooting  1093.000000  26.0000  26.0000\n",
       "521   Default  1082.000000        suspect  1082.000000  25.0000  25.0000\n",
       "4960  Default   731.000000        officer   731.000000  24.0000  24.0000\n",
       "5461  Default   700.000000           shot   700.000000  23.0000  23.0000\n",
       "6320  Default   830.000000         police   830.000000  22.0000  22.0000\n",
       "43    Default   829.000000        missing   829.000000  21.0000  21.0000\n",
       "477   Default   742.000000         murder   742.000000  20.0000  20.0000\n",
       "1121  Default  1768.000000           lapd  1768.000000  19.0000  19.0000\n",
       "6331  Default   560.000000        traffic   560.000000  18.0000  18.0000\n",
       "4855  Default   480.000000            hit   480.000000  17.0000  17.0000\n",
       "5928  Default   476.000000            run   476.000000  16.0000  16.0000\n",
       "797   Default   545.000000            los   545.000000  15.0000  15.0000\n",
       "3360  Default  3530.000000             nr  3530.000000  14.0000  14.0000\n",
       "414   Default   536.000000        angeles   536.000000  13.0000  13.0000\n",
       "5339  Default   437.000000       homicide   437.000000  12.0000  12.0000\n",
       "6077  Default   433.000000       involved   433.000000  11.0000  11.0000\n",
       "3998  Default   664.000000         killed   664.000000  10.0000  10.0000\n",
       "5711  Default   523.000000     detectives   523.000000   9.0000   9.0000\n",
       "411   Default   451.000000        robbery   451.000000   8.0000   8.0000\n",
       "2052  Default   367.000000      collision   367.000000   7.0000   7.0000\n",
       "5894  Default   383.000000            one   383.000000   6.0000   6.0000\n",
       "582   Default   385.000000            dui   385.000000   5.0000   5.0000\n",
       "5428  Default   345.000000          chief   345.000000   4.0000   4.0000\n",
       "6149  Default   321.000000         reward   321.000000   3.0000   3.0000\n",
       "240   Default   521.000000       officers   521.000000   2.0000   2.0000\n",
       "5259  Default   349.000000           gang   349.000000   1.0000   1.0000\n",
       "...       ...          ...            ...          ...      ...      ...\n",
       "6318  Topic20    36.690414     operations    37.562401   3.7025  -4.0170\n",
       "3616  Topic20    33.060299  boyle_heights    33.933292   3.6999  -4.1212\n",
       "2113  Topic20    29.248327    celebration    30.120312   3.6966  -4.2437\n",
       "725   Topic20    24.439312      passenger    25.311300   3.6909  -4.4233\n",
       "67    Topic20    22.895220           club    23.767206   3.6886  -4.4886\n",
       "6500  Topic20    18.262760         church    19.134745   3.6793  -4.7146\n",
       "2761  Topic20    17.562828       fighting    18.434813   3.6775  -4.7537\n",
       "3571  Topic20    16.688408      celebrate    17.560392   3.6750  -4.8048\n",
       "3581  Topic20    12.671713     carjacking    13.543714   3.6594  -5.0801\n",
       "4033  Topic20    12.462252    north_hills    13.334236   3.6583  -5.0968\n",
       "116   Topic20    12.424328         result    13.296314   3.6581  -5.0998\n",
       "2780  Topic20    11.858873      abduction    12.730863   3.6550  -5.1464\n",
       "2152  Topic20    11.756886          coach    12.628871   3.6544  -5.1550\n",
       "6081  Topic20    10.424541    block_party    11.296548   3.6456  -5.2753\n",
       "3020  Topic20     9.905946           seen    10.777935   3.6416  -5.3263\n",
       "5333  Topic20     9.885574          racer    10.757559   3.6414  -5.3284\n",
       "2610  Topic20     8.696680            lax     9.568665   3.6304  -5.4565\n",
       "4012  Topic20     8.237379        success     9.109559   3.6253  -5.5108\n",
       "3969  Topic20     8.199989         string     9.072213   3.6249  -5.5154\n",
       "6330  Topic20     8.137574          field     9.009559   3.6241  -5.5230\n",
       "4039  Topic20    52.577290       violence    60.770092   3.5811  -3.6572\n",
       "1282  Topic20    37.273594          month    53.017879   3.3736  -4.0012\n",
       "3107  Topic20    31.788372        pursuit    44.514286   3.3892  -4.1604\n",
       "637   Topic20    11.032101         brutal    14.606909   3.4453  -5.2187\n",
       "5485  Topic20    16.489134       argument    44.719780   2.7282  -4.8168\n",
       "6298  Topic20    29.034407           area   526.168884   0.8288  -4.2510\n",
       "3360  Topic20    46.604973             nr  3530.855957  -0.6016  -3.7778\n",
       "5920  Topic20    16.858450        vehicle   148.028305   1.5534  -4.7946\n",
       "5799  Topic20    18.570156       arrested   724.262207   0.0623  -4.6979\n",
       "1832  Topic20    12.369078             jk   161.172821   1.1587  -5.1043\n",
       "\n",
       "[954 rows x 6 columns], token_table=      Topic      Freq                Term\n",
       "term                                     \n",
       "3483      1  0.841146            abducted\n",
       "3483     16  0.140191            abducted\n",
       "2780     20  0.942591           abduction\n",
       "4675      7  0.947986               abuse\n",
       "4178     11  0.951648             academy\n",
       "5974      4  0.993058  academy_graduation\n",
       "3526      7  0.895408      academy_magnet\n",
       "4282     12  0.986692            accident\n",
       "2216     14  0.930338          activation\n",
       "5169     13  0.922407   activities_league\n",
       "2577      6  0.956674  additional_victims\n",
       "1843      1  0.988364               adult\n",
       "2287     10  0.939374            advisory\n",
       "2287     15  0.061263            advisory\n",
       "6         5  0.925913              agency\n",
       "6047     10  0.903126                aims\n",
       "5898      1  0.310820                  aj\n",
       "5898      5  0.161977                  aj\n",
       "5898      7  0.122577                  aj\n",
       "5898      9  0.087555                  aj\n",
       "5898     12  0.021889                  aj\n",
       "5898     13  0.091933                  aj\n",
       "5898     17  0.105066                  aj\n",
       "5898     18  0.091933                  aj\n",
       "1239     18  0.986257               alert\n",
       "416       4  0.950598        alert_issued\n",
       "2048      3  0.946837               alley\n",
       "1934     10  0.958578               along\n",
       "6341      3  0.938977         altercation\n",
       "5171      5  0.935748          alzheimers\n",
       "...     ...       ...                 ...\n",
       "6470     19  0.969750             walking\n",
       "6009      4  0.868772              wanted\n",
       "6009     18  0.120663              wanted\n",
       "3663      5  0.956771          washington\n",
       "3857     18  0.916928               watts\n",
       "3347      3  0.934805              weapon\n",
       "1238     11  0.951734             weapons\n",
       "2894     18  0.953495                week\n",
       "2378      9  0.968939             weekend\n",
       "120       2  0.254317                west\n",
       "120      10  0.062282                west\n",
       "120      13  0.679910                west\n",
       "1232      8  0.893976            wielding\n",
       "311      19  0.967731                wife\n",
       "2289     11  0.944067     william_bratton\n",
       "1989     17  0.955828          wilmington\n",
       "4957      7  0.986200            wilshire\n",
       "706      15  0.943142            winnetka\n",
       "3924      1  0.950153           witnesses\n",
       "2677      1  0.839771               woman\n",
       "2677      9  0.008958               woman\n",
       "2677     10  0.147800               woman\n",
       "3223     19  0.975220               women\n",
       "4158      8  0.841761             wounded\n",
       "4158     19  0.140293             wounded\n",
       "3754      1  0.999089                year\n",
       "4885      2  0.077523               years\n",
       "4885     18  0.891520               years\n",
       "5679      3  0.985812               young\n",
       "5990      4  0.983926               youth\n",
       "\n",
       "[1228 rows x 3 columns], R=30, lambda_step=0.01, plot_opts={'ylab': 'PC2', 'xlab': 'PC1'}, topic_order=[13, 14, 16, 17, 10, 8, 6, 2, 7, 4, 5, 1, 20, 11, 19, 3, 12, 15, 9, 18])"
      ]
     },
     "execution_count": 10,
     "metadata": {},
     "output_type": "execute_result"
    }
   ],
   "source": [
    "# Now that the LDA model is built, the next step is to examine the produced topics and the associated keywords. \n",
    "# There is no better tool than pyLDAvis package’s interactive chart.\n",
    "\n",
    "# Visualize the topics\n",
    "import pyLDAvis.gensim\n",
    "pyLDAvis.enable_notebook()\n",
    "vis = pyLDAvis.gensim.prepare(lda_model, bow_corpus, id2word)\n",
    "vis\n",
    "\n",
    "# Each bubble on the left-hand side plot represents a topic. The larger the bubble, the more prevalent is that topic.\n",
    "# A good topic model will have fairly big, non-overlapping bubbles scattered throughout the chart instead of being \n",
    "# clustered in one quadrant.\n",
    "# A model with too many topics, will typically have many overlaps, small sized bubbles clustered in one region of the chart."
   ]
  },
  {
   "cell_type": "markdown",
   "metadata": {},
   "source": [
    "## Building LDA Mallet Model"
   ]
  },
  {
   "cell_type": "code",
   "execution_count": 13,
   "metadata": {},
   "outputs": [],
   "source": [
    "# Download File: http://mallet.cs.umass.edu/dist/mallet-2.0.8.zip\n",
    "from gensim.models.wrappers import LdaMallet\n",
    "mallet_path = '~/dev/py/nlpy/3rd-party/mallet-2.0.8/bin/mallet' # update this path\n",
    "ldamallet = LdaMallet(mallet_path, corpus=bow_corpus, num_topics=NUM_TOPICS, id2word=id2word)"
   ]
  },
  {
   "cell_type": "code",
   "execution_count": 14,
   "metadata": {},
   "outputs": [
    {
     "name": "stdout",
     "output_type": "stream",
     "text": [
      "[(2,\n",
      "  [('na', 0.07725430597771023),\n",
      "   ('safety', 0.04331306990881459),\n",
      "   ('operation', 0.03368794326241135),\n",
      "   ('news_conference', 0.03115501519756839),\n",
      "   ('program', 0.03115501519756839),\n",
      "   ('enforcement', 0.030395136778115502),\n",
      "   ('school', 0.02684903748733536),\n",
      "   ('holiday', 0.025835866261398176),\n",
      "   ('children', 0.023809523809523808),\n",
      "   ('memorial', 0.02127659574468085)]),\n",
      " (18,\n",
      "  [('nr', 0.1041017653167186),\n",
      "   ('man', 0.09553478712357218),\n",
      "   ('found', 0.08566978193146417),\n",
      "   ('car', 0.05425752855659398),\n",
      "   ('dead', 0.05399792315680166),\n",
      "   ('rh', 0.052440290758047764),\n",
      "   ('vehicle', 0.04932502596053998),\n",
      "   ('pv', 0.03608515057113188),\n",
      "   ('victim', 0.03556593977154725),\n",
      "   ('home', 0.02570093457943925)]),\n",
      " (8,\n",
      "  [('murder', 0.20632603406326033),\n",
      "   ('suspect', 0.08856447688564477),\n",
      "   ('reward', 0.08248175182481751),\n",
      "   ('offered', 0.058394160583941604),\n",
      "   ('publics_help', 0.032846715328467155),\n",
      "   ('attempt', 0.03236009732360097),\n",
      "   ('case', 0.02165450121654501),\n",
      "   ('kidnap', 0.019221411192214113),\n",
      "   ('shoots', 0.016788321167883213),\n",
      "   ('information', 0.01630170316301703)]),\n",
      " (16,\n",
      "  [('lapd', 0.1002152595072949),\n",
      "   ('chief', 0.08729968906960058),\n",
      "   ('community', 0.08586462568763453),\n",
      "   ('jr', 0.03635493900980627),\n",
      "   ('bratton', 0.017699115044247787),\n",
      "   ('charlie_beck', 0.016264051662281752),\n",
      "   ('members', 0.014350633819660369),\n",
      "   ('media_availability', 0.013872279359005023),\n",
      "   ('media', 0.012437215977038986),\n",
      "   ('lapds', 0.012198038746711314)]),\n",
      " (3,\n",
      "  [('detectives', 0.15739062904478385),\n",
      "   ('homicide', 0.12787988609888687),\n",
      "   ('investigation', 0.0898265596686513),\n",
      "   ('investigate', 0.057986021227025626),\n",
      "   ('arrest', 0.04530157908361377),\n",
      "   ('street', 0.04090085425834843),\n",
      "   ('update', 0.036500129433083096),\n",
      "   ('seek', 0.03391146777116231),\n",
      "   ('rampart', 0.029251876779704894),\n",
      "   ('double', 0.023039088791095005)]),\n",
      " (9,\n",
      "  [('man', 0.24641092021652153),\n",
      "   ('shot', 0.18757354671687457),\n",
      "   ('killed', 0.128500823723229),\n",
      "   ('death', 0.10990821369734055),\n",
      "   ('stabbed', 0.02494704636385032),\n",
      "   ('fatally', 0.019298658507884207),\n",
      "   ('dispute', 0.016945163567898328),\n",
      "   ('men', 0.01247352318192516),\n",
      "   ('custody', 0.012238173687926571),\n",
      "   ('front', 0.011061426217933632)]),\n",
      " (0,\n",
      "  [('robbery', 0.12769650384329284),\n",
      "   ('suspects', 0.11108356062484503),\n",
      "   ('caught', 0.06025291346392264),\n",
      "   ('burglary', 0.042896107116290605),\n",
      "   ('armed', 0.040664517728737914),\n",
      "   ('nr', 0.033473840813290356),\n",
      "   ('video', 0.029754525167369206),\n",
      "   ('sought', 0.02355566575750062),\n",
      "   ('tape', 0.023059757004711134),\n",
      "   ('ti', 0.022563848251921648)]),\n",
      " (11,\n",
      "  [('area', 0.1368044920877999),\n",
      "   ('nr', 0.037008677896886166),\n",
      "   ('day', 0.036753445635528334),\n",
      "   ('city', 0.03266972945380296),\n",
      "   ('station', 0.02399183256763655),\n",
      "   ('bb', 0.021949974476773864),\n",
      "   ('sf', 0.021184277692700357),\n",
      "   ('harbor', 0.02092904543134252),\n",
      "   ('violence', 0.016845329249617153),\n",
      "   ('youth', 0.015569167942827974)]),\n",
      " (14,\n",
      "  [('arrested', 0.1962809917355372),\n",
      "   ('rf', 0.07334710743801653),\n",
      "   ('nr', 0.05036157024793388),\n",
      "   ('child', 0.04855371900826446),\n",
      "   ('victims', 0.03589876033057851),\n",
      "   ('lp', 0.035640495867768594),\n",
      "   ('mother', 0.022727272727272728),\n",
      "   ('local', 0.017303719008264464),\n",
      "   ('nv', 0.01652892561983471),\n",
      "   ('multiple', 0.014721074380165289)]),\n",
      " (6,\n",
      "  [('year', 0.3202718006795017),\n",
      "   ('missing', 0.20860702151755378),\n",
      "   ('woman', 0.11189127972819932),\n",
      "   ('critical', 0.0434881087202718),\n",
      "   ('female', 0.029218573046432616),\n",
      "   ('person', 0.02695356738391846),\n",
      "   ('girl', 0.02695356738391846),\n",
      "   ('elderly', 0.022650056625141562),\n",
      "   ('boy', 0.0217440543601359),\n",
      "   ('male', 0.02129105322763307)])]\n",
      "\n",
      "Coherence Score:  0.3924625704259348\n"
     ]
    }
   ],
   "source": [
    "# Show Topics\n",
    "pprint(ldamallet.show_topics(formatted=False))\n",
    "\n",
    "# Compute Coherence Score\n",
    "coherence_model_ldamallet = CoherenceModel(model=ldamallet, texts=data_lemmatized, dictionary=id2word, coherence='c_v')\n",
    "coherence_ldamallet = coherence_model_ldamallet.get_coherence()\n",
    "print('\\nCoherence Score: ', coherence_ldamallet)"
   ]
  },
  {
   "cell_type": "markdown",
   "metadata": {},
   "source": [
    "## How to find the optimal number of topics for LDA?"
   ]
  },
  {
   "cell_type": "code",
   "execution_count": 11,
   "metadata": {},
   "outputs": [],
   "source": [
    "# An approach to finding the optimal number of topics is to build many LDA models with different values of number of topics (k) \n",
    "# and pick the one that gives the highest coherence value.\n",
    "# Choosing a ‘k’ that marks the end of a rapid growth of topic coherence usually offers meaningful and interpretable topics. \n",
    "# Picking an even higher value can sometimes provide more granular sub-topics.\n",
    "# If you see the same keywords being repeated in multiple topics, it’s probably a sign that the ‘k’ is too large.\n",
    "\n",
    "def compute_coherence_values(dictionary, corpus, texts, limit, start=2, step=3):\n",
    "    \"\"\"\n",
    "    Compute c_v coherence for various number of topics\n",
    "\n",
    "    Parameters:\n",
    "    ----------\n",
    "    dictionary : Gensim dictionary\n",
    "    corpus : Gensim corpus\n",
    "    texts : List of input texts\n",
    "    limit : Max num of topics\n",
    "\n",
    "    Returns:\n",
    "    -------\n",
    "    model_list : List of LDA topic models\n",
    "    coherence_values : Coherence values corresponding to the LDA model with respective number of topics\n",
    "    \"\"\"\n",
    "    coherence_values = []\n",
    "    model_list = []\n",
    "    for num_topics in range(start, limit, step):\n",
    "        model = gensim.models.wrappers.LdaMallet(mallet_path, corpus=corpus, num_topics=num_topics, id2word=id2word)\n",
    "        model_list.append(model)\n",
    "        coherencemodel = CoherenceModel(model=model, texts=texts, dictionary=dictionary, coherence='c_v')\n",
    "        coherence_values.append(coherencemodel.get_coherence())\n",
    "\n",
    "    return model_list, coherence_values"
   ]
  },
  {
   "cell_type": "code",
   "execution_count": 19,
   "metadata": {},
   "outputs": [],
   "source": [
    "# Can take a long time to run.\n",
    "start=60; limit=80; step=5;\n",
    "model_list, coherence_values = compute_coherence_values(\n",
    "    dictionary=id2word, \n",
    "    corpus=bow_corpus, \n",
    "    texts=data_lemmatized, \n",
    "    start=start, \n",
    "    limit=limit, \n",
    "    step=step)"
   ]
  },
  {
   "cell_type": "code",
   "execution_count": 21,
   "metadata": {},
   "outputs": [
    {
     "ename": "ValueError",
     "evalue": "x and y must have same first dimension, but have shapes (11,) and (4,)",
     "output_type": "error",
     "traceback": [
      "\u001b[0;31m---------------------------------------------------------------------------\u001b[0m",
      "\u001b[0;31mValueError\u001b[0m                                Traceback (most recent call last)",
      "\u001b[0;32m<ipython-input-21-2b776e361525>\u001b[0m in \u001b[0;36m<module>\u001b[0;34m\u001b[0m\n\u001b[1;32m      2\u001b[0m \u001b[0;32mfrom\u001b[0m \u001b[0mmatplotlib\u001b[0m \u001b[0;32mimport\u001b[0m \u001b[0mpyplot\u001b[0m \u001b[0;32mas\u001b[0m \u001b[0mplt\u001b[0m\u001b[0;34m\u001b[0m\u001b[0m\n\u001b[1;32m      3\u001b[0m \u001b[0mx\u001b[0m \u001b[0;34m=\u001b[0m \u001b[0mrange\u001b[0m\u001b[0;34m(\u001b[0m\u001b[0mstart\u001b[0m\u001b[0;34m,\u001b[0m \u001b[0mlimit\u001b[0m\u001b[0;34m,\u001b[0m \u001b[0mstep\u001b[0m\u001b[0;34m)\u001b[0m\u001b[0;34m\u001b[0m\u001b[0m\n\u001b[0;32m----> 4\u001b[0;31m \u001b[0mplt\u001b[0m\u001b[0;34m.\u001b[0m\u001b[0mplot\u001b[0m\u001b[0;34m(\u001b[0m\u001b[0mx\u001b[0m\u001b[0;34m,\u001b[0m \u001b[0mcoherence_values\u001b[0m\u001b[0;34m)\u001b[0m\u001b[0;34m\u001b[0m\u001b[0m\n\u001b[0m\u001b[1;32m      5\u001b[0m \u001b[0mplt\u001b[0m\u001b[0;34m.\u001b[0m\u001b[0mxlabel\u001b[0m\u001b[0;34m(\u001b[0m\u001b[0;34m\"Num Topics\"\u001b[0m\u001b[0;34m)\u001b[0m\u001b[0;34m\u001b[0m\u001b[0m\n\u001b[1;32m      6\u001b[0m \u001b[0mplt\u001b[0m\u001b[0;34m.\u001b[0m\u001b[0mylabel\u001b[0m\u001b[0;34m(\u001b[0m\u001b[0;34m\"Coherence score\"\u001b[0m\u001b[0;34m)\u001b[0m\u001b[0;34m\u001b[0m\u001b[0m\n",
      "\u001b[0;32m~/dev/py/nlpy/env/lib/python3.5/site-packages/matplotlib/pyplot.py\u001b[0m in \u001b[0;36mplot\u001b[0;34m(scalex, scaley, data, *args, **kwargs)\u001b[0m\n\u001b[1;32m   2747\u001b[0m \u001b[0;32mdef\u001b[0m \u001b[0mplot\u001b[0m\u001b[0;34m(\u001b[0m\u001b[0;34m*\u001b[0m\u001b[0margs\u001b[0m\u001b[0;34m,\u001b[0m \u001b[0mscalex\u001b[0m\u001b[0;34m=\u001b[0m\u001b[0;32mTrue\u001b[0m\u001b[0;34m,\u001b[0m \u001b[0mscaley\u001b[0m\u001b[0;34m=\u001b[0m\u001b[0;32mTrue\u001b[0m\u001b[0;34m,\u001b[0m \u001b[0mdata\u001b[0m\u001b[0;34m=\u001b[0m\u001b[0;32mNone\u001b[0m\u001b[0;34m,\u001b[0m \u001b[0;34m**\u001b[0m\u001b[0mkwargs\u001b[0m\u001b[0;34m)\u001b[0m\u001b[0;34m:\u001b[0m\u001b[0;34m\u001b[0m\u001b[0m\n\u001b[1;32m   2748\u001b[0m     return gca().plot(\n\u001b[0;32m-> 2749\u001b[0;31m         *args, scalex=scalex, scaley=scaley, data=data, **kwargs)\n\u001b[0m\u001b[1;32m   2750\u001b[0m \u001b[0;34m\u001b[0m\u001b[0m\n\u001b[1;32m   2751\u001b[0m \u001b[0;31m# Autogenerated by boilerplate.py.  Do not edit as changes will be lost.\u001b[0m\u001b[0;34m\u001b[0m\u001b[0;34m\u001b[0m\u001b[0m\n",
      "\u001b[0;32m~/dev/py/nlpy/env/lib/python3.5/site-packages/matplotlib/__init__.py\u001b[0m in \u001b[0;36minner\u001b[0;34m(ax, data, *args, **kwargs)\u001b[0m\n\u001b[1;32m   1783\u001b[0m                         \u001b[0;34m\"the Matplotlib list!)\"\u001b[0m \u001b[0;34m%\u001b[0m \u001b[0;34m(\u001b[0m\u001b[0mlabel_namer\u001b[0m\u001b[0;34m,\u001b[0m \u001b[0mfunc\u001b[0m\u001b[0;34m.\u001b[0m\u001b[0m__name__\u001b[0m\u001b[0;34m)\u001b[0m\u001b[0;34m,\u001b[0m\u001b[0;34m\u001b[0m\u001b[0m\n\u001b[1;32m   1784\u001b[0m                         RuntimeWarning, stacklevel=2)\n\u001b[0;32m-> 1785\u001b[0;31m             \u001b[0;32mreturn\u001b[0m \u001b[0mfunc\u001b[0m\u001b[0;34m(\u001b[0m\u001b[0max\u001b[0m\u001b[0;34m,\u001b[0m \u001b[0;34m*\u001b[0m\u001b[0margs\u001b[0m\u001b[0;34m,\u001b[0m \u001b[0;34m**\u001b[0m\u001b[0mkwargs\u001b[0m\u001b[0;34m)\u001b[0m\u001b[0;34m\u001b[0m\u001b[0m\n\u001b[0m\u001b[1;32m   1786\u001b[0m \u001b[0;34m\u001b[0m\u001b[0m\n\u001b[1;32m   1787\u001b[0m         inner.__doc__ = _add_data_doc(inner.__doc__,\n",
      "\u001b[0;32m~/dev/py/nlpy/env/lib/python3.5/site-packages/matplotlib/axes/_axes.py\u001b[0m in \u001b[0;36mplot\u001b[0;34m(self, scalex, scaley, *args, **kwargs)\u001b[0m\n\u001b[1;32m   1602\u001b[0m         \u001b[0mkwargs\u001b[0m \u001b[0;34m=\u001b[0m \u001b[0mcbook\u001b[0m\u001b[0;34m.\u001b[0m\u001b[0mnormalize_kwargs\u001b[0m\u001b[0;34m(\u001b[0m\u001b[0mkwargs\u001b[0m\u001b[0;34m,\u001b[0m \u001b[0mmlines\u001b[0m\u001b[0;34m.\u001b[0m\u001b[0mLine2D\u001b[0m\u001b[0;34m.\u001b[0m\u001b[0m_alias_map\u001b[0m\u001b[0;34m)\u001b[0m\u001b[0;34m\u001b[0m\u001b[0m\n\u001b[1;32m   1603\u001b[0m \u001b[0;34m\u001b[0m\u001b[0m\n\u001b[0;32m-> 1604\u001b[0;31m         \u001b[0;32mfor\u001b[0m \u001b[0mline\u001b[0m \u001b[0;32min\u001b[0m \u001b[0mself\u001b[0m\u001b[0;34m.\u001b[0m\u001b[0m_get_lines\u001b[0m\u001b[0;34m(\u001b[0m\u001b[0;34m*\u001b[0m\u001b[0margs\u001b[0m\u001b[0;34m,\u001b[0m \u001b[0;34m**\u001b[0m\u001b[0mkwargs\u001b[0m\u001b[0;34m)\u001b[0m\u001b[0;34m:\u001b[0m\u001b[0;34m\u001b[0m\u001b[0m\n\u001b[0m\u001b[1;32m   1605\u001b[0m             \u001b[0mself\u001b[0m\u001b[0;34m.\u001b[0m\u001b[0madd_line\u001b[0m\u001b[0;34m(\u001b[0m\u001b[0mline\u001b[0m\u001b[0;34m)\u001b[0m\u001b[0;34m\u001b[0m\u001b[0m\n\u001b[1;32m   1606\u001b[0m             \u001b[0mlines\u001b[0m\u001b[0;34m.\u001b[0m\u001b[0mappend\u001b[0m\u001b[0;34m(\u001b[0m\u001b[0mline\u001b[0m\u001b[0;34m)\u001b[0m\u001b[0;34m\u001b[0m\u001b[0m\n",
      "\u001b[0;32m~/dev/py/nlpy/env/lib/python3.5/site-packages/matplotlib/axes/_base.py\u001b[0m in \u001b[0;36m_grab_next_args\u001b[0;34m(self, *args, **kwargs)\u001b[0m\n\u001b[1;32m    391\u001b[0m                 \u001b[0mthis\u001b[0m \u001b[0;34m+=\u001b[0m \u001b[0margs\u001b[0m\u001b[0;34m[\u001b[0m\u001b[0;36m0\u001b[0m\u001b[0;34m]\u001b[0m\u001b[0;34m,\u001b[0m\u001b[0;34m\u001b[0m\u001b[0m\n\u001b[1;32m    392\u001b[0m                 \u001b[0margs\u001b[0m \u001b[0;34m=\u001b[0m \u001b[0margs\u001b[0m\u001b[0;34m[\u001b[0m\u001b[0;36m1\u001b[0m\u001b[0;34m:\u001b[0m\u001b[0;34m]\u001b[0m\u001b[0;34m\u001b[0m\u001b[0m\n\u001b[0;32m--> 393\u001b[0;31m             \u001b[0;32myield\u001b[0m \u001b[0;32mfrom\u001b[0m \u001b[0mself\u001b[0m\u001b[0;34m.\u001b[0m\u001b[0m_plot_args\u001b[0m\u001b[0;34m(\u001b[0m\u001b[0mthis\u001b[0m\u001b[0;34m,\u001b[0m \u001b[0mkwargs\u001b[0m\u001b[0;34m)\u001b[0m\u001b[0;34m\u001b[0m\u001b[0m\n\u001b[0m\u001b[1;32m    394\u001b[0m \u001b[0;34m\u001b[0m\u001b[0m\n\u001b[1;32m    395\u001b[0m \u001b[0;34m\u001b[0m\u001b[0m\n",
      "\u001b[0;32m~/dev/py/nlpy/env/lib/python3.5/site-packages/matplotlib/axes/_base.py\u001b[0m in \u001b[0;36m_plot_args\u001b[0;34m(self, tup, kwargs)\u001b[0m\n\u001b[1;32m    368\u001b[0m             \u001b[0mx\u001b[0m\u001b[0;34m,\u001b[0m \u001b[0my\u001b[0m \u001b[0;34m=\u001b[0m \u001b[0mindex_of\u001b[0m\u001b[0;34m(\u001b[0m\u001b[0mtup\u001b[0m\u001b[0;34m[\u001b[0m\u001b[0;34m-\u001b[0m\u001b[0;36m1\u001b[0m\u001b[0;34m]\u001b[0m\u001b[0;34m)\u001b[0m\u001b[0;34m\u001b[0m\u001b[0m\n\u001b[1;32m    369\u001b[0m \u001b[0;34m\u001b[0m\u001b[0m\n\u001b[0;32m--> 370\u001b[0;31m         \u001b[0mx\u001b[0m\u001b[0;34m,\u001b[0m \u001b[0my\u001b[0m \u001b[0;34m=\u001b[0m \u001b[0mself\u001b[0m\u001b[0;34m.\u001b[0m\u001b[0m_xy_from_xy\u001b[0m\u001b[0;34m(\u001b[0m\u001b[0mx\u001b[0m\u001b[0;34m,\u001b[0m \u001b[0my\u001b[0m\u001b[0;34m)\u001b[0m\u001b[0;34m\u001b[0m\u001b[0m\n\u001b[0m\u001b[1;32m    371\u001b[0m \u001b[0;34m\u001b[0m\u001b[0m\n\u001b[1;32m    372\u001b[0m         \u001b[0;32mif\u001b[0m \u001b[0mself\u001b[0m\u001b[0;34m.\u001b[0m\u001b[0mcommand\u001b[0m \u001b[0;34m==\u001b[0m \u001b[0;34m'plot'\u001b[0m\u001b[0;34m:\u001b[0m\u001b[0;34m\u001b[0m\u001b[0m\n",
      "\u001b[0;32m~/dev/py/nlpy/env/lib/python3.5/site-packages/matplotlib/axes/_base.py\u001b[0m in \u001b[0;36m_xy_from_xy\u001b[0;34m(self, x, y)\u001b[0m\n\u001b[1;32m    229\u001b[0m         \u001b[0;32mif\u001b[0m \u001b[0mx\u001b[0m\u001b[0;34m.\u001b[0m\u001b[0mshape\u001b[0m\u001b[0;34m[\u001b[0m\u001b[0;36m0\u001b[0m\u001b[0;34m]\u001b[0m \u001b[0;34m!=\u001b[0m \u001b[0my\u001b[0m\u001b[0;34m.\u001b[0m\u001b[0mshape\u001b[0m\u001b[0;34m[\u001b[0m\u001b[0;36m0\u001b[0m\u001b[0;34m]\u001b[0m\u001b[0;34m:\u001b[0m\u001b[0;34m\u001b[0m\u001b[0m\n\u001b[1;32m    230\u001b[0m             raise ValueError(\"x and y must have same first dimension, but \"\n\u001b[0;32m--> 231\u001b[0;31m                              \"have shapes {} and {}\".format(x.shape, y.shape))\n\u001b[0m\u001b[1;32m    232\u001b[0m         \u001b[0;32mif\u001b[0m \u001b[0mx\u001b[0m\u001b[0;34m.\u001b[0m\u001b[0mndim\u001b[0m \u001b[0;34m>\u001b[0m \u001b[0;36m2\u001b[0m \u001b[0;32mor\u001b[0m \u001b[0my\u001b[0m\u001b[0;34m.\u001b[0m\u001b[0mndim\u001b[0m \u001b[0;34m>\u001b[0m \u001b[0;36m2\u001b[0m\u001b[0;34m:\u001b[0m\u001b[0;34m\u001b[0m\u001b[0m\n\u001b[1;32m    233\u001b[0m             raise ValueError(\"x and y can be no greater than 2-D, but have \"\n",
      "\u001b[0;31mValueError\u001b[0m: x and y must have same first dimension, but have shapes (11,) and (4,)"
     ]
    },
    {
     "data": {
      "image/png": "[encoded data removed]",
      "text/plain": [
       "<Figure size 432x288 with 1 Axes>"
      ]
     },
     "metadata": {
      "needs_background": "light"
     },
     "output_type": "display_data"
    }
   ],
   "source": [
    "# Show graph\n",
    "from matplotlib import pyplot as plt\n",
    "x = range(start, limit, step)\n",
    "plt.plot(x, coherence_values)\n",
    "plt.xlabel(\"Num Topics\")\n",
    "plt.ylabel(\"Coherence score\")\n",
    "plt.legend((\"coherence_values\"), loc='best')\n",
    "plt.show()\n"
   ]
  },
  {
   "cell_type": "markdown",
   "metadata": {
    "heading_collapsed": true
   },
   "source": [
    "# TODO: OLD"
   ]
  },
  {
   "cell_type": "markdown",
   "metadata": {
    "heading_collapsed": true,
    "hidden": true
   },
   "source": [
    "## Running LDA/LSI using Bag of Words"
   ]
  },
  {
   "cell_type": "code",
   "execution_count": null,
   "metadata": {
    "hidden": true
   },
   "outputs": [],
   "source": [
    "# Create Gensim LDA and LSI models using BOW corpus.\n",
    "\n",
    "from gensim import models, corpora\n",
    "\n",
    "NUM_TOPICS = 30\n",
    "\n",
    "# Build a Dictionary - association word to numeric id\n",
    "dictionary = corpora.Dictionary(data_words)\n",
    "\n",
    "# Gensim filter_extremes\n",
    "# dictionary.filter_extremes(no_below=15, no_above=0.5, keep_n=100000)\n",
    "\n",
    "# Transform the collection of texts to a numerical form\n",
    "bow_corpus = [dictionary.doc2bow(text) for text in data_words]\n",
    " \n",
    "# Have a look at how the 10th document looks like: [(word_id, count), ...]\n",
    "# e.g: [(12, 3), (14, 1), (21, 1), (25, 5), (30, 2), (31, 5), (33, 1), (42, 1), (43, 2),  ...\n",
    "doc_id = 10\n",
    "print(data_words[doc_id])\n",
    "print(bow_corpus[doc_id])\n",
    "\n",
    "# Build the LDA model (Latent Dirichlet Allocation)\n",
    "lda_model_bow = gensim.models.LdaMulticore(corpus=bow_corpus, num_topics=NUM_TOPICS, id2word=dictionary, passes=2, workers=4)\n",
    "\n",
    "# Build the LSI model (Latent Semantic Analysis or Latent Semantic Indexing)\n",
    "lsi_model_bow = models.LsiModel(corpus=bow_corpus, num_topics=NUM_TOPICS, id2word=dictionary)"
   ]
  },
  {
   "cell_type": "code",
   "execution_count": null,
   "metadata": {
    "hidden": true
   },
   "outputs": [],
   "source": [
    "# For each topic, print the first 5 most representative topics.\n",
    "\n",
    "print(\"LDA Model (bow):\")\n",
    "print(\"=\" * 20)\n",
    "for idx in range(NUM_TOPICS):\n",
    "    # Print the first 5 most representative topics\n",
    "    print(\"Topic %s:\" % idx, lda_model_bow.print_topic(idx, 5)) \n",
    "\n",
    "print()\n",
    "\n",
    "print(\"LSI Model (bow):\")\n",
    "print(\"=\" * 20)\n",
    "for idx in range(NUM_TOPICS):\n",
    "    # Print the first 5 most representative topics\n",
    "    print(\"Topic %s:\" % idx, lsi_model_bow.print_topic(idx, 5))\n"
   ]
  },
  {
   "cell_type": "code",
   "execution_count": null,
   "metadata": {
    "hidden": true
   },
   "outputs": [],
   "source": [
    "# Let’s now put the models to work and transform unseen documents to their topic distribution:\n",
    "\n",
    "texts = [\n",
    "    \"A men found killed in the park.\", \n",
    "    \"A woman was raped in the park.\"\n",
    "]\n",
    "\n",
    "for text in texts:\n",
    "    print()\n",
    "    print(text)\n",
    "    \n",
    "    bow = dictionary.doc2bow(preprocess(text))\n",
    "\n",
    "    # print(lda_model[bow])\n",
    "    # [(0, 0.020005183), (1, 0.020005869), (2, 0.02000626), (3, 0.020005472), (4, 0.020009108), (5, 0.020005926), (6, 0.81994385), (7, 0.020006068), (8, 0.020006327), (9, 0.020005994)]\n",
    "    # print(max(lda_model[bow], key=lambda item:item[1]))\n",
    "    print('lda:', sorted(lda_model_bow[bow], key=lambda item:item[1], reverse=True)[:3])\n",
    "\n",
    "    # print(lsi_model[bow])\n",
    "    # [(0, 0.091615426138426506), (1, -0.0085557463300508351), (2, 0.016744863677828108), (3, 0.040508186718598529), (4, 0.014201267714185898), (5, -0.012208538275305329), (6, 0.031254053085582149), (7, 0.017529584659403553), (8, 0.056957633371540077), (9, 0.025989149894888153)]\n",
    "    print('lsi:', sorted(lsi_model_bow[bow], key=lambda item:item[1], reverse=True)[:3])"
   ]
  },
  {
   "cell_type": "markdown",
   "metadata": {
    "heading_collapsed": true,
    "hidden": true
   },
   "source": [
    "## Running LDA/LSI using TF-IDF"
   ]
  },
  {
   "cell_type": "code",
   "execution_count": null,
   "metadata": {
    "hidden": true
   },
   "outputs": [],
   "source": [
    "tfidf = models.TfidfModel(bow_corpus)\n",
    "tfidf_corpus = tfidf[bow_corpus]\n",
    "\n",
    "# Build the LDA model (Latent Dirichlet Allocation)\n",
    "lda_model_tfidf = gensim.models.LdaMulticore(corpus=tfidf_corpus, num_topics=NUM_TOPICS, id2word=dictionary, passes=2, workers=4)\n",
    "\n",
    "# Build the LSI model (Latent Semantic Analysis or Latent Semantic Indexing)\n",
    "lsi_model_tfidf = models.LsiModel(corpus=tfidf_corpus, num_topics=NUM_TOPICS, id2word=dictionary)"
   ]
  },
  {
   "cell_type": "code",
   "execution_count": null,
   "metadata": {
    "hidden": true
   },
   "outputs": [],
   "source": [
    "# For each topic, print the first 5 most representative topics.\n",
    "\n",
    "print(\"LDA Model (tfidf):\")\n",
    "print(\"=\" * 20)\n",
    "for idx in range(NUM_TOPICS):\n",
    "    # Print the first 5 most representative topics\n",
    "    print(\"Topic %s:\" % idx, lda_model_tfidf.print_topic(idx, 5)) \n",
    "\n",
    "print()\n",
    "\n",
    "print(\"LSI Model (tfidf):\")\n",
    "print(\"=\" * 20)\n",
    "for idx in range(NUM_TOPICS):\n",
    "    # Print the first 5 most representative topics\n",
    "    print(\"Topic %s:\" % idx, lsi_model_tfidf.print_topic(idx, 5))\n"
   ]
  },
  {
   "cell_type": "markdown",
   "metadata": {
    "heading_collapsed": true,
    "hidden": true
   },
   "source": [
    "## Using Scikit-Learn for Topic Modeling"
   ]
  },
  {
   "cell_type": "code",
   "execution_count": null,
   "metadata": {
    "hidden": true
   },
   "outputs": [],
   "source": [
    "from sklearn.decomposition import NMF, LatentDirichletAllocation, TruncatedSVD\n",
    "from sklearn.feature_extraction.text import CountVectorizer\n",
    "\n",
    "import nltk.stem\n",
    "stemmer = nltk.stem.SnowballStemmer('english')\n",
    "\n",
    "class StemmedCountVectorizer(CountVectorizer):\n",
    "    def build_analyzer(self):\n",
    "        analyzer = super(StemmedCountVectorizer, self).build_analyzer()\n",
    "        return lambda doc: ([stemmer.stem(w) for w in analyzer(doc)])\n",
    "\n",
    "# vectorizer = StemmedCountVectorizer(\n",
    "#     analyzer=\"word\", \n",
    "#     min_df=5, max_df=0.9, \n",
    "#     stop_words='english', lowercase=True, \n",
    "#     token_pattern='[a-zA-Z\\-][a-zA-Z\\-]{2,}')\n",
    "\n",
    "vectorizer = CountVectorizer(strip_accents = 'unicode',\n",
    "                                stop_words = 'english',\n",
    "                                lowercase = True,\n",
    "                                token_pattern = r'\\b[a-zA-Z]{3,}\\b',\n",
    "                                ngram_range = (1,2), \n",
    "                                min_df = 20,\n",
    "                                max_df = 1.0)\n",
    "\n",
    "data_vectorized = vectorizer.fit_transform(data)\n",
    "\n",
    "# vectorizer = CountVectorizer(\n",
    "#     min_df=5, max_df=0.9, \n",
    "#     stop_words='english', lowercase=True, \n",
    "#     token_pattern='[a-zA-Z\\-][a-zA-Z\\-]{2,}')\n",
    "# data_vectorized = vectorizer.fit_transform(data)\n",
    "\n",
    "# Build a Latent Dirichlet Allocation Model\n",
    "lda_model = LatentDirichletAllocation(n_components=NUM_TOPICS, max_iter=10, learning_method='online')\n",
    "lda_Z = lda_model.fit_transform(data_vectorized)\n",
    "print(lda_Z.shape)  # (NO_DOCUMENTS, NO_TOPICS)\n",
    " \n",
    "# Build a Non-Negative Matrix Factorization Model\n",
    "nmf_model = NMF(n_components=NUM_TOPICS)\n",
    "nmf_Z = nmf_model.fit_transform(data_vectorized)\n",
    "print(nmf_Z.shape)  # (NO_DOCUMENTS, NO_TOPICS)\n",
    " \n",
    "# Build a Latent Semantic Indexing Model\n",
    "lsi_model = TruncatedSVD(n_components=NUM_TOPICS)\n",
    "lsi_Z = lsi_model.fit_transform(data_vectorized)\n",
    "print(lsi_Z.shape)  # (NO_DOCUMENTS, NO_TOPICS)\n",
    " \n",
    " \n",
    "# Let's see how the first document in the corpus looks like in different topic spaces\n",
    "print(lda_Z[0])\n",
    "print(nmf_Z[0])\n",
    "print(lsi_Z[0])"
   ]
  },
  {
   "cell_type": "code",
   "execution_count": null,
   "metadata": {
    "hidden": true
   },
   "outputs": [],
   "source": [
    "def print_topics(model, vectorizer, top_n=6):\n",
    "    for idx, topic in enumerate(model.components_):\n",
    "        print()\n",
    "        print(\"Topic %d:\" % (idx))\n",
    "        print([(vectorizer.get_feature_names()[i], topic[i])\n",
    "                        for i in topic.argsort()[:-top_n - 1:-1]])\n",
    "\n",
    "print(\"LDA Model:\")\n",
    "print(\"=\" * 20)\n",
    "print_topics(lda_model, vectorizer)\n",
    " \n",
    "print()\n",
    "print(\"NMF Model:\")\n",
    "print(\"=\" * 20)\n",
    "print_topics(nmf_model, vectorizer)\n",
    "\n",
    "print()\n",
    "print(\"LSI Model:\")\n",
    "print(\"=\" * 20)\n",
    "print_topics(lsi_model, vectorizer)"
   ]
  },
  {
   "cell_type": "code",
   "execution_count": null,
   "metadata": {
    "hidden": true
   },
   "outputs": [],
   "source": [
    "# Transforming an unseen document\n",
    "texts = [\n",
    "    \"A men found killed in the park.\", \n",
    "    \"A woman was raped in the park.\"\n",
    "]\n",
    "\n",
    "for text in texts:\n",
    "    print()\n",
    "    print(text)\n",
    "    x = nmf_model.transform(vectorizer.transform([text]))[0]\n",
    "    print(x)"
   ]
  },
  {
   "cell_type": "markdown",
   "metadata": {
    "hidden": true
   },
   "source": [
    "## Plotting words and documents in 2D with SVD"
   ]
  },
  {
   "cell_type": "code",
   "execution_count": null,
   "metadata": {
    "hidden": true
   },
   "outputs": [],
   "source": [
    "import pandas as pd\n",
    "from bokeh.io import push_notebook, show, output_notebook\n",
    "from bokeh.plotting import figure\n",
    "from bokeh.models import ColumnDataSource, LabelSet\n",
    "output_notebook()"
   ]
  },
  {
   "cell_type": "code",
   "execution_count": null,
   "metadata": {
    "hidden": true
   },
   "outputs": [],
   "source": [
    "# plot documents in 2D\n",
    "svd = TruncatedSVD(n_components=2)\n",
    "documents_2d = svd.fit_transform(data_vectorized)\n",
    " \n",
    "df = pd.DataFrame(columns=['x', 'y', 'document'])\n",
    "df['x'], df['y'], df['document'] = documents_2d[:,0], documents_2d[:,1], range(len(data))\n",
    " \n",
    "source = ColumnDataSource(ColumnDataSource.from_df(df))\n",
    "labels = LabelSet(x=\"x\", y=\"y\", text=\"document\", y_offset=8,\n",
    "                  text_font_size=\"8pt\", text_color=\"#555555\",\n",
    "                  source=source, text_align='center')\n",
    " \n",
    "plot = figure(plot_width=600, plot_height=600)\n",
    "plot.circle(\"x\", \"y\", size=12, source=source, line_color=\"black\", fill_alpha=0.8)\n",
    "# plot.add_layout(labels)\n",
    "show(plot, notebook_handle=True)"
   ]
  },
  {
   "cell_type": "code",
   "execution_count": null,
   "metadata": {
    "hidden": true
   },
   "outputs": [],
   "source": [
    "# display words in 2D we just need to transpose the vectorized data: \n",
    "# words_2d = svd.fit_transform(data_vectorized.T).\n",
    "\n",
    "svd = TruncatedSVD(n_components=2)\n",
    "words_2d = svd.fit_transform(data_vectorized.T)\n",
    " \n",
    "df = pd.DataFrame(columns=['x', 'y', 'word'])\n",
    "df['x'], df['y'], df['word'] = words_2d[:,0], words_2d[:,1], vectorizer.get_feature_names()\n",
    " \n",
    "source = ColumnDataSource(ColumnDataSource.from_df(df))\n",
    "labels = LabelSet(x=\"x\", y=\"y\", text=\"word\", y_offset=8,\n",
    "                  text_font_size=\"8pt\", text_color=\"#555555\",\n",
    "                  source=source, text_align='center')\n",
    " \n",
    "plot = figure(plot_width=600, plot_height=600)\n",
    "plot.circle(\"x\", \"y\", size=12, source=source, line_color=\"black\", fill_alpha=0.8)\n",
    "plot.add_layout(labels)\n",
    "show(plot, notebook_handle=True)"
   ]
  },
  {
   "cell_type": "code",
   "execution_count": null,
   "metadata": {
    "hidden": true
   },
   "outputs": [],
   "source": [
    "# lda\n",
    "\n",
    "from sklearn.decomposition import LatentDirichletAllocation\n",
    "from sklearn.feature_extraction.text import CountVectorizer, TfidfVectorizer\n",
    " \n",
    "NUM_TOPICS = 40\n",
    "\n",
    "stem = False\n",
    "\n",
    "if stem:\n",
    "    vectorizer = StemmedCountVectorizer(\n",
    "        analyzer=\"word\", \n",
    "        min_df=5, max_df=0.9, \n",
    "        stop_words='english', lowercase=True, \n",
    "        token_pattern='[a-zA-Z\\-][a-zA-Z\\-]{2,}')\n",
    "else:\n",
    "#     vectorizer = TfidfVectorizer(\n",
    "#         min_df=5, max_df=0.9, \n",
    "#         stop_words='english', lowercase=True, \n",
    "#         token_pattern='[a-zA-Z\\-][a-zA-Z\\-]{2,}')\n",
    "\n",
    "#     vectorizer = CountVectorizer(strip_accents = 'unicode',\n",
    "    vectorizer = TfidfVectorizer(strip_accents = 'unicode',\n",
    "                                    stop_words = 'english',\n",
    "                                    lowercase = True,\n",
    "                                    token_pattern = r'\\b[a-zA-Z]{3,}\\b',\n",
    "                                    ngram_range = (1,2), \n",
    "                                    min_df = 20,\n",
    "                                    max_df = 1.0)\n",
    "\n",
    "data_vectorized = vectorizer.fit_transform(data)\n",
    " \n",
    "# Build a Latent Dirichlet Allocation Model\n",
    "lda_model = LatentDirichletAllocation(n_components=NUM_TOPICS, max_iter=10, learning_method='online')\n",
    "lda_Z = lda_model.fit_transform(data_vectorized)\n",
    "\n",
    "# Transforming an unseen document\n",
    "texts = [\n",
    "    \"A men found killed in the park.\", \n",
    "    \"A woman was raped in the park.\"\n",
    "]\n",
    "\n",
    "for text in texts:\n",
    "    print()\n",
    "    print(text)\n",
    "    x = lda_model.transform(vectorizer.transform([text]))[0]\n",
    "    print(x, x.sum())"
   ]
  },
  {
   "cell_type": "code",
   "execution_count": null,
   "metadata": {
    "hidden": true
   },
   "outputs": [],
   "source": [
    "import pyLDAvis.sklearn\n",
    "pyLDAvis.enable_notebook()\n",
    "panel = pyLDAvis.sklearn.prepare(lda_model, data_vectorized, vectorizer, mds='tsne')\n",
    "panel"
   ]
  }
 ],
 "metadata": {
  "kernelspec": {
   "display_name": "env",
   "language": "python",
   "name": "env"
  },
  "language_info": {
   "codemirror_mode": {
    "name": "ipython",
    "version": 3
   },
   "file_extension": ".py",
   "mimetype": "text/x-python",
   "name": "python",
   "nbconvert_exporter": "python",
   "pygments_lexer": "ipython3",
   "version": "3.5.2"
  },
  "latex_envs": {
   "LaTeX_envs_menu_present": true,
   "autoclose": false,
   "autocomplete": true,
   "bibliofile": "biblio.bib",
   "cite_by": "apalike",
   "current_citInitial": 1,
   "eqLabelWithNumbers": true,
   "eqNumInitial": 1,
   "hotkeys": {
    "equation": "Ctrl-E",
    "itemize": "Ctrl-I"
   },
   "labels_anchors": false,
   "latex_user_defs": false,
   "report_style_numbering": false,
   "user_envs_cfg": false
  }
 },
 "nbformat": 4,
 "nbformat_minor": 2
}
