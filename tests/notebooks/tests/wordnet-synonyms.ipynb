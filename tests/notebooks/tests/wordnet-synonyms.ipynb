{
 "cells": [
  {
   "cell_type": "code",
   "execution_count": 4,
   "metadata": {},
   "outputs": [
    {
     "name": "stdout",
     "output_type": "stream",
     "text": [
      "Meaning 0 NLTK ID: <bound method Synset.name of Synset('shooting.n.01')>\n",
      "Meaning 1 NLTK ID: <bound method Synset.name of Synset('shooting.n.02')>\n",
      "Meaning 2 NLTK ID: <bound method Synset.name of Synset('shoot.v.01')>\n",
      "Meaning 3 NLTK ID: <bound method Synset.name of Synset('shoot.v.02')>\n",
      "Meaning 4 NLTK ID: <bound method Synset.name of Synset('blast.v.07')>\n",
      "Meaning 5 NLTK ID: <bound method Synset.name of Synset('film.v.01')>\n",
      "Meaning 6 NLTK ID: <bound method Synset.name of Synset('shoot.v.05')>\n",
      "Meaning 7 NLTK ID: <bound method Synset.name of Synset('dart.v.02')>\n",
      "Meaning 8 NLTK ID: <bound method Synset.name of Synset('tear.v.03')>\n",
      "Meaning 9 NLTK ID: <bound method Synset.name of Synset('shoot.v.08')>\n",
      "Meaning 10 NLTK ID: <bound method Synset.name of Synset('photograph.v.01')>\n",
      "Meaning 11 NLTK ID: <bound method Synset.name of Synset('shoot.v.10')>\n",
      "Meaning 12 NLTK ID: <bound method Synset.name of Synset('shoot.v.11')>\n",
      "Meaning 13 NLTK ID: <bound method Synset.name of Synset('inject.v.03')>\n",
      "Meaning 14 NLTK ID: <bound method Synset.name of Synset('shoot.v.13')>\n",
      "Meaning 15 NLTK ID: <bound method Synset.name of Synset('shoot.v.14')>\n",
      "Meaning 16 NLTK ID: <bound method Synset.name of Synset('fritter.v.01')>\n",
      "Meaning 17 NLTK ID: <bound method Synset.name of Synset('shoot.v.16')>\n",
      "Meaning 18 NLTK ID: <bound method Synset.name of Synset('shoot.v.17')>\n",
      "Meaning 19 NLTK ID: <bound method Synset.name of Synset('shoot.v.18')>\n",
      "Meaning 20 NLTK ID: <bound method Synset.name of Synset('shoot.v.19')>\n",
      "Meaning 21 NLTK ID: <bound method Synset.name of Synset('inject.v.01')>\n"
     ]
    }
   ],
   "source": [
    "from nltk.corpus import wordnet as wn\n",
    "for i,j in enumerate(wn.synsets('shooting')):\n",
    "  print(\"Meaning\",i, \"NLTK ID:\", j.name)\n",
    "#   print(\"Definition:\",j.definition)"
   ]
  },
  {
   "cell_type": "code",
   "execution_count": 11,
   "metadata": {},
   "outputs": [
    {
     "data": {
      "text/plain": [
       "[Synset('open_fire.v.01'),\n",
       " Synset('fire.v.02'),\n",
       " Synset('fire.v.03'),\n",
       " Synset('displace.v.03'),\n",
       " Synset('fire.v.05'),\n",
       " Synset('fire.v.06'),\n",
       " Synset('arouse.v.01'),\n",
       " Synset('burn.v.01'),\n",
       " Synset('fuel.v.02'),\n",
       " Synset('discharged.s.01')]"
      ]
     },
     "execution_count": 11,
     "metadata": {},
     "output_type": "execute_result"
    }
   ],
   "source": [
    "wordnet.synsets('fired')"
   ]
  }
 ],
 "metadata": {
  "kernelspec": {
   "display_name": "env",
   "language": "python",
   "name": "env"
  },
  "language_info": {
   "codemirror_mode": {
    "name": "ipython",
    "version": 3
   },
   "file_extension": ".py",
   "mimetype": "text/x-python",
   "name": "python",
   "nbconvert_exporter": "python",
   "pygments_lexer": "ipython3",
   "version": "3.5.2"
  },
  "latex_envs": {
   "LaTeX_envs_menu_present": true,
   "autoclose": false,
   "autocomplete": true,
   "bibliofile": "biblio.bib",
   "cite_by": "apalike",
   "current_citInitial": 1,
   "eqLabelWithNumbers": true,
   "eqNumInitial": 1,
   "hotkeys": {
    "equation": "Ctrl-E",
    "itemize": "Ctrl-I"
   },
   "labels_anchors": false,
   "latex_user_defs": false,
   "report_style_numbering": false,
   "user_envs_cfg": false
  }
 },
 "nbformat": 4,
 "nbformat_minor": 2
}
