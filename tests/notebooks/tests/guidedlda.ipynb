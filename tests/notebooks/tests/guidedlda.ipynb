{
 "cells": [
  {
   "cell_type": "code",
   "execution_count": 1,
   "metadata": {},
   "outputs": [
    {
     "name": "stderr",
     "output_type": "stream",
     "text": [
      "INFO:guidedlda:n_documents: 8447\n",
      "INFO:guidedlda:vocab_size: 3012\n",
      "INFO:guidedlda:n_words: 1221626\n",
      "INFO:guidedlda:n_topics: 5\n",
      "INFO:guidedlda:n_iter: 100\n",
      "WARNING:guidedlda:all zero column in document-term matrix found\n"
     ]
    },
    {
     "name": "stdout",
     "output_type": "stream",
     "text": [
      "(8447, 3012)\n",
      "1221626\n"
     ]
    },
    {
     "name": "stderr",
     "output_type": "stream",
     "text": [
      "INFO:guidedlda:<0> log likelihood: -11489265\n",
      "INFO:guidedlda:<20> log likelihood: -9844667\n",
      "INFO:guidedlda:<40> log likelihood: -9694223\n",
      "INFO:guidedlda:<60> log likelihood: -9642506\n",
      "INFO:guidedlda:<80> log likelihood: -9617962\n",
      "INFO:guidedlda:<99> log likelihood: -9604031\n",
      "INFO:guidedlda:n_documents: 8447\n",
      "INFO:guidedlda:vocab_size: 3012\n",
      "INFO:guidedlda:n_words: 1221626\n",
      "INFO:guidedlda:n_topics: 5\n",
      "INFO:guidedlda:n_iter: 100\n",
      "WARNING:guidedlda:all zero column in document-term matrix found\n"
     ]
    },
    {
     "name": "stdout",
     "output_type": "stream",
     "text": [
      "Topic 0: company percent market business plan pay price increase\n",
      "Topic 1: game play team win player season second start\n",
      "Topic 2: life child write man school woman father family\n",
      "Topic 3: place open small house music turn large play\n",
      "Topic 4: official state government political states issue leader case\n"
     ]
    },
    {
     "name": "stderr",
     "output_type": "stream",
     "text": [
      "INFO:guidedlda:<0> log likelihood: -11486372\n",
      "INFO:guidedlda:<20> log likelihood: -9765300\n",
      "INFO:guidedlda:<40> log likelihood: -9659651\n",
      "INFO:guidedlda:<60> log likelihood: -9622617\n",
      "INFO:guidedlda:<80> log likelihood: -9604295\n",
      "INFO:guidedlda:<99> log likelihood: -9592268\n"
     ]
    },
    {
     "name": "stdout",
     "output_type": "stream",
     "text": [
      "Topic 0: game play team win season player second point start victory\n",
      "Topic 1: company percent market price business sell pay plan executive buy\n",
      "Topic 2: play life man music place turn book woman write thing\n",
      "Topic 3: official government state political leader states issue member case country\n",
      "Topic 4: school child city family problem student life program group state\n"
     ]
    }
   ],
   "source": [
    "import numpy as np\n",
    "import guidedlda\n",
    "\n",
    "X = guidedlda.datasets.load_data(guidedlda.datasets.NYT)\n",
    "vocab = guidedlda.datasets.load_vocab(guidedlda.datasets.NYT)\n",
    "word2id = dict((v, idx) for idx, v in enumerate(vocab))\n",
    "\n",
    "print(X.shape)\n",
    "\n",
    "print(X.sum())\n",
    "# Normal LDA without seeding\n",
    "model = guidedlda.GuidedLDA(n_topics=5, n_iter=100, random_state=7, refresh=20)\n",
    "model.fit(X)\n",
    "\n",
    "topic_word = model.topic_word_\n",
    "n_top_words = 8\n",
    "for i, topic_dist in enumerate(topic_word):\n",
    "    topic_words = np.array(vocab)[np.argsort(topic_dist)][:-(n_top_words+1):-1]\n",
    "    print('Topic {}: {}'.format(i, ' '.join(topic_words)))\n",
    "\n",
    "\n",
    "# Guided LDA with seed topics.\n",
    "seed_topic_list = [['game', 'team', 'win', 'player', 'season', 'second', 'victory'],\n",
    "                   ['percent', 'company', 'market', 'price', 'sell', 'business', 'stock', 'share'],\n",
    "                   ['music', 'write', 'art', 'book', 'world', 'film'],\n",
    "                   ['political', 'government', 'leader', 'official', 'state', 'country', 'american', 'case', 'law', 'police', 'charge', 'officer', 'kill', 'arrest', 'lawyer']]\n",
    "\n",
    "model = guidedlda.GuidedLDA(n_topics=5, n_iter=100, random_state=7, refresh=20)\n",
    "\n",
    "seed_topics = {}\n",
    "for t_id, st in enumerate(seed_topic_list):\n",
    "    for word in st:\n",
    "        seed_topics[word2id[word]] = t_id\n",
    "\n",
    "model.fit(X, seed_topics=seed_topics, seed_confidence=0.15)\n",
    "\n",
    "n_top_words = 10\n",
    "topic_word = model.topic_word_\n",
    "for i, topic_dist in enumerate(topic_word):\n",
    "    topic_words = np.array(vocab)[np.argsort(topic_dist)][:-(n_top_words+1):-1]\n",
    "    print('Topic {}: {}'.format(i, ' '.join(topic_words)))\n"
   ]
  }
 ],
 "metadata": {
  "kernelspec": {
   "display_name": "env",
   "language": "python",
   "name": "env"
  },
  "language_info": {
   "codemirror_mode": {
    "name": "ipython",
    "version": 3
   },
   "file_extension": ".py",
   "mimetype": "text/x-python",
   "name": "python",
   "nbconvert_exporter": "python",
   "pygments_lexer": "ipython3",
   "version": "3.5.2"
  },
  "latex_envs": {
   "LaTeX_envs_menu_present": true,
   "autoclose": false,
   "autocomplete": true,
   "bibliofile": "biblio.bib",
   "cite_by": "apalike",
   "current_citInitial": 1,
   "eqLabelWithNumbers": true,
   "eqNumInitial": 1,
   "hotkeys": {
    "equation": "Ctrl-E",
    "itemize": "Ctrl-I"
   },
   "labels_anchors": false,
   "latex_user_defs": false,
   "report_style_numbering": false,
   "user_envs_cfg": false
  }
 },
 "nbformat": 4,
 "nbformat_minor": 2
}
