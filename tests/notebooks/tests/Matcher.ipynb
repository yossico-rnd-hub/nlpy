{
 "cells": [
  {
   "cell_type": "code",
   "execution_count": 35,
   "metadata": {},
   "outputs": [
    {
     "name": "stdout",
     "output_type": "stream",
     "text": [
      "KILLING : killed\n",
      "HIT_AND_RUN : hit and run\n"
     ]
    }
   ],
   "source": [
    "import spacy\n",
    "from spacy.matcher import Matcher\n",
    "\n",
    "CRIME_PHRASES = [\n",
    "    ('ADULTERY', 'adultery'),\n",
    "    ('ARSON', 'arson'),\n",
    "    ('ASSASSINATION', 'assassination'),\n",
    "    ('ASSAULT', 'assault'),\n",
    "    ('BLACKMAIL', 'blackmail'),\n",
    "    ('BRIBERY', 'bribery'),\n",
    "    ('BURGLARY', 'burglary'),\n",
    "    ('CAR_THEFT', 'car theft'),\n",
    "    ('CHILD_ABUSE', 'child abuse'),\n",
    "    ('DETH', 'dead'),\n",
    "    ('DRUGS', 'drugs'),\n",
    "    ('EMBEZZLEMENT', 'embezzlement'),\n",
    "    ('EXTORTION', 'extortion'),\n",
    "    ('FRAUD', 'fraud'),\n",
    "    ('GAMBLING', 'gambling'),\n",
    "    ('HARASSMENT', 'harassment'),\n",
    "    ('HIT_AND_RUN', 'hit and run'),\n",
    "    ('HOME_INVASION', 'home invasion'),\n",
    "    ('INJURY', 'injure'),\n",
    "    ('INJURY', 'injury'),\n",
    "    ('INTIMIDATION', 'intimidation'),\n",
    "    ('INVASION_OF_PRIVACY', 'invasion of privacy'),\n",
    "    ('KIDNAPPING', 'kidnapping'),\n",
    "    ('KIDNAPPING', 'kidnup'),\n",
    "    ('KILLING', 'killing'),\n",
    "    ('MANSLAUGHTER', 'manslaughter'),\n",
    "    ('MISSING', 'missing'),\n",
    "    ('MURDER', 'murder'),\n",
    "    ('MURDER', 'manslaughter'),\n",
    "    ('MURDER', 'homicide'),\n",
    "    ('MURDER', 'homoside'),\n",
    "    ('PERJURY', 'perjury'),\n",
    "    ('RAPE', 'rape'),\n",
    "    ('ROBBERY', 'robber'),\n",
    "    ('ROBBERY', 'robbery'),\n",
    "    ('SEXUAL_ASSAULT', 'sexual assault'),\n",
    "    ('SEXUAL_ASSAULT', 'sexual offences'),\n",
    "    ('SHOOTING', 'shooting'),\n",
    "    ('SHOOTING', 'shot'),\n",
    "    ('SMUGGLING', 'smuggling'),\n",
    "    ('SODOMY', 'sodomy'),\n",
    "    ('STABBING', 'stabbing'),\n",
    "    ('STRUCK', 'struck'),\n",
    "    ('SUICIDE', 'suicid'),\n",
    "    ('SUICIDE', 'suicide'),\n",
    "    ('THEFT', 'theft'),\n",
    "    ('THEFT', 'stolen property'),\n",
    "    ('THEFT', 'thiev'),\n",
    "    ('TORTURE', 'torture'),\n",
    "    ('TRAFFIC_VIOLATIONS', 'traffic violations'),\n",
    "]\n",
    "\n",
    "nlp = spacy.load('en_core_web_sm')\n",
    "matcher = Matcher(nlp.vocab)\n",
    "\n",
    "for label, phrase in CRIME_PHRASES:\n",
    "    doc = nlp(phrase)\n",
    "    pattern = []\n",
    "    for w in doc:\n",
    "        pattern.append({'lemma': '{}'.format(w.lemma_)})\n",
    "    matcher.add(label, None, pattern)\n",
    "    #print(\"({}, {})\".format(label, pattern))\n",
    "    \n",
    "doc = nlp(u\"A women was killed in a hit and run in central park\")\n",
    "matches = matcher(doc)\n",
    "\n",
    "for match_id, start, end in matches:\n",
    "   string_id = nlp.vocab.strings[match_id]\n",
    "   span = doc[start:end]\n",
    "   print(string_id, ':', span.text)\n"
   ]
  }
 ],
 "metadata": {
  "kernelspec": {
   "display_name": "env",
   "language": "python",
   "name": "env"
  },
  "language_info": {
   "codemirror_mode": {
    "name": "ipython",
    "version": 3
   },
   "file_extension": ".py",
   "mimetype": "text/x-python",
   "name": "python",
   "nbconvert_exporter": "python",
   "pygments_lexer": "ipython3",
   "version": "3.5.2"
  },
  "latex_envs": {
   "LaTeX_envs_menu_present": true,
   "autoclose": false,
   "autocomplete": true,
   "bibliofile": "biblio.bib",
   "cite_by": "apalike",
   "current_citInitial": 1,
   "eqLabelWithNumbers": true,
   "eqNumInitial": 1,
   "hotkeys": {
    "equation": "Ctrl-E",
    "itemize": "Ctrl-I"
   },
   "labels_anchors": false,
   "latex_user_defs": false,
   "report_style_numbering": false,
   "user_envs_cfg": false
  }
 },
 "nbformat": 4,
 "nbformat_minor": 2
}
