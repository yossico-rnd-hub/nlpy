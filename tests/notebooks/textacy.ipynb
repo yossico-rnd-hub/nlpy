{
 "cells": [
  {
   "cell_type": "code",
   "execution_count": 1,
   "metadata": {},
   "outputs": [],
   "source": [
    "import textacy"
   ]
  },
  {
   "cell_type": "code",
   "execution_count": 2,
   "metadata": {},
   "outputs": [],
   "source": [
    "text = (\n",
    "...     'Since the so-called \"statistical revolution\" in the late 1980s and mid 1990s, '\n",
    "...     'much Natural Language Processing research has relied heavily on machine learning. '\n",
    "...     'Formerly, many language-processing tasks typically involved the direct hand coding '\n",
    "...     'of rules, which is not in general robust to natural language variation. '\n",
    "...     'The machine-learning paradigm calls instead for using statistical inference '\n",
    "...     'to automatically learn such rules through the analysis of large corpora '\n",
    "...     'of typical real-world examples.')"
   ]
  },
  {
   "cell_type": "code",
   "execution_count": 3,
   "metadata": {},
   "outputs": [
    {
     "data": {
      "text/plain": [
       "'since the so called statistical revolution in the late 1980s and mid 1990s much natural language processing research has relied heavily on machine learning formerly many language processing tasks typically involved the direct hand coding of rules which is not in general robust to natural language variation the machine learning paradigm calls instead for using statistical inference to automatically learn such rules through the analysis of large corpora of typical real world examples'"
      ]
     },
     "execution_count": 3,
     "metadata": {},
     "output_type": "execute_result"
    }
   ],
   "source": [
    "textacy.preprocess_text(text, lowercase=True, no_punct=True)"
   ]
  },
  {
   "cell_type": "code",
   "execution_count": 4,
   "metadata": {},
   "outputs": [],
   "source": [
    "doc = textacy.Doc(text)"
   ]
  },
  {
   "cell_type": "code",
   "execution_count": 5,
   "metadata": {},
   "outputs": [
    {
     "data": {
      "text/plain": [
       "[1980s and mid,\n",
       " Natural Language Processing,\n",
       " Language Processing research,\n",
       " research has relied,\n",
       " heavily on machine,\n",
       " processing tasks typically,\n",
       " tasks typically involved,\n",
       " involved the direct,\n",
       " direct hand coding,\n",
       " coding of rules,\n",
       " robust to natural,\n",
       " natural language variation,\n",
       " learning paradigm calls,\n",
       " paradigm calls instead,\n",
       " inference to automatically,\n",
       " learn such rules,\n",
       " analysis of large,\n",
       " corpora of typical]"
      ]
     },
     "execution_count": 5,
     "metadata": {},
     "output_type": "execute_result"
    }
   ],
   "source": [
    "list(textacy.extract.ngrams(doc, 3, filter_stops=True, filter_punct=True, filter_nums=False))"
   ]
  },
  {
   "cell_type": "code",
   "execution_count": null,
   "metadata": {},
   "outputs": [],
   "source": []
  }
 ],
 "metadata": {
  "kernelspec": {
   "display_name": "env",
   "language": "python",
   "name": "env"
  },
  "language_info": {
   "codemirror_mode": {
    "name": "ipython",
    "version": 3
   },
   "file_extension": ".py",
   "mimetype": "text/x-python",
   "name": "python",
   "nbconvert_exporter": "python",
   "pygments_lexer": "ipython3",
   "version": "3.5.2"
  },
  "latex_envs": {
   "LaTeX_envs_menu_present": true,
   "autoclose": false,
   "autocomplete": true,
   "bibliofile": "biblio.bib",
   "cite_by": "apalike",
   "current_citInitial": 1,
   "eqLabelWithNumbers": true,
   "eqNumInitial": 1,
   "hotkeys": {
    "equation": "Ctrl-E",
    "itemize": "Ctrl-I"
   },
   "labels_anchors": false,
   "latex_user_defs": false,
   "report_style_numbering": false,
   "user_envs_cfg": false
  }
 },
 "nbformat": 4,
 "nbformat_minor": 2
}
